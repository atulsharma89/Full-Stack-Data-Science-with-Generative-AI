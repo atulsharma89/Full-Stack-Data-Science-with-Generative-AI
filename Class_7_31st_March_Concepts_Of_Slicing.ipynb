{
 "cells": [
  {
   "cell_type": "code",
   "execution_count": 1,
   "id": "956e57d9",
   "metadata": {},
   "outputs": [
    {
     "data": {
      "text/plain": [
       "'TH'"
      ]
     },
     "execution_count": 1,
     "metadata": {},
     "output_type": "execute_result"
    }
   ],
   "source": [
    "#using positive and negative slicing\n",
    "\n",
    "s = \"PYTHON\"\n",
    "\n",
    "s[-4:4]"
   ]
  },
  {
   "cell_type": "code",
   "execution_count": 6,
   "id": "70e864ca",
   "metadata": {},
   "outputs": [
    {
     "data": {
      "text/plain": [
       "'TH'"
      ]
     },
     "execution_count": 6,
     "metadata": {},
     "output_type": "execute_result"
    }
   ],
   "source": [
    "s[-4:-2]"
   ]
  },
  {
   "cell_type": "code",
   "execution_count": 2,
   "id": "87378773",
   "metadata": {},
   "outputs": [
    {
     "data": {
      "text/plain": [
       "'T'"
      ]
     },
     "execution_count": 2,
     "metadata": {},
     "output_type": "execute_result"
    }
   ],
   "source": [
    "s[-4:4:2]"
   ]
  },
  {
   "cell_type": "code",
   "execution_count": 4,
   "id": "a37e4770",
   "metadata": {},
   "outputs": [
    {
     "data": {
      "text/plain": [
       "''"
      ]
     },
     "execution_count": 4,
     "metadata": {},
     "output_type": "execute_result"
    }
   ],
   "source": [
    "s[-4:0:1]"
   ]
  },
  {
   "cell_type": "code",
   "execution_count": 7,
   "id": "37de5837",
   "metadata": {},
   "outputs": [
    {
     "data": {
      "text/plain": [
       "''"
      ]
     },
     "execution_count": 7,
     "metadata": {},
     "output_type": "execute_result"
    }
   ],
   "source": [
    "s[2:0]"
   ]
  },
  {
   "cell_type": "code",
   "execution_count": 8,
   "id": "cb14d925",
   "metadata": {},
   "outputs": [
    {
     "data": {
      "text/plain": [
       "''"
      ]
     },
     "execution_count": 8,
     "metadata": {},
     "output_type": "execute_result"
    }
   ],
   "source": [
    "s[-4:-6]"
   ]
  },
  {
   "cell_type": "code",
   "execution_count": 9,
   "id": "c53535f5",
   "metadata": {},
   "outputs": [
    {
     "data": {
      "text/plain": [
       "'TY'"
      ]
     },
     "execution_count": 9,
     "metadata": {},
     "output_type": "execute_result"
    }
   ],
   "source": [
    "s[-4:-6:-1]"
   ]
  },
  {
   "cell_type": "code",
   "execution_count": 12,
   "id": "28a3dbdb",
   "metadata": {},
   "outputs": [
    {
     "data": {
      "text/plain": [
       "'THON'"
      ]
     },
     "execution_count": 12,
     "metadata": {},
     "output_type": "execute_result"
    }
   ],
   "source": [
    "s[-4:6]"
   ]
  },
  {
   "cell_type": "code",
   "execution_count": 11,
   "id": "416e03ec",
   "metadata": {},
   "outputs": [
    {
     "data": {
      "text/plain": [
       "'NOHTYP'"
      ]
     },
     "execution_count": 11,
     "metadata": {},
     "output_type": "execute_result"
    }
   ],
   "source": [
    "# Default value of negative stride\n",
    "\n",
    "#reversing a string\n",
    "\n",
    "s[::-1]"
   ]
  },
  {
   "cell_type": "code",
   "execution_count": 13,
   "id": "389a0784",
   "metadata": {},
   "outputs": [
    {
     "data": {
      "text/plain": [
       "'NO'"
      ]
     },
     "execution_count": 13,
     "metadata": {},
     "output_type": "execute_result"
    }
   ],
   "source": [
    "s[:3:-1]"
   ]
  },
  {
   "cell_type": "code",
   "execution_count": 14,
   "id": "292e0916",
   "metadata": {},
   "outputs": [
    {
     "data": {
      "text/plain": [
       "'N'"
      ]
     },
     "execution_count": 14,
     "metadata": {},
     "output_type": "execute_result"
    }
   ],
   "source": [
    "s[:4:-1]"
   ]
  },
  {
   "cell_type": "code",
   "execution_count": 15,
   "id": "0aa6c23d",
   "metadata": {},
   "outputs": [
    {
     "data": {
      "text/plain": [
       "'TYP'"
      ]
     },
     "execution_count": 15,
     "metadata": {},
     "output_type": "execute_result"
    }
   ],
   "source": [
    "s[2::-1]"
   ]
  },
  {
   "cell_type": "markdown",
   "id": "cd44ea49",
   "metadata": {},
   "source": [
    "# nested slicing"
   ]
  },
  {
   "cell_type": "code",
   "execution_count": 18,
   "id": "09b826df",
   "metadata": {},
   "outputs": [
    {
     "data": {
      "text/plain": [
       "'PYTHON'"
      ]
     },
     "execution_count": 18,
     "metadata": {},
     "output_type": "execute_result"
    }
   ],
   "source": [
    "s = \"PYTHON IS GREAT\"\n",
    "\n",
    "s[0:6]"
   ]
  },
  {
   "cell_type": "code",
   "execution_count": 19,
   "id": "8efd876f",
   "metadata": {},
   "outputs": [
    {
     "data": {
      "text/plain": [
       "'PYTHON'"
      ]
     },
     "execution_count": 19,
     "metadata": {},
     "output_type": "execute_result"
    }
   ],
   "source": [
    "s2=s[0:6]\n",
    "s2"
   ]
  },
  {
   "cell_type": "code",
   "execution_count": 20,
   "id": "5509d6f1",
   "metadata": {},
   "outputs": [
    {
     "data": {
      "text/plain": [
       "'PYT'"
      ]
     },
     "execution_count": 20,
     "metadata": {},
     "output_type": "execute_result"
    }
   ],
   "source": [
    "s2[0:3]"
   ]
  },
  {
   "cell_type": "code",
   "execution_count": 21,
   "id": "52edc6e4",
   "metadata": {},
   "outputs": [
    {
     "data": {
      "text/plain": [
       "'PYT'"
      ]
     },
     "execution_count": 21,
     "metadata": {},
     "output_type": "execute_result"
    }
   ],
   "source": [
    "s[0:6][0:3]"
   ]
  },
  {
   "cell_type": "markdown",
   "id": "2d073d42",
   "metadata": {},
   "source": [
    "# Relational Operation in String\n",
    "\n",
    "# Comparison is not case sensitive \n",
    "\n",
    "# >=    >\n",
    "\n",
    "# <=    <\n",
    "# ==\n",
    "# !=\n"
   ]
  },
  {
   "cell_type": "code",
   "execution_count": 23,
   "id": "1108e752",
   "metadata": {},
   "outputs": [
    {
     "data": {
      "text/plain": [
       "False"
      ]
     },
     "execution_count": 23,
     "metadata": {},
     "output_type": "execute_result"
    }
   ],
   "source": [
    "s1=\"abc\"\n",
    "s2=\"def\"\n",
    "s3=\"abc\"\n",
    "\n",
    "s1==s2"
   ]
  },
  {
   "cell_type": "code",
   "execution_count": 24,
   "id": "c1877d2d",
   "metadata": {},
   "outputs": [
    {
     "data": {
      "text/plain": [
       "True"
      ]
     },
     "execution_count": 24,
     "metadata": {},
     "output_type": "execute_result"
    }
   ],
   "source": [
    "s1==s3"
   ]
  },
  {
   "cell_type": "code",
   "execution_count": 25,
   "id": "a94c7454",
   "metadata": {},
   "outputs": [
    {
     "data": {
      "text/plain": [
       "False"
      ]
     },
     "execution_count": 25,
     "metadata": {},
     "output_type": "execute_result"
    }
   ],
   "source": [
    "'abc'  > 'x'"
   ]
  },
  {
   "cell_type": "code",
   "execution_count": 26,
   "id": "1dea61b0",
   "metadata": {},
   "outputs": [],
   "source": [
    "#lexicographic comparison\n",
    "\n",
    "# ord [] : gives unicode value of character\n",
    "\n",
    "#ord['a']"
   ]
  },
  {
   "cell_type": "code",
   "execution_count": 28,
   "id": "1c9dadc4",
   "metadata": {},
   "outputs": [
    {
     "data": {
      "text/plain": [
       "97"
      ]
     },
     "execution_count": 28,
     "metadata": {},
     "output_type": "execute_result"
    }
   ],
   "source": [
    "ord('a')"
   ]
  },
  {
   "cell_type": "code",
   "execution_count": 30,
   "id": "8b8b592b",
   "metadata": {},
   "outputs": [
    {
     "data": {
      "text/plain": [
       "65"
      ]
     },
     "execution_count": 30,
     "metadata": {},
     "output_type": "execute_result"
    }
   ],
   "source": [
    "ord('A')"
   ]
  },
  {
   "cell_type": "code",
   "execution_count": 31,
   "id": "fdf8722d",
   "metadata": {},
   "outputs": [
    {
     "data": {
      "text/plain": [
       "120"
      ]
     },
     "execution_count": 31,
     "metadata": {},
     "output_type": "execute_result"
    }
   ],
   "source": [
    "ord('x')"
   ]
  },
  {
   "cell_type": "code",
   "execution_count": 33,
   "id": "5521842a",
   "metadata": {},
   "outputs": [
    {
     "data": {
      "text/plain": [
       "False"
      ]
     },
     "execution_count": 33,
     "metadata": {},
     "output_type": "execute_result"
    }
   ],
   "source": [
    "'abc'  > 'x'\n",
    "\n",
    "# WE TAKLE FIRST CHARACTER OF EACH STRING\n",
    "#COMPARE THIER ASCII Or Unicode value\n",
    "#whichever ASCII Value is greater, that string is greater\n",
    "#if equal keep on repeating steps\n",
    "\n",
    "\n"
   ]
  },
  {
   "cell_type": "code",
   "execution_count": 34,
   "id": "6cc0a1b2",
   "metadata": {},
   "outputs": [
    {
     "data": {
      "text/plain": [
       "True"
      ]
     },
     "execution_count": 34,
     "metadata": {},
     "output_type": "execute_result"
    }
   ],
   "source": [
    "\"xab\" >\"x\""
   ]
  },
  {
   "cell_type": "code",
   "execution_count": 35,
   "id": "2bac71d4",
   "metadata": {},
   "outputs": [
    {
     "data": {
      "text/plain": [
       "True"
      ]
     },
     "execution_count": 35,
     "metadata": {},
     "output_type": "execute_result"
    }
   ],
   "source": [
    "True > False"
   ]
  },
  {
   "cell_type": "code",
   "execution_count": 37,
   "id": "67835239",
   "metadata": {},
   "outputs": [
    {
     "data": {
      "text/plain": [
       "84"
      ]
     },
     "execution_count": 37,
     "metadata": {},
     "output_type": "execute_result"
    }
   ],
   "source": [
    "ord('T')"
   ]
  },
  {
   "cell_type": "code",
   "execution_count": 38,
   "id": "2668d70b",
   "metadata": {},
   "outputs": [
    {
     "data": {
      "text/plain": [
       "70"
      ]
     },
     "execution_count": 38,
     "metadata": {},
     "output_type": "execute_result"
    }
   ],
   "source": [
    "ord('F')"
   ]
  },
  {
   "cell_type": "code",
   "execution_count": 39,
   "id": "bcd9d896",
   "metadata": {},
   "outputs": [
    {
     "data": {
      "text/plain": [
       "True"
      ]
     },
     "execution_count": 39,
     "metadata": {},
     "output_type": "execute_result"
    }
   ],
   "source": [
    "\"true\" > \"false\""
   ]
  },
  {
   "cell_type": "code",
   "execution_count": 40,
   "id": "3380bafd",
   "metadata": {},
   "outputs": [
    {
     "data": {
      "text/plain": [
       "True"
      ]
     },
     "execution_count": 40,
     "metadata": {},
     "output_type": "execute_result"
    }
   ],
   "source": [
    "'9' > '6+4'"
   ]
  },
  {
   "cell_type": "code",
   "execution_count": 41,
   "id": "cf576be5",
   "metadata": {},
   "outputs": [
    {
     "data": {
      "text/plain": [
       "57"
      ]
     },
     "execution_count": 41,
     "metadata": {},
     "output_type": "execute_result"
    }
   ],
   "source": [
    "ord('9')"
   ]
  },
  {
   "cell_type": "code",
   "execution_count": 42,
   "id": "72143d63",
   "metadata": {},
   "outputs": [
    {
     "data": {
      "text/plain": [
       "54"
      ]
     },
     "execution_count": 42,
     "metadata": {},
     "output_type": "execute_result"
    }
   ],
   "source": [
    "ord('6')"
   ]
  },
  {
   "cell_type": "code",
   "execution_count": 43,
   "id": "2f9d7a5b",
   "metadata": {},
   "outputs": [
    {
     "data": {
      "text/plain": [
       "True"
      ]
     },
     "execution_count": 43,
     "metadata": {},
     "output_type": "execute_result"
    }
   ],
   "source": [
    "1<2<3"
   ]
  },
  {
   "cell_type": "code",
   "execution_count": 44,
   "id": "65e3b7e0",
   "metadata": {},
   "outputs": [
    {
     "data": {
      "text/plain": [
       "True"
      ]
     },
     "execution_count": 44,
     "metadata": {},
     "output_type": "execute_result"
    }
   ],
   "source": [
    "1<2 & 2<3"
   ]
  },
  {
   "cell_type": "code",
   "execution_count": 46,
   "id": "61f15ae5",
   "metadata": {},
   "outputs": [
    {
     "name": "stdout",
     "output_type": "stream",
     "text": [
      "65\n",
      "97\n",
      "66\n"
     ]
    }
   ],
   "source": [
    "print(ord('A'))\n",
    "print(ord('a'))\n",
    "print(ord('B'))"
   ]
  },
  {
   "cell_type": "code",
   "execution_count": 45,
   "id": "2d99bd35",
   "metadata": {},
   "outputs": [
    {
     "data": {
      "text/plain": [
       "False"
      ]
     },
     "execution_count": 45,
     "metadata": {},
     "output_type": "execute_result"
    }
   ],
   "source": [
    "'A' >'a'>'B'"
   ]
  },
  {
   "cell_type": "code",
   "execution_count": 47,
   "id": "a471e615",
   "metadata": {},
   "outputs": [
    {
     "data": {
      "text/plain": [
       "False"
      ]
     },
     "execution_count": 47,
     "metadata": {},
     "output_type": "execute_result"
    }
   ],
   "source": [
    "'S' ==5"
   ]
  },
  {
   "cell_type": "code",
   "execution_count": 48,
   "id": "630e9d70",
   "metadata": {},
   "outputs": [
    {
     "data": {
      "text/plain": [
       "False"
      ]
     },
     "execution_count": 48,
     "metadata": {},
     "output_type": "execute_result"
    }
   ],
   "source": [
    "'3.5' == 3.5"
   ]
  },
  {
   "cell_type": "code",
   "execution_count": 49,
   "id": "93bffa92",
   "metadata": {},
   "outputs": [
    {
     "name": "stdout",
     "output_type": "stream",
     "text": [
      "True\n",
      "True\n",
      "True\n"
     ]
    }
   ],
   "source": [
    "print(True == 1)\n",
    "print(False ==0)\n",
    "print(3.0==3)"
   ]
  },
  {
   "cell_type": "code",
   "execution_count": 51,
   "id": "c4f267c3",
   "metadata": {},
   "outputs": [
    {
     "data": {
      "text/plain": [
       "True"
      ]
     },
     "execution_count": 51,
     "metadata": {},
     "output_type": "execute_result"
    }
   ],
   "source": [
    "'A' ==\"A\""
   ]
  },
  {
   "cell_type": "code",
   "execution_count": 52,
   "id": "067e245d",
   "metadata": {},
   "outputs": [
    {
     "data": {
      "text/plain": [
       "False"
      ]
     },
     "execution_count": 52,
     "metadata": {},
     "output_type": "execute_result"
    }
   ],
   "source": [
    "\"DEL\" == \"DELETE\""
   ]
  },
  {
   "cell_type": "code",
   "execution_count": 53,
   "id": "e0c3915b",
   "metadata": {},
   "outputs": [
    {
     "data": {
      "text/plain": [
       "False"
      ]
     },
     "execution_count": 53,
     "metadata": {},
     "output_type": "execute_result"
    }
   ],
   "source": [
    "'a' ==97"
   ]
  },
  {
   "cell_type": "code",
   "execution_count": 54,
   "id": "e80e5aee",
   "metadata": {},
   "outputs": [
    {
     "data": {
      "text/plain": [
       "97"
      ]
     },
     "execution_count": 54,
     "metadata": {},
     "output_type": "execute_result"
    }
   ],
   "source": [
    "ord('a')"
   ]
  },
  {
   "cell_type": "code",
   "execution_count": 55,
   "id": "3f9b183a",
   "metadata": {},
   "outputs": [
    {
     "data": {
      "text/plain": [
       "True"
      ]
     },
     "execution_count": 55,
     "metadata": {},
     "output_type": "execute_result"
    }
   ],
   "source": [
    "not False"
   ]
  },
  {
   "cell_type": "markdown",
   "id": "4c95d2bf",
   "metadata": {},
   "source": [
    "# Logical Operators "
   ]
  },
  {
   "cell_type": "code",
   "execution_count": 56,
   "id": "7496eb3c",
   "metadata": {},
   "outputs": [
    {
     "data": {
      "text/plain": [
       "True"
      ]
     },
     "execution_count": 56,
     "metadata": {},
     "output_type": "execute_result"
    }
   ],
   "source": [
    "5>4 & 4>3"
   ]
  },
  {
   "cell_type": "code",
   "execution_count": 57,
   "id": "406a1062",
   "metadata": {},
   "outputs": [
    {
     "data": {
      "text/plain": [
       "True"
      ]
     },
     "execution_count": 57,
     "metadata": {},
     "output_type": "execute_result"
    }
   ],
   "source": [
    "5>4 or 2>9"
   ]
  },
  {
   "cell_type": "code",
   "execution_count": 58,
   "id": "8cf9ab6c",
   "metadata": {},
   "outputs": [
    {
     "data": {
      "text/plain": [
       "False"
      ]
     },
     "execution_count": 58,
     "metadata": {},
     "output_type": "execute_result"
    }
   ],
   "source": [
    "not True"
   ]
  },
  {
   "cell_type": "code",
   "execution_count": 59,
   "id": "06d74a51",
   "metadata": {},
   "outputs": [
    {
     "data": {
      "text/plain": [
       "4"
      ]
     },
     "execution_count": 59,
     "metadata": {},
     "output_type": "execute_result"
    }
   ],
   "source": [
    "3 and 4"
   ]
  },
  {
   "cell_type": "code",
   "execution_count": 60,
   "id": "ee114148",
   "metadata": {},
   "outputs": [
    {
     "data": {
      "text/plain": [
       "4"
      ]
     },
     "execution_count": 60,
     "metadata": {},
     "output_type": "execute_result"
    }
   ],
   "source": [
    "5 and 4"
   ]
  },
  {
   "cell_type": "code",
   "execution_count": 61,
   "id": "ec76361b",
   "metadata": {},
   "outputs": [
    {
     "data": {
      "text/plain": [
       "0"
      ]
     },
     "execution_count": 61,
     "metadata": {},
     "output_type": "execute_result"
    }
   ],
   "source": [
    "0 and 6"
   ]
  },
  {
   "cell_type": "code",
   "execution_count": 62,
   "id": "b4b4060d",
   "metadata": {},
   "outputs": [
    {
     "data": {
      "text/plain": [
       "'atul'"
      ]
     },
     "execution_count": 62,
     "metadata": {},
     "output_type": "execute_result"
    }
   ],
   "source": [
    "5 and \"atul\""
   ]
  },
  {
   "cell_type": "code",
   "execution_count": 63,
   "id": "3f8bc89f",
   "metadata": {},
   "outputs": [
    {
     "data": {
      "text/plain": [
       "'sharma'"
      ]
     },
     "execution_count": 63,
     "metadata": {},
     "output_type": "execute_result"
    }
   ],
   "source": [
    "\"atul\" and \"sharma\""
   ]
  },
  {
   "cell_type": "code",
   "execution_count": 64,
   "id": "14296f83",
   "metadata": {},
   "outputs": [],
   "source": [
    "# false values in Python\n",
    "\n",
    "# 0, 0.0, False, 0 +0j, \"\",None,[],{},()"
   ]
  },
  {
   "cell_type": "code",
   "execution_count": 65,
   "id": "56699f25",
   "metadata": {},
   "outputs": [
    {
     "data": {
      "text/plain": [
       "'atul'"
      ]
     },
     "execution_count": 65,
     "metadata": {},
     "output_type": "execute_result"
    }
   ],
   "source": [
    "#And Operator: If first value is false then return first value else return second value\n",
    "#or operator : If first value is true then return first value else second value\n",
    "\n",
    "\"atul\" or \"sharma\""
   ]
  },
  {
   "cell_type": "code",
   "execution_count": 66,
   "id": "d03602d1",
   "metadata": {},
   "outputs": [
    {
     "data": {
      "text/plain": [
       "'something else'"
      ]
     },
     "execution_count": 66,
     "metadata": {},
     "output_type": "execute_result"
    }
   ],
   "source": [
    "None or \"something else\""
   ]
  },
  {
   "cell_type": "code",
   "execution_count": 68,
   "id": "3f7af18b",
   "metadata": {},
   "outputs": [
    {
     "name": "stdout",
     "output_type": "stream",
     "text": [
      "None\n"
     ]
    }
   ],
   "source": [
    "print(0 or None)"
   ]
  },
  {
   "cell_type": "code",
   "execution_count": 69,
   "id": "eb506849",
   "metadata": {},
   "outputs": [
    {
     "data": {
      "text/plain": [
       "'b'"
      ]
     },
     "execution_count": 69,
     "metadata": {},
     "output_type": "execute_result"
    }
   ],
   "source": [
    "\"a\" and \"b\" or \"c\""
   ]
  },
  {
   "cell_type": "code",
   "execution_count": 70,
   "id": "8f98f1d2",
   "metadata": {},
   "outputs": [
    {
     "data": {
      "text/plain": [
       "True"
      ]
     },
     "execution_count": 70,
     "metadata": {},
     "output_type": "execute_result"
    }
   ],
   "source": [
    "not None"
   ]
  },
  {
   "cell_type": "code",
   "execution_count": 71,
   "id": "0762e587",
   "metadata": {},
   "outputs": [
    {
     "data": {
      "text/plain": [
       "False"
      ]
     },
     "execution_count": 71,
     "metadata": {},
     "output_type": "execute_result"
    }
   ],
   "source": [
    "not \"False\""
   ]
  },
  {
   "cell_type": "code",
   "execution_count": 73,
   "id": "7021c654",
   "metadata": {},
   "outputs": [
    {
     "data": {
      "text/plain": [
       "(5, 5, 5)"
      ]
     },
     "execution_count": 73,
     "metadata": {},
     "output_type": "execute_result"
    }
   ],
   "source": [
    "#assignment operator\n",
    "a = b = c = 5\n",
    "\n",
    "a,b,c"
   ]
  },
  {
   "cell_type": "code",
   "execution_count": 74,
   "id": "653bc741",
   "metadata": {},
   "outputs": [],
   "source": [
    "#compound assigment operator\n",
    "\n",
    "#pYTHON ALLOWS one to combine assignmnet operator with other arithmatic and bitwise operator"
   ]
  },
  {
   "cell_type": "code",
   "execution_count": 75,
   "id": "8c2ba0a4",
   "metadata": {},
   "outputs": [],
   "source": [
    "a = 5\n",
    "\n",
    "a +=5"
   ]
  },
  {
   "cell_type": "code",
   "execution_count": 76,
   "id": "35fb3cd3",
   "metadata": {},
   "outputs": [
    {
     "data": {
      "text/plain": [
       "10"
      ]
     },
     "execution_count": 76,
     "metadata": {},
     "output_type": "execute_result"
    }
   ],
   "source": [
    "a"
   ]
  },
  {
   "cell_type": "code",
   "execution_count": 77,
   "id": "094c7712",
   "metadata": {},
   "outputs": [],
   "source": [
    "a -=4"
   ]
  },
  {
   "cell_type": "code",
   "execution_count": 78,
   "id": "b134c7cb",
   "metadata": {},
   "outputs": [
    {
     "data": {
      "text/plain": [
       "6"
      ]
     },
     "execution_count": 78,
     "metadata": {},
     "output_type": "execute_result"
    }
   ],
   "source": [
    "a"
   ]
  },
  {
   "cell_type": "code",
   "execution_count": 79,
   "id": "cf22c698",
   "metadata": {},
   "outputs": [
    {
     "ename": "SyntaxError",
     "evalue": "invalid syntax (1277751513.py, line 1)",
     "output_type": "error",
     "traceback": [
      "\u001b[0;36m  Input \u001b[0;32mIn [79]\u001b[0;36m\u001b[0m\n\u001b[0;31m    a++\u001b[0m\n\u001b[0m       ^\u001b[0m\n\u001b[0;31mSyntaxError\u001b[0m\u001b[0;31m:\u001b[0m invalid syntax\n"
     ]
    }
   ],
   "source": [
    "a++"
   ]
  },
  {
   "cell_type": "code",
   "execution_count": 80,
   "id": "599a41e3",
   "metadata": {},
   "outputs": [
    {
     "data": {
      "text/plain": [
       "10"
      ]
     },
     "execution_count": 80,
     "metadata": {},
     "output_type": "execute_result"
    }
   ],
   "source": [
    "a = 10\n",
    "\n",
    "a ++5\n",
    "a"
   ]
  },
  {
   "cell_type": "code",
   "execution_count": 81,
   "id": "afa4df2b",
   "metadata": {},
   "outputs": [
    {
     "data": {
      "text/plain": [
       "10"
      ]
     },
     "execution_count": 81,
     "metadata": {},
     "output_type": "execute_result"
    }
   ],
   "source": [
    "++a"
   ]
  },
  {
   "cell_type": "code",
   "execution_count": 82,
   "id": "977eeaaa",
   "metadata": {},
   "outputs": [
    {
     "data": {
      "text/plain": [
       "-10"
      ]
     },
     "execution_count": 82,
     "metadata": {},
     "output_type": "execute_result"
    }
   ],
   "source": [
    "+-a"
   ]
  },
  {
   "cell_type": "code",
   "execution_count": null,
   "id": "c3f5efaf",
   "metadata": {},
   "outputs": [],
   "source": []
  }
 ],
 "metadata": {
  "kernelspec": {
   "display_name": "Python 3 (ipykernel)",
   "language": "python",
   "name": "python3"
  },
  "language_info": {
   "codemirror_mode": {
    "name": "ipython",
    "version": 3
   },
   "file_extension": ".py",
   "mimetype": "text/x-python",
   "name": "python",
   "nbconvert_exporter": "python",
   "pygments_lexer": "ipython3",
   "version": "3.8.3rc1"
  }
 },
 "nbformat": 4,
 "nbformat_minor": 5
}
