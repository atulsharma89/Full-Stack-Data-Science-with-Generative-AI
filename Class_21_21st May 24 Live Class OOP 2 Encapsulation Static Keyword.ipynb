{
 "cells": [
  {
   "cell_type": "markdown",
   "id": "dcabfb9c",
   "metadata": {},
   "source": [
    "# encapsulation:Encapsulation is a concept used in object-oriented programming to bundle data and methods into easy-to-use units. "
   ]
  },
  {
   "cell_type": "code",
   "execution_count": 1,
   "id": "8c6b91af",
   "metadata": {},
   "outputs": [],
   "source": [
    "class Person:\n",
    "    def __init__(self):\n",
    "        self.name=\"Atul\"\n",
    "        self.country=\"India\"\n",
    "    def greetings(self):\n",
    "        if self.country==\"India\":\n",
    "            print(f\"Namastey {self.name}\")\n",
    "        else:\n",
    "            print(f\"Hello {self.name}\")"
   ]
  },
  {
   "cell_type": "code",
   "execution_count": 2,
   "id": "575f11b8",
   "metadata": {},
   "outputs": [],
   "source": [
    "atul=Person()"
   ]
  },
  {
   "cell_type": "code",
   "execution_count": 3,
   "id": "894b8577",
   "metadata": {},
   "outputs": [
    {
     "name": "stdout",
     "output_type": "stream",
     "text": [
      "Namastey Atul\n"
     ]
    }
   ],
   "source": [
    "atul.greetings()"
   ]
  },
  {
   "cell_type": "code",
   "execution_count": 4,
   "id": "dc44da68",
   "metadata": {},
   "outputs": [],
   "source": [
    "class Person:\n",
    "    def __init__(self,name,country):\n",
    "        self.name=name\n",
    "        self.country=country\n",
    "    def greetings(self):\n",
    "        if self.country==\"India\":\n",
    "            print(f\"Namastey {self.name}\")\n",
    "        else:\n",
    "            print(f\"Hello {self.name}\")"
   ]
  },
  {
   "cell_type": "code",
   "execution_count": 5,
   "id": "d44ad633",
   "metadata": {},
   "outputs": [],
   "source": [
    "P=Person('atulsharma','India')"
   ]
  },
  {
   "cell_type": "code",
   "execution_count": 6,
   "id": "f1093cfa",
   "metadata": {},
   "outputs": [
    {
     "name": "stdout",
     "output_type": "stream",
     "text": [
      "Namastey atulsharma\n"
     ]
    }
   ],
   "source": [
    "P.greetings()"
   ]
  },
  {
   "cell_type": "code",
   "execution_count": 7,
   "id": "ef2b5b35",
   "metadata": {},
   "outputs": [],
   "source": [
    "P=Person('atulsharma','Morocco')"
   ]
  },
  {
   "cell_type": "code",
   "execution_count": 8,
   "id": "4b3b484f",
   "metadata": {},
   "outputs": [
    {
     "name": "stdout",
     "output_type": "stream",
     "text": [
      "Hello atulsharma\n"
     ]
    }
   ],
   "source": [
    "P.greetings()"
   ]
  },
  {
   "cell_type": "code",
   "execution_count": 9,
   "id": "202d7954",
   "metadata": {},
   "outputs": [
    {
     "data": {
      "text/plain": [
       "'Morocco'"
      ]
     },
     "execution_count": 9,
     "metadata": {},
     "output_type": "execute_result"
    }
   ],
   "source": [
    "#accessing class variable\n",
    "\n",
    "P.country"
   ]
  },
  {
   "cell_type": "code",
   "execution_count": 10,
   "id": "5779f25f",
   "metadata": {},
   "outputs": [
    {
     "ename": "AttributeError",
     "evalue": "'Person' object has no attribute 'gender'",
     "output_type": "error",
     "traceback": [
      "\u001b[0;31m---------------------------------------------------------------------------\u001b[0m",
      "\u001b[0;31mAttributeError\u001b[0m                            Traceback (most recent call last)",
      "Input \u001b[0;32mIn [10]\u001b[0m, in \u001b[0;36m<cell line: 1>\u001b[0;34m()\u001b[0m\n\u001b[0;32m----> 1\u001b[0m \u001b[43mP\u001b[49m\u001b[38;5;241;43m.\u001b[39;49m\u001b[43mgender\u001b[49m\n",
      "\u001b[0;31mAttributeError\u001b[0m: 'Person' object has no attribute 'gender'"
     ]
    }
   ],
   "source": [
    "P.gender"
   ]
  },
  {
   "cell_type": "markdown",
   "id": "9f6c12a7",
   "metadata": {},
   "source": [
    "## Atribute creation from outside of the class"
   ]
  },
  {
   "cell_type": "code",
   "execution_count": null,
   "id": "3a596630",
   "metadata": {},
   "outputs": [],
   "source": [
    "P.gender=\"Male\""
   ]
  },
  {
   "cell_type": "code",
   "execution_count": null,
   "id": "581e54eb",
   "metadata": {},
   "outputs": [],
   "source": [
    "P.gender"
   ]
  },
  {
   "cell_type": "code",
   "execution_count": null,
   "id": "a834808a",
   "metadata": {},
   "outputs": [],
   "source": [
    "#class object is mutable as we can change anything here"
   ]
  },
  {
   "cell_type": "markdown",
   "id": "2f716880",
   "metadata": {},
   "source": [
    "## Reference variables"
   ]
  },
  {
   "cell_type": "code",
   "execution_count": null,
   "id": "4bd08a96",
   "metadata": {},
   "outputs": [],
   "source": [
    "class Person:\n",
    "    def __init__(self):\n",
    "        self.name=\"Atul\"\n",
    "        self.country=\"India\"\n",
    "    def greetings(self):\n",
    "        if self.country==\"India\":\n",
    "            print(f\"Namastey {self.name}\")\n",
    "        else:\n",
    "            print(f\"Hello {self.name}\")"
   ]
  },
  {
   "cell_type": "code",
   "execution_count": null,
   "id": "cb6218a0",
   "metadata": {},
   "outputs": [],
   "source": [
    "P1=Person()"
   ]
  },
  {
   "cell_type": "code",
   "execution_count": null,
   "id": "3e6c6024",
   "metadata": {},
   "outputs": [],
   "source": [
    "P1.greetings()"
   ]
  },
  {
   "cell_type": "code",
   "execution_count": null,
   "id": "0268a2e0",
   "metadata": {},
   "outputs": [],
   "source": [
    "q=P1"
   ]
  },
  {
   "cell_type": "code",
   "execution_count": null,
   "id": "088022a3",
   "metadata": {},
   "outputs": [],
   "source": [
    "#object P1 has been created at specific ID \n",
    "\n",
    "# by doing q=P1 ID WILL CHANGE OR NOT?\n",
    "\n",
    "# It will not change\n",
    "#whatever changes we do inside P1 will also reflect in q"
   ]
  },
  {
   "cell_type": "code",
   "execution_count": null,
   "id": "2bb38914",
   "metadata": {},
   "outputs": [],
   "source": [
    "print(id(q))"
   ]
  },
  {
   "cell_type": "code",
   "execution_count": null,
   "id": "6fc8a695",
   "metadata": {},
   "outputs": [],
   "source": [
    "print(id(P1))"
   ]
  },
  {
   "cell_type": "code",
   "execution_count": null,
   "id": "b7f8f1fa",
   "metadata": {},
   "outputs": [],
   "source": [
    "print(P1.name)"
   ]
  },
  {
   "cell_type": "code",
   "execution_count": null,
   "id": "20a1ab96",
   "metadata": {},
   "outputs": [],
   "source": [
    "print(q.name)"
   ]
  },
  {
   "cell_type": "code",
   "execution_count": null,
   "id": "97e90c49",
   "metadata": {},
   "outputs": [],
   "source": [
    "q.name=\"Rakesh\"\n",
    "\n",
    "print(P1.name)\n",
    "print(q.name)\n"
   ]
  },
  {
   "cell_type": "markdown",
   "id": "31e0748e",
   "metadata": {},
   "source": [
    "# Encapsulation"
   ]
  },
  {
   "cell_type": "markdown",
   "id": "003394bf",
   "metadata": {},
   "source": [
    "# Instance variables"
   ]
  },
  {
   "cell_type": "code",
   "execution_count": null,
   "id": "ccdbfdfd",
   "metadata": {},
   "outputs": [],
   "source": [
    "class Person:\n",
    "    def __init__(self,name,country):\n",
    "        self.name=name\n",
    "        self.country=country\n",
    "\n",
    "P1=Person(\"Atul\",\"USA\")\n",
    "P2=Person(\"Kumar\",\"Kota\")\n",
    "\n",
    "print(P1.name)\n",
    "print(P2.name)"
   ]
  },
  {
   "cell_type": "code",
   "execution_count": null,
   "id": "17bcef22",
   "metadata": {},
   "outputs": [],
   "source": [
    "#difference between instance variable and simple varibale\n",
    "\n",
    "# we can store multiple values in instance variables (which can be only accessed through objects)\n",
    "# in a single variable name we are able to store multiple values"
   ]
  },
  {
   "cell_type": "code",
   "execution_count": 20,
   "id": "277df60f",
   "metadata": {},
   "outputs": [],
   "source": [
    "class ATM:\n",
    "    def __init__(self):\n",
    "        self.pin=\"\"\n",
    "        self.balance=0\n",
    "    \n",
    "    def menu(self):\n",
    "        user_input=input(\"\"\"\n",
    "        Hi how can i help you?\n",
    "\n",
    "        1. Press 1 to create pin\n",
    "        2. Press 2 to change pin\n",
    "        3. Press 3 to check balence\n",
    "        4. Press 4 to withdraw\n",
    "        5. Anything to exit\n",
    "        \n",
    "        \"\"\")\n",
    "        if user_input==\"1\":\n",
    "            self.create_pin()\n",
    "        elif user_input==\"2\":\n",
    "            self.change_pin()\n",
    "        elif user_input == '3':\n",
    "            self.check_balance()\n",
    "        elif user_input == '4':\n",
    "            self.withdraw()\n",
    "        else:\n",
    "            exit()\n",
    "    \n",
    "    def create_pin(self):\n",
    "        user_pin = input(\"Enter your pin: \")\n",
    "        self.pin = user_pin\n",
    "        user_balance = int(input(\"Enter Balance: \"))\n",
    "        self.balance = user_balance\n",
    "        print(\"Pin created successfully\")\n",
    "    \n",
    "    def change_pin(self):\n",
    "        old_pin = input(\"Enter old pin: \")\n",
    "\n",
    "        if old_pin == self.pin:\n",
    "            new_pin = input(\"Enter new pin: \")\n",
    "            self.pin = new_pin\n",
    "            print(\"Pin changed Successfully!\")\n",
    "      # self.menu()\n",
    "\n",
    "        else:\n",
    "            print(\"Sorry you entered wrong pin.\")\n",
    "      # self.menu()\n",
    "    \n",
    "    def check_balance(self):\n",
    "        user_pin = input(\"Enter your pin: \")\n",
    "        if user_pin == self.pin:\n",
    "            print(f\"Your balance is {self.balance}\")\n",
    "        else:\n",
    "            print(\"Your pin is correct, please try again\")\n",
    "    # self.menu()\n",
    "    \n",
    "    def withdraw(self):\n",
    "        user_pin=input(\"enter your pin\")\n",
    "\n",
    "        if user_pin==self.pin:\n",
    "            amount=int(input(\"enter amount to withdraw\"))\n",
    "            if amount <=self.balance:\n",
    "                self.balance=self.balance-amount\n",
    "                print(f\"withdraw sucsseffully and current balance is {self.balance}\" )\n",
    "            else:\n",
    "                print(\"entered amount is higher than balance-insufficient balance\")\n",
    "        else:\n",
    "            print(\"pin is wrong\")\n",
    "            #self.menu()\n",
    "        "
   ]
  },
  {
   "cell_type": "code",
   "execution_count": 21,
   "id": "0fe155ff",
   "metadata": {},
   "outputs": [],
   "source": [
    "obj=ATM()"
   ]
  },
  {
   "cell_type": "code",
   "execution_count": 22,
   "id": "90d19289",
   "metadata": {},
   "outputs": [
    {
     "name": "stdout",
     "output_type": "stream",
     "text": [
      "Enter your pin: 123\n",
      "Enter Balance: 500\n",
      "Pin created successfully\n"
     ]
    }
   ],
   "source": [
    "obj.create_pin()\n",
    "obj.balance=\"Pagal\""
   ]
  },
  {
   "cell_type": "code",
   "execution_count": 23,
   "id": "6cb2254d",
   "metadata": {},
   "outputs": [
    {
     "data": {
      "text/plain": [
       "'Pagal'"
      ]
     },
     "execution_count": 23,
     "metadata": {},
     "output_type": "execute_result"
    }
   ],
   "source": [
    "obj.balance"
   ]
  },
  {
   "cell_type": "code",
   "execution_count": 24,
   "id": "5aa5f309",
   "metadata": {},
   "outputs": [
    {
     "name": "stdout",
     "output_type": "stream",
     "text": [
      "enter your pin123\n",
      "enter amount to withdraw400\n"
     ]
    },
    {
     "ename": "TypeError",
     "evalue": "'<=' not supported between instances of 'int' and 'str'",
     "output_type": "error",
     "traceback": [
      "\u001b[0;31m---------------------------------------------------------------------------\u001b[0m",
      "\u001b[0;31mTypeError\u001b[0m                                 Traceback (most recent call last)",
      "Input \u001b[0;32mIn [24]\u001b[0m, in \u001b[0;36m<cell line: 1>\u001b[0;34m()\u001b[0m\n\u001b[0;32m----> 1\u001b[0m \u001b[43mobj\u001b[49m\u001b[38;5;241;43m.\u001b[39;49m\u001b[43mwithdraw\u001b[49m\u001b[43m(\u001b[49m\u001b[43m)\u001b[49m\n",
      "Input \u001b[0;32mIn [20]\u001b[0m, in \u001b[0;36mATM.withdraw\u001b[0;34m(self)\u001b[0m\n\u001b[1;32m     59\u001b[0m \u001b[38;5;28;01mif\u001b[39;00m user_pin\u001b[38;5;241m==\u001b[39m\u001b[38;5;28mself\u001b[39m\u001b[38;5;241m.\u001b[39mpin:\n\u001b[1;32m     60\u001b[0m     amount\u001b[38;5;241m=\u001b[39m\u001b[38;5;28mint\u001b[39m(\u001b[38;5;28minput\u001b[39m(\u001b[38;5;124m\"\u001b[39m\u001b[38;5;124menter amount to withdraw\u001b[39m\u001b[38;5;124m\"\u001b[39m))\n\u001b[0;32m---> 61\u001b[0m     \u001b[38;5;28;01mif\u001b[39;00m \u001b[43mamount\u001b[49m\u001b[43m \u001b[49m\u001b[38;5;241;43m<\u001b[39;49m\u001b[38;5;241;43m=\u001b[39;49m\u001b[38;5;28;43mself\u001b[39;49m\u001b[38;5;241;43m.\u001b[39;49m\u001b[43mbalance\u001b[49m:\n\u001b[1;32m     62\u001b[0m         \u001b[38;5;28mself\u001b[39m\u001b[38;5;241m.\u001b[39mbalance\u001b[38;5;241m=\u001b[39m\u001b[38;5;28mself\u001b[39m\u001b[38;5;241m.\u001b[39mbalance\u001b[38;5;241m-\u001b[39mamount\n\u001b[1;32m     63\u001b[0m         \u001b[38;5;28mprint\u001b[39m(\u001b[38;5;124mf\u001b[39m\u001b[38;5;124m\"\u001b[39m\u001b[38;5;124mwithdraw sucsseffully and current balance is \u001b[39m\u001b[38;5;132;01m{\u001b[39;00m\u001b[38;5;28mself\u001b[39m\u001b[38;5;241m.\u001b[39mbalance\u001b[38;5;132;01m}\u001b[39;00m\u001b[38;5;124m\"\u001b[39m )\n",
      "\u001b[0;31mTypeError\u001b[0m: '<=' not supported between instances of 'int' and 'str'"
     ]
    }
   ],
   "source": [
    "obj.withdraw()"
   ]
  },
  {
   "cell_type": "code",
   "execution_count": 32,
   "id": "1576f23b",
   "metadata": {},
   "outputs": [],
   "source": [
    "class ATM:\n",
    "    def __init__(self):\n",
    "        self.pin=\"\"\n",
    "        self.__balance=0 #private variable\n",
    "    \n",
    "    def menu(self):\n",
    "        user_input=input(\"\"\"\n",
    "        Hi how can i help you?\n",
    "\n",
    "        1. Press 1 to create pin\n",
    "        2. Press 2 to change pin\n",
    "        3. Press 3 to check balence\n",
    "        4. Press 4 to withdraw\n",
    "        5. Anything to exit\n",
    "        \n",
    "        \"\"\")\n",
    "        if user_input==\"1\":\n",
    "            self.create_pin()\n",
    "        elif user_input==\"2\":\n",
    "            self.change_pin()\n",
    "        elif user_input == '3':\n",
    "            self.check_balance()\n",
    "        elif user_input == '4':\n",
    "            self.withdraw()\n",
    "        else:\n",
    "            exit()\n",
    "    \n",
    "    def create_pin(self):\n",
    "        user_pin = input(\"Enter your pin: \")\n",
    "        self.pin = user_pin\n",
    "        user_balance = int(input(\"Enter Balance: \"))\n",
    "        self.__balance = user_balance\n",
    "        print(\"Pin created successfully\")\n",
    "    \n",
    "    def change_pin(self):\n",
    "        old_pin = input(\"Enter old pin: \")\n",
    "\n",
    "        if old_pin == self.pin:\n",
    "            new_pin = input(\"Enter new pin: \")\n",
    "            self.pin = new_pin\n",
    "            print(\"Pin changed Successfully!\")\n",
    "      # self.menu()\n",
    "\n",
    "        else:\n",
    "            print(\"Sorry you entered wrong pin.\")\n",
    "      # self.menu()\n",
    "    \n",
    "    def check_balance(self):\n",
    "        user_pin = input(\"Enter your pin: \")\n",
    "        if user_pin == self.pin:\n",
    "            print(f\"Your balance is {self.__balance}\")\n",
    "        else:\n",
    "            print(\"Your pin is correct, please try again\")\n",
    "    # self.menu()\n",
    "    \n",
    "    def withdraw(self):\n",
    "        user_pin=input(\"enter your pin\")\n",
    "\n",
    "        if user_pin==self.pin:\n",
    "            amount=int(input(\"enter amount to withdraw\"))\n",
    "            if amount <=self.__balance:\n",
    "                self.balance=self.__balance-amount\n",
    "                print(f\"withdraw sucsseffully and current balance is {self.__balance}\" )\n",
    "            else:\n",
    "                print(\"entered amount is higher than balance-insufficient balance\")\n",
    "        else:\n",
    "            print(\"pin is wrong\")\n",
    "            #self.menu()\n",
    "        "
   ]
  },
  {
   "cell_type": "code",
   "execution_count": 27,
   "id": "ed23c7b6",
   "metadata": {},
   "outputs": [],
   "source": [
    "obj2=ATM()"
   ]
  },
  {
   "cell_type": "code",
   "execution_count": 54,
   "id": "8ce6b493",
   "metadata": {},
   "outputs": [],
   "source": [
    "#we can also encapsulate functions also \n",
    "\n",
    "class ATM:\n",
    "    def __init__(self):\n",
    "        self.pin=\"\"\n",
    "        self.__balance=0 #private variable\n",
    "    \n",
    "    def __menu(self):\n",
    "        user_input=input(\"\"\"\n",
    "        Hi how can i help you?\n",
    "\n",
    "        1. Press 1 to create pin\n",
    "        2. Press 2 to change pin\n",
    "        3. Press 3 to check balence\n",
    "        4. Press 4 to withdraw\n",
    "        5. Anything to exit\n",
    "        \n",
    "        \"\"\")\n",
    "        if user_input==\"1\":\n",
    "            self.create_pin()\n",
    "        elif user_input==\"2\":\n",
    "            self.change_pin()\n",
    "        elif user_input == '3':\n",
    "            self.check_balance()\n",
    "        elif user_input == '4':\n",
    "            self.withdraw()\n",
    "        else:\n",
    "            exit()\n",
    "    \n",
    "    def create_pin(self):\n",
    "        user_pin = input(\"Enter your pin: \")\n",
    "        self.pin = user_pin\n",
    "        user_balance = int(input(\"Enter Balance: \"))\n",
    "        self.__balance = user_balance\n",
    "        print(\"Pin created successfully\")\n",
    "    \n",
    "    def change_pin(self):\n",
    "        old_pin = input(\"Enter old pin: \")\n",
    "\n",
    "        if old_pin == self.pin:\n",
    "            new_pin = input(\"Enter new pin: \")\n",
    "            self.pin = new_pin\n",
    "            print(\"Pin changed Successfully!\")\n",
    "      # self.menu()\n",
    "\n",
    "        else:\n",
    "            print(\"Sorry you entered wrong pin.\")\n",
    "      # self.menu()\n",
    "    \n",
    "    def check_balance(self):\n",
    "        user_pin = input(\"Enter your pin: \")\n",
    "        if user_pin == self.pin:\n",
    "            print(f\"Your balance is {self.__balance}\")\n",
    "        else:\n",
    "            print(\"Your pin is correct, please try again\")\n",
    "    # self.menu()\n",
    "    \n",
    "    def withdraw(self):\n",
    "        user_pin=input(\"enter your pin\")\n",
    "\n",
    "        if user_pin==self.pin:\n",
    "            amount=int(input(\"enter amount to withdraw\"))\n",
    "            if amount <=self.__balance:\n",
    "                self.__balance=self.__balance-amount\n",
    "                print(f\"withdraw sucsseffully and current balance is {self.__balance}\" )\n",
    "            else:\n",
    "                print(\"entered amount is higher than balance-insufficient balance\")\n",
    "        else:\n",
    "            print(\"pin is wrong\")\n",
    "            #self.menu()\n",
    "        "
   ]
  },
  {
   "cell_type": "code",
   "execution_count": 55,
   "id": "a7a488db",
   "metadata": {},
   "outputs": [
    {
     "name": "stdout",
     "output_type": "stream",
     "text": [
      "Enter your pin: 123\n",
      "Enter Balance: 6000\n",
      "Pin created successfully\n"
     ]
    }
   ],
   "source": [
    "obj3=ATM()\n",
    "\n",
    "obj3.create_pin()\n",
    "obj3.__balance=\"Pagal\""
   ]
  },
  {
   "cell_type": "code",
   "execution_count": 56,
   "id": "87d97d7a",
   "metadata": {},
   "outputs": [
    {
     "data": {
      "text/plain": [
       "'Pagal'"
      ]
     },
     "execution_count": 56,
     "metadata": {},
     "output_type": "execute_result"
    }
   ],
   "source": [
    "obj3.__balance"
   ]
  },
  {
   "cell_type": "code",
   "execution_count": 57,
   "id": "dbfc9cca",
   "metadata": {},
   "outputs": [
    {
     "name": "stdout",
     "output_type": "stream",
     "text": [
      "enter your pin123\n",
      "enter amount to withdraw3000\n",
      "withdraw sucsseffully and current balance is 3000\n"
     ]
    }
   ],
   "source": [
    "obj3.withdraw()"
   ]
  },
  {
   "cell_type": "code",
   "execution_count": 46,
   "id": "172c1228",
   "metadata": {},
   "outputs": [],
   "source": [
    "#_ClassName__Variablename\n",
    "\n",
    "#_ATM__balance\n",
    "\n",
    "# if you are calling or changing anything of this private variable outside of class then it will \n",
    "#create a completely new variable"
   ]
  },
  {
   "cell_type": "code",
   "execution_count": 58,
   "id": "957ebf6e",
   "metadata": {},
   "outputs": [
    {
     "data": {
      "text/plain": [
       "3000"
      ]
     },
     "execution_count": 58,
     "metadata": {},
     "output_type": "execute_result"
    }
   ],
   "source": [
    "obj3._ATM__balance"
   ]
  },
  {
   "cell_type": "code",
   "execution_count": 59,
   "id": "c1ef7cb6",
   "metadata": {},
   "outputs": [
    {
     "data": {
      "text/plain": [
       "'Pagal'"
      ]
     },
     "execution_count": 59,
     "metadata": {},
     "output_type": "execute_result"
    }
   ],
   "source": [
    "obj3.__balance"
   ]
  },
  {
   "cell_type": "code",
   "execution_count": null,
   "id": "d675024e",
   "metadata": {},
   "outputs": [],
   "source": []
  },
  {
   "cell_type": "code",
   "execution_count": 60,
   "id": "945320f3",
   "metadata": {},
   "outputs": [],
   "source": [
    "#in java we cannot access private variables but in Python we can\n",
    "\n",
    "# In Python nothing is too private because it is made for adults"
   ]
  },
  {
   "cell_type": "code",
   "execution_count": null,
   "id": "b003ff63",
   "metadata": {},
   "outputs": [],
   "source": []
  },
  {
   "cell_type": "code",
   "execution_count": 50,
   "id": "5e7d8022",
   "metadata": {},
   "outputs": [],
   "source": [
    "obj3._ATM__balance=\"pagal\""
   ]
  },
  {
   "cell_type": "code",
   "execution_count": 51,
   "id": "ad25da00",
   "metadata": {},
   "outputs": [
    {
     "data": {
      "text/plain": [
       "'pagal'"
      ]
     },
     "execution_count": 51,
     "metadata": {},
     "output_type": "execute_result"
    }
   ],
   "source": [
    "obj3._ATM__balance"
   ]
  },
  {
   "cell_type": "code",
   "execution_count": 52,
   "id": "fe30dfc9",
   "metadata": {},
   "outputs": [
    {
     "name": "stdout",
     "output_type": "stream",
     "text": [
      "enter your pin123\n",
      "enter amount to withdraw300\n"
     ]
    },
    {
     "ename": "TypeError",
     "evalue": "'<=' not supported between instances of 'int' and 'str'",
     "output_type": "error",
     "traceback": [
      "\u001b[0;31m---------------------------------------------------------------------------\u001b[0m",
      "\u001b[0;31mTypeError\u001b[0m                                 Traceback (most recent call last)",
      "Input \u001b[0;32mIn [52]\u001b[0m, in \u001b[0;36m<cell line: 1>\u001b[0;34m()\u001b[0m\n\u001b[0;32m----> 1\u001b[0m \u001b[43mobj3\u001b[49m\u001b[38;5;241;43m.\u001b[39;49m\u001b[43mwithdraw\u001b[49m\u001b[43m(\u001b[49m\u001b[43m)\u001b[49m\n",
      "Input \u001b[0;32mIn [41]\u001b[0m, in \u001b[0;36mATM.withdraw\u001b[0;34m(self)\u001b[0m\n\u001b[1;32m     61\u001b[0m \u001b[38;5;28;01mif\u001b[39;00m user_pin\u001b[38;5;241m==\u001b[39m\u001b[38;5;28mself\u001b[39m\u001b[38;5;241m.\u001b[39mpin:\n\u001b[1;32m     62\u001b[0m     amount\u001b[38;5;241m=\u001b[39m\u001b[38;5;28mint\u001b[39m(\u001b[38;5;28minput\u001b[39m(\u001b[38;5;124m\"\u001b[39m\u001b[38;5;124menter amount to withdraw\u001b[39m\u001b[38;5;124m\"\u001b[39m))\n\u001b[0;32m---> 63\u001b[0m     \u001b[38;5;28;01mif\u001b[39;00m \u001b[43mamount\u001b[49m\u001b[43m \u001b[49m\u001b[38;5;241;43m<\u001b[39;49m\u001b[38;5;241;43m=\u001b[39;49m\u001b[38;5;28;43mself\u001b[39;49m\u001b[38;5;241;43m.\u001b[39;49m\u001b[43m__balance\u001b[49m:\n\u001b[1;32m     64\u001b[0m         \u001b[38;5;28mself\u001b[39m\u001b[38;5;241m.\u001b[39m__balance\u001b[38;5;241m=\u001b[39m\u001b[38;5;28mself\u001b[39m\u001b[38;5;241m.\u001b[39m__balance\u001b[38;5;241m-\u001b[39mamount\n\u001b[1;32m     65\u001b[0m         \u001b[38;5;28mprint\u001b[39m(\u001b[38;5;124mf\u001b[39m\u001b[38;5;124m\"\u001b[39m\u001b[38;5;124mwithdraw sucsseffully and current balance is \u001b[39m\u001b[38;5;132;01m{\u001b[39;00m\u001b[38;5;28mself\u001b[39m\u001b[38;5;241m.\u001b[39m__balance\u001b[38;5;132;01m}\u001b[39;00m\u001b[38;5;124m\"\u001b[39m )\n",
      "\u001b[0;31mTypeError\u001b[0m: '<=' not supported between instances of 'int' and 'str'"
     ]
    }
   ],
   "source": [
    "obj3.withdraw()"
   ]
  },
  {
   "cell_type": "code",
   "execution_count": null,
   "id": "0770490c",
   "metadata": {},
   "outputs": [],
   "source": [
    "#giving user flexibilitty to change some values in class variable\n",
    "\n",
    "# Getter and Setter"
   ]
  },
  {
   "cell_type": "markdown",
   "id": "11f11dee",
   "metadata": {},
   "source": [
    "# Getter and Setter"
   ]
  },
  {
   "cell_type": "code",
   "execution_count": 61,
   "id": "91f387d1",
   "metadata": {},
   "outputs": [],
   "source": [
    "#we can also encapsulate functions also \n",
    "\n",
    "class ATM:\n",
    "    def __init__(self):\n",
    "        self.pin=\"\"\n",
    "        self.__balance=0 #private variable\n",
    "    \n",
    "    #getter method: to return value of private variable\n",
    "    \n",
    "    def get_balance(self):\n",
    "        return self.__balance\n",
    "    \n",
    "    #setter method : to set somethng in private variable\n",
    "    \n",
    "    def set_balance(self,new_balance):\n",
    "        self.__balance=new_balance\n",
    "    \n",
    "    def __menu(self):\n",
    "        user_input=input(\"\"\"\n",
    "        Hi how can i help you?\n",
    "\n",
    "        1. Press 1 to create pin\n",
    "        2. Press 2 to change pin\n",
    "        3. Press 3 to check balence\n",
    "        4. Press 4 to withdraw\n",
    "        5. Anything to exit\n",
    "        \n",
    "        \"\"\")\n",
    "        if user_input==\"1\":\n",
    "            self.create_pin()\n",
    "        elif user_input==\"2\":\n",
    "            self.change_pin()\n",
    "        elif user_input == '3':\n",
    "            self.check_balance()\n",
    "        elif user_input == '4':\n",
    "            self.withdraw()\n",
    "        else:\n",
    "            exit()\n",
    "    \n",
    "    def create_pin(self):\n",
    "        user_pin = input(\"Enter your pin: \")\n",
    "        self.pin = user_pin\n",
    "        user_balance = int(input(\"Enter Balance: \"))\n",
    "        self.__balance = user_balance\n",
    "        print(\"Pin created successfully\")\n",
    "    \n",
    "    def change_pin(self):\n",
    "        old_pin = input(\"Enter old pin: \")\n",
    "\n",
    "        if old_pin == self.pin:\n",
    "            new_pin = input(\"Enter new pin: \")\n",
    "            self.pin = new_pin\n",
    "            print(\"Pin changed Successfully!\")\n",
    "      # self.menu()\n",
    "\n",
    "        else:\n",
    "            print(\"Sorry you entered wrong pin.\")\n",
    "      # self.menu()\n",
    "    \n",
    "    def check_balance(self):\n",
    "        user_pin = input(\"Enter your pin: \")\n",
    "        if user_pin == self.pin:\n",
    "            print(f\"Your balance is {self.__balance}\")\n",
    "        else:\n",
    "            print(\"Your pin is correct, please try again\")\n",
    "    # self.menu()\n",
    "    \n",
    "    def withdraw(self):\n",
    "        user_pin=input(\"enter your pin\")\n",
    "\n",
    "        if user_pin==self.pin:\n",
    "            amount=int(input(\"enter amount to withdraw\"))\n",
    "            if amount <=self.__balance:\n",
    "                self.__balance=self.__balance-amount\n",
    "                print(f\"withdraw sucsseffully and current balance is {self.__balance}\" )\n",
    "            else:\n",
    "                print(\"entered amount is higher than balance-insufficient balance\")\n",
    "        else:\n",
    "            print(\"pin is wrong\")\n",
    "            #self.menu()\n",
    "        "
   ]
  },
  {
   "cell_type": "code",
   "execution_count": 62,
   "id": "cabf76f8",
   "metadata": {},
   "outputs": [],
   "source": [
    "obj4=ATM()"
   ]
  },
  {
   "cell_type": "code",
   "execution_count": 63,
   "id": "d5bd6bc4",
   "metadata": {},
   "outputs": [
    {
     "data": {
      "text/plain": [
       "0"
      ]
     },
     "execution_count": 63,
     "metadata": {},
     "output_type": "execute_result"
    }
   ],
   "source": [
    "obj4.get_balance()"
   ]
  },
  {
   "cell_type": "code",
   "execution_count": 64,
   "id": "fda578bc",
   "metadata": {},
   "outputs": [],
   "source": [
    "obj4.set_balance(1000)"
   ]
  },
  {
   "cell_type": "code",
   "execution_count": 65,
   "id": "8da8e5bf",
   "metadata": {},
   "outputs": [
    {
     "data": {
      "text/plain": [
       "1000"
      ]
     },
     "execution_count": 65,
     "metadata": {},
     "output_type": "execute_result"
    }
   ],
   "source": [
    "obj4.get_balance()"
   ]
  },
  {
   "cell_type": "code",
   "execution_count": 66,
   "id": "60047964",
   "metadata": {},
   "outputs": [
    {
     "data": {
      "text/plain": [
       "'pagal'"
      ]
     },
     "execution_count": 66,
     "metadata": {},
     "output_type": "execute_result"
    }
   ],
   "source": [
    "obj4.set_balance(\"pagal\")\n",
    "\n",
    "obj4.get_balance()"
   ]
  },
  {
   "cell_type": "code",
   "execution_count": 70,
   "id": "74cf2212",
   "metadata": {},
   "outputs": [
    {
     "name": "stdout",
     "output_type": "stream",
     "text": [
      "Enter your pin: 123\n",
      "Enter Balance: 5000\n",
      "Pin created successfully\n"
     ]
    }
   ],
   "source": [
    "obj4.create_pin()\n",
    "obj4.set_balance(\"pagal\")"
   ]
  },
  {
   "cell_type": "code",
   "execution_count": 71,
   "id": "a2705376",
   "metadata": {},
   "outputs": [
    {
     "name": "stdout",
     "output_type": "stream",
     "text": [
      "enter your pin123\n",
      "enter amount to withdraw200\n"
     ]
    },
    {
     "ename": "TypeError",
     "evalue": "'<=' not supported between instances of 'int' and 'str'",
     "output_type": "error",
     "traceback": [
      "\u001b[0;31m---------------------------------------------------------------------------\u001b[0m",
      "\u001b[0;31mTypeError\u001b[0m                                 Traceback (most recent call last)",
      "Input \u001b[0;32mIn [71]\u001b[0m, in \u001b[0;36m<cell line: 1>\u001b[0;34m()\u001b[0m\n\u001b[0;32m----> 1\u001b[0m \u001b[43mobj4\u001b[49m\u001b[38;5;241;43m.\u001b[39;49m\u001b[43mwithdraw\u001b[49m\u001b[43m(\u001b[49m\u001b[43m)\u001b[49m\n",
      "Input \u001b[0;32mIn [61]\u001b[0m, in \u001b[0;36mATM.withdraw\u001b[0;34m(self)\u001b[0m\n\u001b[1;32m     71\u001b[0m \u001b[38;5;28;01mif\u001b[39;00m user_pin\u001b[38;5;241m==\u001b[39m\u001b[38;5;28mself\u001b[39m\u001b[38;5;241m.\u001b[39mpin:\n\u001b[1;32m     72\u001b[0m     amount\u001b[38;5;241m=\u001b[39m\u001b[38;5;28mint\u001b[39m(\u001b[38;5;28minput\u001b[39m(\u001b[38;5;124m\"\u001b[39m\u001b[38;5;124menter amount to withdraw\u001b[39m\u001b[38;5;124m\"\u001b[39m))\n\u001b[0;32m---> 73\u001b[0m     \u001b[38;5;28;01mif\u001b[39;00m \u001b[43mamount\u001b[49m\u001b[43m \u001b[49m\u001b[38;5;241;43m<\u001b[39;49m\u001b[38;5;241;43m=\u001b[39;49m\u001b[38;5;28;43mself\u001b[39;49m\u001b[38;5;241;43m.\u001b[39;49m\u001b[43m__balance\u001b[49m:\n\u001b[1;32m     74\u001b[0m         \u001b[38;5;28mself\u001b[39m\u001b[38;5;241m.\u001b[39m__balance\u001b[38;5;241m=\u001b[39m\u001b[38;5;28mself\u001b[39m\u001b[38;5;241m.\u001b[39m__balance\u001b[38;5;241m-\u001b[39mamount\n\u001b[1;32m     75\u001b[0m         \u001b[38;5;28mprint\u001b[39m(\u001b[38;5;124mf\u001b[39m\u001b[38;5;124m\"\u001b[39m\u001b[38;5;124mwithdraw sucsseffully and current balance is \u001b[39m\u001b[38;5;132;01m{\u001b[39;00m\u001b[38;5;28mself\u001b[39m\u001b[38;5;241m.\u001b[39m__balance\u001b[38;5;132;01m}\u001b[39;00m\u001b[38;5;124m\"\u001b[39m )\n",
      "\u001b[0;31mTypeError\u001b[0m: '<=' not supported between instances of 'int' and 'str'"
     ]
    }
   ],
   "source": [
    "obj4.withdraw()"
   ]
  },
  {
   "cell_type": "code",
   "execution_count": 72,
   "id": "f9562fd2",
   "metadata": {},
   "outputs": [],
   "source": [
    "#adding condition check in setter method\n",
    "\n",
    "\n",
    "#we can also encapsulate functions also \n",
    "\n",
    "class ATM:\n",
    "    def __init__(self):\n",
    "        self.pin=\"\"\n",
    "        self.__balance=0 #private variable\n",
    "    \n",
    "    #getter method: to return value of private variable\n",
    "    \n",
    "    def get_balance(self):\n",
    "        return self.__balance\n",
    "    \n",
    "    #setter method : to set somethng in private variable\n",
    "    \n",
    "    def set_balance(self,new_balance):\n",
    "        if type(new_balance) == int:\n",
    "            self.__balance=new_balance\n",
    "        else:\n",
    "            print(\"Other formats of values not allowed\")\n",
    "    \n",
    "    def __menu(self):\n",
    "        user_input=input(\"\"\"\n",
    "        Hi how can i help you?\n",
    "\n",
    "        1. Press 1 to create pin\n",
    "        2. Press 2 to change pin\n",
    "        3. Press 3 to check balence\n",
    "        4. Press 4 to withdraw\n",
    "        5. Anything to exit\n",
    "        \n",
    "        \"\"\")\n",
    "        if user_input==\"1\":\n",
    "            self.create_pin()\n",
    "        elif user_input==\"2\":\n",
    "            self.change_pin()\n",
    "        elif user_input == '3':\n",
    "            self.check_balance()\n",
    "        elif user_input == '4':\n",
    "            self.withdraw()\n",
    "        else:\n",
    "            exit()\n",
    "    \n",
    "    def create_pin(self):\n",
    "        user_pin = input(\"Enter your pin: \")\n",
    "        self.pin = user_pin\n",
    "        user_balance = int(input(\"Enter Balance: \"))\n",
    "        self.__balance = user_balance\n",
    "        print(\"Pin created successfully\")\n",
    "    \n",
    "    def change_pin(self):\n",
    "        old_pin = input(\"Enter old pin: \")\n",
    "\n",
    "        if old_pin == self.pin:\n",
    "            new_pin = input(\"Enter new pin: \")\n",
    "            self.pin = new_pin\n",
    "            print(\"Pin changed Successfully!\")\n",
    "      # self.menu()\n",
    "\n",
    "        else:\n",
    "            print(\"Sorry you entered wrong pin.\")\n",
    "      # self.menu()\n",
    "    \n",
    "    def check_balance(self):\n",
    "        user_pin = input(\"Enter your pin: \")\n",
    "        if user_pin == self.pin:\n",
    "            print(f\"Your balance is {self.__balance}\")\n",
    "        else:\n",
    "            print(\"Your pin is correct, please try again\")\n",
    "    # self.menu()\n",
    "    \n",
    "    def withdraw(self):\n",
    "        user_pin=input(\"enter your pin\")\n",
    "\n",
    "        if user_pin==self.pin:\n",
    "            amount=int(input(\"enter amount to withdraw\"))\n",
    "            if amount <=self.__balance:\n",
    "                self.__balance=self.__balance-amount\n",
    "                print(f\"withdraw sucsseffully and current balance is {self.__balance}\" )\n",
    "            else:\n",
    "                print(\"entered amount is higher than balance-insufficient balance\")\n",
    "        else:\n",
    "            print(\"pin is wrong\")\n",
    "            #self.menu()\n",
    "        "
   ]
  },
  {
   "cell_type": "code",
   "execution_count": 76,
   "id": "500895ad",
   "metadata": {},
   "outputs": [],
   "source": [
    "obj4=ATM()\n"
   ]
  },
  {
   "cell_type": "code",
   "execution_count": 77,
   "id": "c6da520c",
   "metadata": {},
   "outputs": [
    {
     "data": {
      "text/plain": [
       "0"
      ]
     },
     "execution_count": 77,
     "metadata": {},
     "output_type": "execute_result"
    }
   ],
   "source": [
    "obj4.get_balance()"
   ]
  },
  {
   "cell_type": "code",
   "execution_count": 78,
   "id": "ae7d3359",
   "metadata": {},
   "outputs": [
    {
     "name": "stdout",
     "output_type": "stream",
     "text": [
      "Enter your pin: 123\n",
      "Enter Balance: 5000\n",
      "Pin created successfully\n"
     ]
    },
    {
     "data": {
      "text/plain": [
       "9000"
      ]
     },
     "execution_count": 78,
     "metadata": {},
     "output_type": "execute_result"
    }
   ],
   "source": [
    "obj4.create_pin()\n",
    "obj4.set_balance(9000)\n",
    "\n",
    "obj4.get_balance()"
   ]
  },
  {
   "cell_type": "code",
   "execution_count": 79,
   "id": "53997f21",
   "metadata": {},
   "outputs": [
    {
     "name": "stdout",
     "output_type": "stream",
     "text": [
      "Other formats of values not allowed\n"
     ]
    }
   ],
   "source": [
    "obj4.set_balance(\"9000\")"
   ]
  },
  {
   "cell_type": "code",
   "execution_count": 80,
   "id": "510e94f2",
   "metadata": {},
   "outputs": [
    {
     "data": {
      "text/plain": [
       "9000"
      ]
     },
     "execution_count": 80,
     "metadata": {},
     "output_type": "execute_result"
    }
   ],
   "source": [
    "obj4.get_balance()"
   ]
  },
  {
   "cell_type": "markdown",
   "id": "fbd40062",
   "metadata": {},
   "source": [
    "# Protected Variables : Used in inheritance concept in Python"
   ]
  },
  {
   "cell_type": "code",
   "execution_count": 81,
   "id": "1a986710",
   "metadata": {},
   "outputs": [],
   "source": [
    "class Person:\n",
    "    def __init__(self):\n",
    "        self._name=\"Atul\" #protected variable\n",
    "        self.country=\"India\"\n",
    "    "
   ]
  },
  {
   "cell_type": "code",
   "execution_count": 82,
   "id": "e0f83149",
   "metadata": {},
   "outputs": [],
   "source": [
    "#public: anyone can access\n",
    "#private: only you can access\n",
    "#friends: only the people you assign can access the variable"
   ]
  },
  {
   "cell_type": "code",
   "execution_count": null,
   "id": "dea010ba",
   "metadata": {},
   "outputs": [],
   "source": [
    "class Person:\n",
    "    def __init__(self):\n",
    "        self._name=\"Atul\" #protected variable\n",
    "        self.country=\"India\"\n",
    "\n",
    "class Person1:\n",
    "    pass #we will see in inheritcance concept how to access these protected variable, we only give acces to specific class"
   ]
  },
  {
   "cell_type": "code",
   "execution_count": 83,
   "id": "0cdd634a",
   "metadata": {},
   "outputs": [],
   "source": [
    "#__variable : Private variable\n",
    "\n",
    "# _variable : Protected\n",
    "\n",
    "# variable : Public"
   ]
  },
  {
   "cell_type": "code",
   "execution_count": null,
   "id": "a96a76d1",
   "metadata": {},
   "outputs": [],
   "source": []
  },
  {
   "cell_type": "code",
   "execution_count": null,
   "id": "15ffb384",
   "metadata": {},
   "outputs": [],
   "source": []
  },
  {
   "cell_type": "markdown",
   "id": "45945f66",
   "metadata": {},
   "source": [
    "# Static keyword"
   ]
  },
  {
   "cell_type": "code",
   "execution_count": 84,
   "id": "1d46cc28",
   "metadata": {},
   "outputs": [],
   "source": [
    "#adding condition check in setter method\n",
    "\n",
    "\n",
    "#we can also encapsulate functions also \n",
    "\n",
    "class ATM:\n",
    "    def __init__(self):\n",
    "        self.pin=\"\"\n",
    "        self.__balance=0 #private variable\n",
    "    \n",
    "    #getter method: to return value of private variable\n",
    "    \n",
    "    def get_balance(self):\n",
    "        return self.__balance\n",
    "    \n",
    "    #setter method : to set somethng in private variable\n",
    "    \n",
    "    def set_balance(self,new_balance):\n",
    "        if type(new_balance) == int:\n",
    "            self.__balance=new_balance\n",
    "        else:\n",
    "            print(\"Other formats of values not allowed\")\n",
    "    \n",
    "    def Bank_name():\n",
    "        print(\"Bank name is SBI\")\n",
    "    \n",
    "    def __menu(self):\n",
    "        user_input=input(\"\"\"\n",
    "        Hi how can i help you?\n",
    "\n",
    "        1. Press 1 to create pin\n",
    "        2. Press 2 to change pin\n",
    "        3. Press 3 to check balence\n",
    "        4. Press 4 to withdraw\n",
    "        5. Anything to exit\n",
    "        \n",
    "        \"\"\")\n",
    "        if user_input==\"1\":\n",
    "            self.create_pin()\n",
    "        elif user_input==\"2\":\n",
    "            self.change_pin()\n",
    "        elif user_input == '3':\n",
    "            self.check_balance()\n",
    "        elif user_input == '4':\n",
    "            self.withdraw()\n",
    "        else:\n",
    "            exit()\n",
    "    \n",
    "    def create_pin(self):\n",
    "        user_pin = input(\"Enter your pin: \")\n",
    "        self.pin = user_pin\n",
    "        user_balance = int(input(\"Enter Balance: \"))\n",
    "        self.__balance = user_balance\n",
    "        print(\"Pin created successfully\")\n",
    "    \n",
    "    def change_pin(self):\n",
    "        old_pin = input(\"Enter old pin: \")\n",
    "\n",
    "        if old_pin == self.pin:\n",
    "            new_pin = input(\"Enter new pin: \")\n",
    "            self.pin = new_pin\n",
    "            print(\"Pin changed Successfully!\")\n",
    "      # self.menu()\n",
    "\n",
    "        else:\n",
    "            print(\"Sorry you entered wrong pin.\")\n",
    "      # self.menu()\n",
    "    \n",
    "    def check_balance(self):\n",
    "        user_pin = input(\"Enter your pin: \")\n",
    "        if user_pin == self.pin:\n",
    "            print(f\"Your balance is {self.__balance}\")\n",
    "        else:\n",
    "            print(\"Your pin is correct, please try again\")\n",
    "    # self.menu()\n",
    "    \n",
    "    def withdraw(self):\n",
    "        user_pin=input(\"enter your pin\")\n",
    "\n",
    "        if user_pin==self.pin:\n",
    "            amount=int(input(\"enter amount to withdraw\"))\n",
    "            if amount <=self.__balance:\n",
    "                self.__balance=self.__balance-amount\n",
    "                print(f\"withdraw sucsseffully and current balance is {self.__balance}\" )\n",
    "            else:\n",
    "                print(\"entered amount is higher than balance-insufficient balance\")\n",
    "        else:\n",
    "            print(\"pin is wrong\")\n",
    "            #self.menu()\n",
    "        "
   ]
  },
  {
   "cell_type": "code",
   "execution_count": 85,
   "id": "20288af9",
   "metadata": {},
   "outputs": [
    {
     "ename": "TypeError",
     "evalue": "Bank_name() takes 0 positional arguments but 1 was given",
     "output_type": "error",
     "traceback": [
      "\u001b[0;31m---------------------------------------------------------------------------\u001b[0m",
      "\u001b[0;31mTypeError\u001b[0m                                 Traceback (most recent call last)",
      "Input \u001b[0;32mIn [85]\u001b[0m, in \u001b[0;36m<cell line: 3>\u001b[0;34m()\u001b[0m\n\u001b[1;32m      1\u001b[0m obj\u001b[38;5;241m=\u001b[39mATM()\n\u001b[0;32m----> 3\u001b[0m \u001b[43mobj\u001b[49m\u001b[38;5;241;43m.\u001b[39;49m\u001b[43mBank_name\u001b[49m\u001b[43m(\u001b[49m\u001b[43m)\u001b[49m\n",
      "\u001b[0;31mTypeError\u001b[0m: Bank_name() takes 0 positional arguments but 1 was given"
     ]
    }
   ],
   "source": [
    "obj=ATM()\n",
    "\n",
    "obj.Bank_name()\n",
    "#by defualt self is taken"
   ]
  },
  {
   "cell_type": "code",
   "execution_count": 86,
   "id": "04551f2a",
   "metadata": {},
   "outputs": [],
   "source": [
    "#but if we don't want to use self then we use static method"
   ]
  },
  {
   "cell_type": "code",
   "execution_count": 87,
   "id": "b75c3df1",
   "metadata": {},
   "outputs": [],
   "source": [
    "#adding condition check in setter method\n",
    "\n",
    "\n",
    "#we can also encapsulate functions also \n",
    "\n",
    "class ATM:\n",
    "    def __init__(self):\n",
    "        self.pin=\"\"\n",
    "        self.__balance=0 #private variable\n",
    "    \n",
    "    #getter method: to return value of private variable\n",
    "    \n",
    "    def get_balance(self):\n",
    "        return self.__balance\n",
    "    \n",
    "    #setter method : to set somethng in private variable\n",
    "    \n",
    "    def set_balance(self,new_balance):\n",
    "        if type(new_balance) == int:\n",
    "            self.__balance=new_balance\n",
    "        else:\n",
    "            print(\"Other formats of values not allowed\")\n",
    "    @staticmethod\n",
    "    def Bank_name():\n",
    "        print(\"Bank name is SBI\")\n",
    "    \n",
    "    def __menu(self):\n",
    "        user_input=input(\"\"\"\n",
    "        Hi how can i help you?\n",
    "\n",
    "        1. Press 1 to create pin\n",
    "        2. Press 2 to change pin\n",
    "        3. Press 3 to check balence\n",
    "        4. Press 4 to withdraw\n",
    "        5. Anything to exit\n",
    "        \n",
    "        \"\"\")\n",
    "        if user_input==\"1\":\n",
    "            self.create_pin()\n",
    "        elif user_input==\"2\":\n",
    "            self.change_pin()\n",
    "        elif user_input == '3':\n",
    "            self.check_balance()\n",
    "        elif user_input == '4':\n",
    "            self.withdraw()\n",
    "        else:\n",
    "            exit()\n",
    "    \n",
    "    def create_pin(self):\n",
    "        user_pin = input(\"Enter your pin: \")\n",
    "        self.pin = user_pin\n",
    "        user_balance = int(input(\"Enter Balance: \"))\n",
    "        self.__balance = user_balance\n",
    "        print(\"Pin created successfully\")\n",
    "    \n",
    "    def change_pin(self):\n",
    "        old_pin = input(\"Enter old pin: \")\n",
    "\n",
    "        if old_pin == self.pin:\n",
    "            new_pin = input(\"Enter new pin: \")\n",
    "            self.pin = new_pin\n",
    "            print(\"Pin changed Successfully!\")\n",
    "      # self.menu()\n",
    "\n",
    "        else:\n",
    "            print(\"Sorry you entered wrong pin.\")\n",
    "      # self.menu()\n",
    "    \n",
    "    def check_balance(self):\n",
    "        user_pin = input(\"Enter your pin: \")\n",
    "        if user_pin == self.pin:\n",
    "            print(f\"Your balance is {self.__balance}\")\n",
    "        else:\n",
    "            print(\"Your pin is correct, please try again\")\n",
    "    # self.menu()\n",
    "    \n",
    "    def withdraw(self):\n",
    "        user_pin=input(\"enter your pin\")\n",
    "\n",
    "        if user_pin==self.pin:\n",
    "            amount=int(input(\"enter amount to withdraw\"))\n",
    "            if amount <=self.__balance:\n",
    "                self.__balance=self.__balance-amount\n",
    "                print(f\"withdraw sucsseffully and current balance is {self.__balance}\" )\n",
    "            else:\n",
    "                print(\"entered amount is higher than balance-insufficient balance\")\n",
    "        else:\n",
    "            print(\"pin is wrong\")\n",
    "            #self.menu()\n",
    "        "
   ]
  },
  {
   "cell_type": "code",
   "execution_count": 89,
   "id": "c1cc907c",
   "metadata": {},
   "outputs": [
    {
     "name": "stdout",
     "output_type": "stream",
     "text": [
      "Bank name is SBI\n"
     ]
    }
   ],
   "source": [
    "obj=ATM()\n",
    "\n",
    "obj.Bank_name()\n",
    "#statsic method can be used anywhere in any class"
   ]
  },
  {
   "cell_type": "code",
   "execution_count": 90,
   "id": "9f2f127b",
   "metadata": {},
   "outputs": [],
   "source": [
    "#static variable\n",
    "\n",
    "#adding condition check in setter method\n",
    "\n",
    "\n",
    "#we can also encapsulate functions also \n",
    "\n",
    "class ATM:\n",
    "    counter = 0\n",
    "    def __init__(self):\n",
    "        self.pin=\"\"\n",
    "        self.__balance=0 #private variable\n",
    "        self.count=ATM.counter\n",
    "    \n",
    "    #getter method: to return value of private variable\n",
    "    \n",
    "    def get_balance(self):\n",
    "        return self.__balance\n",
    "    \n",
    "    #setter method : to set somethng in private variable\n",
    "    \n",
    "    def set_balance(self,new_balance):\n",
    "        if type(new_balance) == int:\n",
    "            self.__balance=new_balance\n",
    "        else:\n",
    "            print(\"Other formats of values not allowed\")\n",
    "    @staticmethod\n",
    "    def Bank_name():\n",
    "        print(\"Bank name is SBI\")\n",
    "    \n",
    "    def __menu(self):\n",
    "        user_input=input(\"\"\"\n",
    "        Hi how can i help you?\n",
    "\n",
    "        1. Press 1 to create pin\n",
    "        2. Press 2 to change pin\n",
    "        3. Press 3 to check balence\n",
    "        4. Press 4 to withdraw\n",
    "        5. Anything to exit\n",
    "        \n",
    "        \"\"\")\n",
    "        if user_input==\"1\":\n",
    "            self.create_pin()\n",
    "        elif user_input==\"2\":\n",
    "            self.change_pin()\n",
    "        elif user_input == '3':\n",
    "            self.check_balance()\n",
    "        elif user_input == '4':\n",
    "            self.withdraw()\n",
    "        else:\n",
    "            exit()\n",
    "    \n",
    "    def create_pin(self):\n",
    "        user_pin = input(\"Enter your pin: \")\n",
    "        self.pin = user_pin\n",
    "        user_balance = int(input(\"Enter Balance: \"))\n",
    "        self.__balance = user_balance\n",
    "        print(\"Pin created successfully\")\n",
    "    \n",
    "    def change_pin(self):\n",
    "        old_pin = input(\"Enter old pin: \")\n",
    "\n",
    "        if old_pin == self.pin:\n",
    "            new_pin = input(\"Enter new pin: \")\n",
    "            self.pin = new_pin\n",
    "            print(\"Pin changed Successfully!\")\n",
    "      # self.menu()\n",
    "\n",
    "        else:\n",
    "            print(\"Sorry you entered wrong pin.\")\n",
    "      # self.menu()\n",
    "    \n",
    "    def check_balance(self):\n",
    "        user_pin = input(\"Enter your pin: \")\n",
    "        if user_pin == self.pin:\n",
    "            print(f\"Your balance is {self.__balance}\")\n",
    "        else:\n",
    "            print(\"Your pin is correct, please try again\")\n",
    "    # self.menu()\n",
    "    \n",
    "    def withdraw(self):\n",
    "        user_pin=input(\"enter your pin\")\n",
    "\n",
    "        if user_pin==self.pin:\n",
    "            amount=int(input(\"enter amount to withdraw\"))\n",
    "            if amount <=self.__balance:\n",
    "                self.__balance=self.__balance-amount\n",
    "                print(f\"withdraw sucsseffully and current balance is {self.__balance}\" )\n",
    "            else:\n",
    "                print(\"entered amount is higher than balance-insufficient balance\")\n",
    "        else:\n",
    "            print(\"pin is wrong\")\n",
    "            #self.menu()\n",
    "        "
   ]
  },
  {
   "cell_type": "code",
   "execution_count": 91,
   "id": "aebd8474",
   "metadata": {},
   "outputs": [
    {
     "data": {
      "text/plain": [
       "0"
      ]
     },
     "execution_count": 91,
     "metadata": {},
     "output_type": "execute_result"
    }
   ],
   "source": [
    "obj=ATM()\n",
    "\n",
    "obj.count"
   ]
  },
  {
   "cell_type": "code",
   "execution_count": 92,
   "id": "89243a63",
   "metadata": {},
   "outputs": [
    {
     "data": {
      "text/plain": [
       "0"
      ]
     },
     "execution_count": 92,
     "metadata": {},
     "output_type": "execute_result"
    }
   ],
   "source": [
    "ATM.counter"
   ]
  },
  {
   "cell_type": "code",
   "execution_count": 93,
   "id": "0435d956",
   "metadata": {},
   "outputs": [],
   "source": [
    "#if you want to call the static variable call by class name\n",
    "#accessing static variable is through object name"
   ]
  },
  {
   "cell_type": "code",
   "execution_count": null,
   "id": "3b13aafc",
   "metadata": {},
   "outputs": [],
   "source": []
  }
 ],
 "metadata": {
  "kernelspec": {
   "display_name": "Python 3 (ipykernel)",
   "language": "python",
   "name": "python3"
  },
  "language_info": {
   "codemirror_mode": {
    "name": "ipython",
    "version": 3
   },
   "file_extension": ".py",
   "mimetype": "text/x-python",
   "name": "python",
   "nbconvert_exporter": "python",
   "pygments_lexer": "ipython3",
   "version": "3.8.3rc1"
  }
 },
 "nbformat": 4,
 "nbformat_minor": 5
}
