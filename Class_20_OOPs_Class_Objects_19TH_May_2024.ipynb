{
  "nbformat": 4,
  "nbformat_minor": 0,
  "metadata": {
    "colab": {
      "provenance": []
    },
    "kernelspec": {
      "name": "python3",
      "display_name": "Python 3"
    },
    "language_info": {
      "name": "python"
    }
  },
  "cells": [
    {
      "cell_type": "code",
      "execution_count": 1,
      "metadata": {
        "colab": {
          "base_uri": "https://localhost:8080/"
        },
        "id": "CXHWcGqWq1Dx",
        "outputId": "a471352a-7d2a-4ba1-aedf-c3e03ddf4ac3"
      },
      "outputs": [
        {
          "output_type": "stream",
          "name": "stdout",
          "text": [
            "Hello world\n"
          ]
        }
      ],
      "source": [
        "print(\"Hello world\")"
      ]
    },
    {
      "cell_type": "code",
      "source": [
        "print(\"Atul\")"
      ],
      "metadata": {
        "colab": {
          "base_uri": "https://localhost:8080/"
        },
        "id": "BB0bBDTorEHk",
        "outputId": "86b8d807-d9b1-484b-e5fa-f5340c6c4516"
      },
      "execution_count": 2,
      "outputs": [
        {
          "output_type": "stream",
          "name": "stdout",
          "text": [
            "Atul\n"
          ]
        }
      ]
    },
    {
      "cell_type": "code",
      "source": [
        "l =[1,2,3]\n",
        "\n",
        "l.upper()"
      ],
      "metadata": {
        "colab": {
          "base_uri": "https://localhost:8080/",
          "height": 173
        },
        "id": "mBoaGAU9rI3P",
        "outputId": "958beb40-c62f-49c9-88d3-a7bec70cecc1"
      },
      "execution_count": 3,
      "outputs": [
        {
          "output_type": "error",
          "ename": "AttributeError",
          "evalue": "'list' object has no attribute 'upper'",
          "traceback": [
            "\u001b[0;31m---------------------------------------------------------------------------\u001b[0m",
            "\u001b[0;31mAttributeError\u001b[0m                            Traceback (most recent call last)",
            "\u001b[0;32m<ipython-input-3-39383cb7f3df>\u001b[0m in \u001b[0;36m<cell line: 3>\u001b[0;34m()\u001b[0m\n\u001b[1;32m      1\u001b[0m \u001b[0ml\u001b[0m \u001b[0;34m=\u001b[0m\u001b[0;34m[\u001b[0m\u001b[0;36m1\u001b[0m\u001b[0;34m,\u001b[0m\u001b[0;36m2\u001b[0m\u001b[0;34m,\u001b[0m\u001b[0;36m3\u001b[0m\u001b[0;34m]\u001b[0m\u001b[0;34m\u001b[0m\u001b[0;34m\u001b[0m\u001b[0m\n\u001b[1;32m      2\u001b[0m \u001b[0;34m\u001b[0m\u001b[0m\n\u001b[0;32m----> 3\u001b[0;31m \u001b[0ml\u001b[0m\u001b[0;34m.\u001b[0m\u001b[0mupper\u001b[0m\u001b[0;34m(\u001b[0m\u001b[0;34m)\u001b[0m\u001b[0;34m\u001b[0m\u001b[0;34m\u001b[0m\u001b[0m\n\u001b[0m",
            "\u001b[0;31mAttributeError\u001b[0m: 'list' object has no attribute 'upper'"
          ]
        }
      ]
    },
    {
      "cell_type": "code",
      "source": [
        "s = \"atul\"\n",
        "\n",
        "s.append(\"d\")"
      ],
      "metadata": {
        "colab": {
          "base_uri": "https://localhost:8080/",
          "height": 173
        },
        "id": "gy8z2GHlrZuu",
        "outputId": "f4f06a78-a19c-4be7-d803-6ff150704d68"
      },
      "execution_count": 4,
      "outputs": [
        {
          "output_type": "error",
          "ename": "AttributeError",
          "evalue": "'str' object has no attribute 'append'",
          "traceback": [
            "\u001b[0;31m---------------------------------------------------------------------------\u001b[0m",
            "\u001b[0;31mAttributeError\u001b[0m                            Traceback (most recent call last)",
            "\u001b[0;32m<ipython-input-4-97b7128a84f9>\u001b[0m in \u001b[0;36m<cell line: 3>\u001b[0;34m()\u001b[0m\n\u001b[1;32m      1\u001b[0m \u001b[0ms\u001b[0m \u001b[0;34m=\u001b[0m \u001b[0;34m\"atul\"\u001b[0m\u001b[0;34m\u001b[0m\u001b[0;34m\u001b[0m\u001b[0m\n\u001b[1;32m      2\u001b[0m \u001b[0;34m\u001b[0m\u001b[0m\n\u001b[0;32m----> 3\u001b[0;31m \u001b[0ms\u001b[0m\u001b[0;34m.\u001b[0m\u001b[0mappend\u001b[0m\u001b[0;34m(\u001b[0m\u001b[0;34m\"d\"\u001b[0m\u001b[0;34m)\u001b[0m\u001b[0;34m\u001b[0m\u001b[0;34m\u001b[0m\u001b[0m\n\u001b[0m",
            "\u001b[0;31mAttributeError\u001b[0m: 'str' object has no attribute 'append'"
          ]
        }
      ]
    },
    {
      "cell_type": "code",
      "source": [
        "L=[1,2,3]\n",
        "\n",
        "print(type(L))\n",
        "\n",
        "#LIST IS CLASS\n",
        "#L ISOBJECT OF LIST CLASS"
      ],
      "metadata": {
        "colab": {
          "base_uri": "https://localhost:8080/"
        },
        "id": "_8-ckyPbrhim",
        "outputId": "90d2bafd-a96e-40de-cc94-79326857f8ac"
      },
      "execution_count": 6,
      "outputs": [
        {
          "output_type": "stream",
          "name": "stdout",
          "text": [
            "<class 'list'>\n"
          ]
        }
      ]
    },
    {
      "cell_type": "code",
      "source": [
        "#object = classname()\n",
        "L =list()"
      ],
      "metadata": {
        "id": "b6poLB29r2Ot"
      },
      "execution_count": 7,
      "outputs": []
    },
    {
      "cell_type": "code",
      "source": [
        "S=str()\n",
        "\n",
        "#S is object\n",
        "#str is class\n",
        "\n",
        "#CLASS IS BLUEPRINT\n",
        "#OBJECT IS INSTANCE OF CLASS\n",
        "\n",
        "\n",
        "\n",
        "# class has 2 properties\n",
        "# data properties\n",
        "#function methods"
      ],
      "metadata": {
        "id": "JnT6rxI2sXhF"
      },
      "execution_count": 8,
      "outputs": []
    },
    {
      "cell_type": "code",
      "source": [
        "#Example in ATM machine:\n",
        "\n",
        "# data is balance, pin,\n",
        "\n",
        "#finctions: Create a pin, CHANGE PIN, CHECK BALANCE, withdraw money"
      ],
      "metadata": {
        "id": "tdapa1hUtBy3"
      },
      "execution_count": null,
      "outputs": []
    },
    {
      "cell_type": "code",
      "source": [
        "#EXAMPLE IN ROBOT\n",
        "\n",
        "#data is NAME OF ROBOT, NUMBER OF HANDS, NUMBER OF LEGS, NUMBER OF SENSORS\n",
        "\n",
        "# FUNCTION: Movement, listen, speak, FIRE FIGHTING FUNCTIONALITY, WALK"
      ],
      "metadata": {
        "id": "YLAxPeuh3jJz"
      },
      "execution_count": 1,
      "outputs": []
    },
    {
      "cell_type": "code",
      "source": [
        "class AtmMachine:\n",
        "  pass\n"
      ],
      "metadata": {
        "id": "lOQJMVF73-Ya"
      },
      "execution_count": 3,
      "outputs": []
    },
    {
      "cell_type": "code",
      "source": [
        "class Atm:\n",
        "  #DEFINE CONSTRUCTOR : special function WITH SOME SUPER POWERS\n",
        "  def __init__(self):\n",
        "    print(\"Hello\")\n"
      ],
      "metadata": {
        "id": "Im_osr0S4Exp"
      },
      "execution_count": 10,
      "outputs": []
    },
    {
      "cell_type": "code",
      "source": [
        "obj=Atm()\n",
        "#we did not called any function but still we got the output\n",
        "#constructor will get automatically get called when we create object of any class"
      ],
      "metadata": {
        "colab": {
          "base_uri": "https://localhost:8080/"
        },
        "id": "nlnpIH9_4jVi",
        "outputId": "44e41311-2da8-4725-fb71-179d37c02848"
      },
      "execution_count": 14,
      "outputs": [
        {
          "output_type": "stream",
          "name": "stdout",
          "text": [
            "Hello\n"
          ]
        }
      ]
    },
    {
      "cell_type": "code",
      "source": [
        "def main():\n",
        "  print(\"Hello\")"
      ],
      "metadata": {
        "id": "DOGJpzwJ4ncO"
      },
      "execution_count": 12,
      "outputs": []
    },
    {
      "cell_type": "code",
      "source": [
        "main()"
      ],
      "metadata": {
        "colab": {
          "base_uri": "https://localhost:8080/"
        },
        "id": "sGSskNYs4_mu",
        "outputId": "d167ec4f-2ae8-41cb-b869-45b0c65e6dfe"
      },
      "execution_count": 13,
      "outputs": [
        {
          "output_type": "stream",
          "name": "stdout",
          "text": [
            "Hello\n"
          ]
        }
      ]
    },
    {
      "cell_type": "code",
      "source": [
        "class Atm:\n",
        "  #DEFINE CONSTRUCTOR : special function WITH SOME SUPER POWERS\n",
        "  def __init__(self):\n",
        "    #print(\"Hello\")\n",
        "    self.pin=\"\"\n",
        "    self.balance=0"
      ],
      "metadata": {
        "id": "t5YC1Yrz5BxO"
      },
      "execution_count": 17,
      "outputs": []
    },
    {
      "cell_type": "code",
      "source": [
        "obj=Atm()"
      ],
      "metadata": {
        "id": "ZreRSejC5udo"
      },
      "execution_count": 18,
      "outputs": []
    },
    {
      "cell_type": "code",
      "source": [
        "#why we give self\n",
        "\n",
        "#self means this is an instance of that ATM  class\n",
        "\n",
        "#only atm CLASS can access these components and not other class"
      ],
      "metadata": {
        "id": "4B7TQjJY5xPo"
      },
      "execution_count": 19,
      "outputs": []
    },
    {
      "cell_type": "code",
      "source": [
        "# Creating methods in ATM class"
      ],
      "metadata": {
        "id": "slrUYLLo6LnY"
      },
      "execution_count": 21,
      "outputs": []
    },
    {
      "cell_type": "code",
      "source": [
        "class Atm:\n",
        "  #DEFINE CONSTRUCTOR : special function WITH SOME SUPER POWERS\n",
        "  def __init__(self):\n",
        "    #print(\"Hello\")\n",
        "    self.pin=\"\"\n",
        "    self.balance=0\n",
        "\n",
        "  def menu(self):\n",
        "    user_input=input(\"\"\"Hi How can I help you!\n",
        "    1. Press 1 to create pin\n",
        "    2. Press 2 to change Pin\n",
        "    3. Press 3 to check balance\n",
        "    4. Press 4 to withdraw\n",
        "    5. Anything to exit\n",
        "    \"\"\")"
      ],
      "metadata": {
        "id": "FtI635Ee6UNf"
      },
      "execution_count": 22,
      "outputs": []
    },
    {
      "cell_type": "code",
      "source": [
        "obj=Atm()"
      ],
      "metadata": {
        "id": "Rbe61_DF7CcP"
      },
      "execution_count": 23,
      "outputs": []
    },
    {
      "cell_type": "code",
      "source": [
        "obj.menu()"
      ],
      "metadata": {
        "colab": {
          "base_uri": "https://localhost:8080/"
        },
        "id": "BBmvHX5B7FK8",
        "outputId": "624f8a71-88a4-49d9-add7-33d6bd48341d"
      },
      "execution_count": 25,
      "outputs": [
        {
          "name": "stdout",
          "output_type": "stream",
          "text": [
            "Hi How can I help you!\n",
            "    1. Press 1 to create pin\n",
            "    2. Press 2 to change Pin\n",
            "    3. Press 3 to check balance\n",
            "    4. Press 4 to withdraw\n",
            "    5. Anything to exit\n",
            "    4\n"
          ]
        }
      ]
    },
    {
      "cell_type": "code",
      "source": [
        "class Atm:\n",
        "  #DEFINE CONSTRUCTOR : special function WITH SOME SUPER POWERS\n",
        "  def __init__(self):\n",
        "    #print(\"Hello\")\n",
        "    self.pin=\"\"\n",
        "    self.balance=0\n",
        "    self.menu()\n",
        "\n",
        "  def menu(self):\n",
        "    user_input=input(\"\"\"Hi How can I help you!\n",
        "    1. Press 1 to create pin\n",
        "    2. Press 2 to change Pin\n",
        "    3. Press 3 to check balance\n",
        "    4. Press 4 to withdraw\n",
        "    5. Anything to exit\n",
        "    \"\"\")"
      ],
      "metadata": {
        "id": "IFN3NZjf7Mfr"
      },
      "execution_count": 26,
      "outputs": []
    },
    {
      "cell_type": "code",
      "source": [
        "obj2=Atm()"
      ],
      "metadata": {
        "colab": {
          "base_uri": "https://localhost:8080/"
        },
        "id": "PeOnwMYm7lju",
        "outputId": "860fc278-e0d9-4d9e-a0c3-fcda141c9fbc"
      },
      "execution_count": 27,
      "outputs": [
        {
          "name": "stdout",
          "output_type": "stream",
          "text": [
            "Hi How can I help you!\n",
            "    1. Press 1 to create pin\n",
            "    2. Press 2 to change Pin\n",
            "    3. Press 3 to check balance\n",
            "    4. Press 4 to withdraw\n",
            "    5. Anything to exit\n",
            "    3\n"
          ]
        }
      ]
    },
    {
      "cell_type": "code",
      "source": [
        "class Atm:\n",
        "  #DEFINE CONSTRUCTOR : special function WITH SOME SUPER POWERS\n",
        "  def __init__(self):\n",
        "    #print(\"Hello\")\n",
        "    self.pin=\"\"\n",
        "    self.balance=0\n",
        "    self.menu()\n",
        "\n",
        "  def menu(self):\n",
        "    user_input=input(\"\"\"Hi How can I help you!\n",
        "    1. Press 1 to create pin\n",
        "    2. Press 2 to change Pin\n",
        "    3. Press 3 to check balance\n",
        "    4. Press 4 to withdraw\n",
        "    5. Anything to exit\n",
        "    \"\"\"\n",
        "    )\n",
        "\n",
        "    if user_input==\"1\":\n",
        "    #create pin\n",
        "      self.create_pin()\n",
        "    elif user_input==\"2\":\n",
        "  #change pin\n",
        "      self.change_pin()\n",
        "    elif user_input==\"3\":\n",
        "  #check balance\n",
        "      self.check_balance()\n",
        "    elif user_input==\"4\":\n",
        "  #withdraw\n",
        "      self.withdraw()\n",
        "    else:\n",
        "      exit()\n",
        "\n",
        "  def create_pin(self):\n",
        "    user_pin=input(\"enter your pin\")\n",
        "    self.pin=user_pin\n",
        "\n",
        "    user_balance=int(input(\"enter balance\"))\n",
        "    self.balance=user_balance\n",
        "\n",
        "    print(\"Pin create successfully\")\n",
        "    self.menu()  #menu will be launched to user\n",
        "\n",
        "  def change_pin(self):\n",
        "    #pass\n",
        "    old_pin=input(\"enter old pin\")\n",
        "    if old_pin==self.pin:\n",
        "      #let change the pin\n",
        "      new_pin=input(\"enter new pin\")\n",
        "      self.pin=new_pin\n",
        "      print(\"pin changed successfully\")\n",
        "      self.menu()\n",
        "    else:\n",
        "      print(\"sorry you entered wrong pin\")\n",
        "      self.menu()\n",
        "\n",
        "  def check_balance(self):\n",
        "      #pass\n",
        "      user_pin=input(\"enter your pin\")\n",
        "\n",
        "      if user_pin==self.pin:\n",
        "        print(f\"your balance is {self.balance}\")\n",
        "      else:\n",
        "        print(\"your pin did not matched\")\n",
        "      self.menu()\n",
        "\n",
        "  def withdraw(self):\n",
        "      #pass\n",
        "\n",
        "      user_pin=input(\"enter your pin\")\n",
        "\n",
        "      if user_pin==self.pin:\n",
        "        amount=int(input(\"enter amount to withdraw\"))\n",
        "        if amount <=self.balance:\n",
        "          self.balance=self.balance-amount\n",
        "          print(f\"withdraw sucsseffully and current balance is {self.balance}\" )\n",
        "        else:\n",
        "          print(\"entered amount is higher than balance-insufficient balance\")\n",
        "      else:\n",
        "        print(\"pin is wrong\")\n",
        "      self.menu()\n",
        "\n",
        "\n",
        "\n",
        "\n",
        "\n"
      ],
      "metadata": {
        "id": "SX7MfrYx7nKj"
      },
      "execution_count": 49,
      "outputs": []
    },
    {
      "cell_type": "code",
      "source": [
        "obj=Atm()"
      ],
      "metadata": {
        "colab": {
          "base_uri": "https://localhost:8080/"
        },
        "id": "Qy5NZ7tQ93D5",
        "outputId": "3e669db6-a2c9-4147-a68d-09aabda1c7f9"
      },
      "execution_count": 50,
      "outputs": [
        {
          "output_type": "stream",
          "name": "stdout",
          "text": [
            "Hi How can I help you!\n",
            "    1. Press 1 to create pin\n",
            "    2. Press 2 to change Pin\n",
            "    3. Press 3 to check balance\n",
            "    4. Press 4 to withdraw\n",
            "    5. Anything to exit\n",
            "    1\n",
            "enter your pin123\n",
            "enter balance5000\n",
            "Pin create successfully\n",
            "Hi How can I help you!\n",
            "    1. Press 1 to create pin\n",
            "    2. Press 2 to change Pin\n",
            "    3. Press 3 to check balance\n",
            "    4. Press 4 to withdraw\n",
            "    5. Anything to exit\n",
            "    2\n",
            "enter old pin123\n",
            "enter new pin456\n",
            "pin changed successfully\n",
            "Hi How can I help you!\n",
            "    1. Press 1 to create pin\n",
            "    2. Press 2 to change Pin\n",
            "    3. Press 3 to check balance\n",
            "    4. Press 4 to withdraw\n",
            "    5. Anything to exit\n",
            "    3\n",
            "enter your pin456\n",
            "your balance is 5000\n",
            "Hi How can I help you!\n",
            "    1. Press 1 to create pin\n",
            "    2. Press 2 to change Pin\n",
            "    3. Press 3 to check balance\n",
            "    4. Press 4 to withdraw\n",
            "    5. Anything to exit\n",
            "    4\n",
            "enter your pin456\n",
            "enter amount to withdraw3000\n",
            "withdraw sucsseffully and current balance is 2000\n"
          ]
        }
      ]
    },
    {
      "cell_type": "code",
      "source": [
        "#when to call method and when to call function\n",
        "\n",
        "#finction written inisde a class is called method\n",
        "\n",
        "\n",
        "L=[1,2,3]\n",
        "\n",
        "len(L) # function  -> outside of class\n",
        "\n",
        "L.append(7) #method --> inside of a class\n",
        "\n",
        "print(L)"
      ],
      "metadata": {
        "colab": {
          "base_uri": "https://localhost:8080/"
        },
        "id": "YaNlbS29Aiaa",
        "outputId": "2c3e04ad-e6d5-4f4e-d058-33290b9005b5"
      },
      "execution_count": 53,
      "outputs": [
        {
          "output_type": "stream",
          "name": "stdout",
          "text": [
            "[1, 2, 3, 7]\n"
          ]
        }
      ]
    },
    {
      "cell_type": "code",
      "source": [
        "#print is a function and not a method"
      ],
      "metadata": {
        "id": "lWhfhKBFGyqu"
      },
      "execution_count": null,
      "outputs": []
    }
  ]
}