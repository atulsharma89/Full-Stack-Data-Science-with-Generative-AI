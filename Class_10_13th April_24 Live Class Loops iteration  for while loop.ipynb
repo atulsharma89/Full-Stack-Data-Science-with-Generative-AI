{
 "cells": [
  {
   "cell_type": "code",
   "execution_count": 1,
   "id": "bb40e1ed",
   "metadata": {},
   "outputs": [],
   "source": [
    "#need of loop: to do some action or task which is similar or exactly same, for more than one time"
   ]
  },
  {
   "cell_type": "code",
   "execution_count": 2,
   "id": "05fc729d",
   "metadata": {},
   "outputs": [
    {
     "name": "stdout",
     "output_type": "stream",
     "text": [
      "helo\n",
      "helo\n",
      "helo\n",
      "helo\n"
     ]
    }
   ],
   "source": [
    "print(\"helo\")\n",
    "print(\"helo\")\n",
    "print(\"helo\")\n",
    "print(\"helo\")"
   ]
  },
  {
   "cell_type": "code",
   "execution_count": 3,
   "id": "687838b1",
   "metadata": {},
   "outputs": [],
   "source": [
    "lst=['name','age',20,40]"
   ]
  },
  {
   "cell_type": "code",
   "execution_count": 4,
   "id": "120f5a49",
   "metadata": {},
   "outputs": [
    {
     "data": {
      "text/plain": [
       "20"
      ]
     },
     "execution_count": 4,
     "metadata": {},
     "output_type": "execute_result"
    }
   ],
   "source": [
    "lst[2]"
   ]
  },
  {
   "cell_type": "code",
   "execution_count": 5,
   "id": "5e006aa9",
   "metadata": {},
   "outputs": [],
   "source": [
    "#the issue is if we don't loop then our code will become long and complex"
   ]
  },
  {
   "cell_type": "code",
   "execution_count": 6,
   "id": "1cab9f78",
   "metadata": {},
   "outputs": [],
   "source": [
    "#DRY: Do not repeat yourself"
   ]
  },
  {
   "cell_type": "code",
   "execution_count": 8,
   "id": "48fbc887",
   "metadata": {},
   "outputs": [],
   "source": [
    "#In python we have 2 loops\n",
    "\n",
    "# While\n",
    "#For\n",
    "\n",
    "\n",
    "#Do while does not exist in Python"
   ]
  },
  {
   "cell_type": "markdown",
   "id": "a3368ee6",
   "metadata": {},
   "source": [
    "# While Loop"
   ]
  },
  {
   "cell_type": "code",
   "execution_count": 9,
   "id": "e5468902",
   "metadata": {},
   "outputs": [],
   "source": [
    "#while condition:\n",
    "#    logic of what to do\n",
    "#    CONDITION Update  #TO MAKE SURE IT DOES NOT END UP AS INFINOTE LOOP WE NEED TO MAKE SURE TO UPDATE THE CONDITION"
   ]
  },
  {
   "cell_type": "code",
   "execution_count": 15,
   "id": "c8978984",
   "metadata": {},
   "outputs": [
    {
     "name": "stdout",
     "output_type": "stream",
     "text": [
      "0\n",
      "Hello in loop\n",
      "1\n",
      "Hello in loop\n",
      "2\n",
      "Hello in loop\n",
      "I am out of loop\n"
     ]
    }
   ],
   "source": [
    "start = 0\n",
    "end = 3\n",
    "\n",
    "while start < end:\n",
    "    print(start)\n",
    "    print(\"Hello in loop\")\n",
    "    \n",
    "    start = start + 1\n",
    "print(\"I am out of loop\")"
   ]
  },
  {
   "cell_type": "code",
   "execution_count": 16,
   "id": "cb154bd8",
   "metadata": {},
   "outputs": [
    {
     "name": "stdout",
     "output_type": "stream",
     "text": [
      "4\n",
      "Hello in loop\n",
      "I am out of loop\n"
     ]
    }
   ],
   "source": [
    "start = 4\n",
    "end = 5\n",
    "\n",
    "while start < end:\n",
    "    print(start)\n",
    "    print(\"Hello in loop\")\n",
    "    \n",
    "    start = start + 1\n",
    "print(\"I am out of loop\")\n"
   ]
  },
  {
   "cell_type": "code",
   "execution_count": 17,
   "id": "572295fc",
   "metadata": {},
   "outputs": [],
   "source": [
    "while start < end:\n",
    "    print(start)"
   ]
  },
  {
   "cell_type": "code",
   "execution_count": 18,
   "id": "091cefa3",
   "metadata": {},
   "outputs": [
    {
     "name": "stdout",
     "output_type": "stream",
     "text": [
      "490\n"
     ]
    }
   ],
   "source": [
    "s = 2\n",
    "e = 5\n",
    "\n",
    "while s < e:\n",
    "    s=490\n",
    "    print(s)"
   ]
  },
  {
   "cell_type": "code",
   "execution_count": 19,
   "id": "84e527a2",
   "metadata": {},
   "outputs": [
    {
     "name": "stdout",
     "output_type": "stream",
     "text": [
      "-50.0\n",
      "-100.0\n"
     ]
    },
    {
     "ename": "ZeroDivisionError",
     "evalue": "division by zero",
     "output_type": "error",
     "traceback": [
      "\u001b[0;31m---------------------------------------------------------------------------\u001b[0m",
      "\u001b[0;31mZeroDivisionError\u001b[0m                         Traceback (most recent call last)",
      "Input \u001b[0;32mIn [19]\u001b[0m, in \u001b[0;36m<cell line: 4>\u001b[0;34m()\u001b[0m\n\u001b[1;32m      2\u001b[0m e \u001b[38;5;241m=\u001b[39m \u001b[38;5;241m2\u001b[39m\n\u001b[1;32m      4\u001b[0m \u001b[38;5;28;01mwhile\u001b[39;00m s \u001b[38;5;241m<\u001b[39m e:\n\u001b[0;32m----> 5\u001b[0m     \u001b[38;5;28mprint\u001b[39m(\u001b[38;5;241;43m100\u001b[39;49m\u001b[38;5;241;43m/\u001b[39;49m\u001b[43ms\u001b[49m)\n\u001b[1;32m      6\u001b[0m     s \u001b[38;5;241m=\u001b[39m s\u001b[38;5;241m+\u001b[39m\u001b[38;5;241m1\u001b[39m\n",
      "\u001b[0;31mZeroDivisionError\u001b[0m: division by zero"
     ]
    }
   ],
   "source": [
    "s = -2\n",
    "e = 2\n",
    "\n",
    "while s < e:\n",
    "    print(100/s)\n",
    "    s = s+1"
   ]
  },
  {
   "cell_type": "markdown",
   "id": "7f4a8fbf",
   "metadata": {},
   "source": [
    "# CONTINUE"
   ]
  },
  {
   "cell_type": "code",
   "execution_count": 20,
   "id": "217d8041",
   "metadata": {},
   "outputs": [
    {
     "name": "stdout",
     "output_type": "stream",
     "text": [
      "-50.0\n",
      "-100.0\n"
     ]
    },
    {
     "ename": "KeyboardInterrupt",
     "evalue": "",
     "output_type": "error",
     "traceback": [
      "\u001b[0;31m---------------------------------------------------------------------------\u001b[0m",
      "\u001b[0;31mKeyboardInterrupt\u001b[0m                         Traceback (most recent call last)",
      "Input \u001b[0;32mIn [20]\u001b[0m, in \u001b[0;36m<cell line: 4>\u001b[0;34m()\u001b[0m\n\u001b[1;32m      1\u001b[0m s \u001b[38;5;241m=\u001b[39m \u001b[38;5;241m-\u001b[39m\u001b[38;5;241m2\u001b[39m\n\u001b[1;32m      2\u001b[0m e \u001b[38;5;241m=\u001b[39m \u001b[38;5;241m2\u001b[39m\n\u001b[0;32m----> 4\u001b[0m \u001b[38;5;28;01mwhile\u001b[39;00m \u001b[43ms\u001b[49m\u001b[43m \u001b[49m\u001b[38;5;241;43m<\u001b[39;49m\u001b[43m \u001b[49m\u001b[43me\u001b[49m:\n\u001b[1;32m      5\u001b[0m     \u001b[38;5;28;01mif\u001b[39;00m s \u001b[38;5;241m==\u001b[39m\u001b[38;5;241m0\u001b[39m:\n\u001b[1;32m      6\u001b[0m         \u001b[38;5;28;01mcontinue\u001b[39;00m\n",
      "\u001b[0;31mKeyboardInterrupt\u001b[0m: "
     ]
    }
   ],
   "source": [
    "s = -2\n",
    "e = 2\n",
    "\n",
    "while s < e:\n",
    "    if s ==0:\n",
    "        continue\n",
    "    print(100/s)\n",
    "    s = s+1\n",
    "    \n",
    "#any statment after continue wont be run"
   ]
  },
  {
   "cell_type": "code",
   "execution_count": 21,
   "id": "47dda66f",
   "metadata": {},
   "outputs": [
    {
     "name": "stdout",
     "output_type": "stream",
     "text": [
      "-50.0\n",
      "-100.0\n",
      "100.0\n"
     ]
    }
   ],
   "source": [
    "s = -2\n",
    "e = 2\n",
    "\n",
    "while s < e:\n",
    "    if s ==0:\n",
    "        s = s+1\n",
    "        continue\n",
    "    print(100/s)\n",
    "    s = s+1\n",
    "    \n",
    "#any statment after continue wont be run"
   ]
  },
  {
   "cell_type": "code",
   "execution_count": 23,
   "id": "71b82db6",
   "metadata": {},
   "outputs": [
    {
     "name": "stdout",
     "output_type": "stream",
     "text": [
      "1\n",
      "2\n",
      "3\n",
      "4\n"
     ]
    }
   ],
   "source": [
    "s = 0\n",
    "e = 4\n",
    "\n",
    "while s<e:\n",
    "    print(s +1)\n",
    "    s = s+1\n",
    "    if s%2 ==0:\n",
    "        continue"
   ]
  },
  {
   "cell_type": "code",
   "execution_count": 24,
   "id": "a4a667b9",
   "metadata": {},
   "outputs": [
    {
     "name": "stdout",
     "output_type": "stream",
     "text": [
      "2\n",
      "4\n"
     ]
    }
   ],
   "source": [
    "s = 0\n",
    "e = 4\n",
    "\n",
    "while s<e:\n",
    "    \n",
    "    s = s+1\n",
    "    if s%2 ==0:\n",
    "        continue\n",
    "    print(s+1)"
   ]
  },
  {
   "cell_type": "markdown",
   "id": "f33ece68",
   "metadata": {},
   "source": [
    "# Break statement"
   ]
  },
  {
   "cell_type": "code",
   "execution_count": 25,
   "id": "68e77bdf",
   "metadata": {},
   "outputs": [
    {
     "name": "stdout",
     "output_type": "stream",
     "text": [
      "1\n"
     ]
    }
   ],
   "source": [
    "s = 1\n",
    "e = 4\n",
    "\n",
    "while s<e:\n",
    "    \n",
    "    \n",
    "    if s%2 ==0:\n",
    "        break\n",
    "    print(s)\n",
    "    s = s+1"
   ]
  },
  {
   "cell_type": "code",
   "execution_count": 26,
   "id": "5c7fb107",
   "metadata": {},
   "outputs": [
    {
     "name": "stdout",
     "output_type": "stream",
     "text": [
      "-50.0\n",
      "-100.0\n",
      "out of loop\n"
     ]
    }
   ],
   "source": [
    "s = -2\n",
    "e = 2\n",
    "\n",
    "while s < e:\n",
    "    if s ==0:\n",
    "        s = s+1\n",
    "        break\n",
    "    print(100/s)\n",
    "    s = s+1\n",
    "print(\"out of loop\")\n",
    "\n"
   ]
  },
  {
   "cell_type": "markdown",
   "id": "0c6f6b48",
   "metadata": {},
   "source": [
    "# For Loop"
   ]
  },
  {
   "cell_type": "code",
   "execution_count": 28,
   "id": "f68bd111",
   "metadata": {},
   "outputs": [
    {
     "name": "stdout",
     "output_type": "stream",
     "text": [
      "a\n",
      "t\n",
      "u\n",
      "l\n"
     ]
    }
   ],
   "source": [
    "s =\"atul\"\n",
    "\n",
    "start = 0\n",
    "\n",
    "while start < len(s):\n",
    "    print(s[start])\n",
    "    start +=1"
   ]
  },
  {
   "cell_type": "code",
   "execution_count": 29,
   "id": "077596da",
   "metadata": {},
   "outputs": [
    {
     "name": "stdout",
     "output_type": "stream",
     "text": [
      "a\n",
      "t\n",
      "u\n",
      "l\n"
     ]
    }
   ],
   "source": [
    "for elem in s:\n",
    "    print(elem)"
   ]
  },
  {
   "cell_type": "code",
   "execution_count": 30,
   "id": "34e9ea3c",
   "metadata": {},
   "outputs": [],
   "source": [
    "#for loop handles inclremental after a single iteration gets completed"
   ]
  },
  {
   "cell_type": "code",
   "execution_count": 31,
   "id": "e1e77465",
   "metadata": {},
   "outputs": [
    {
     "name": "stdout",
     "output_type": "stream",
     "text": [
      "num  0\n",
      "num  1\n"
     ]
    }
   ],
   "source": [
    "s=[0,1]\n",
    "\n",
    "for i in s:\n",
    "    print(\"num \", str(i))\n",
    "    i = i+5"
   ]
  },
  {
   "cell_type": "code",
   "execution_count": 32,
   "id": "5123ab40",
   "metadata": {},
   "outputs": [
    {
     "name": "stdout",
     "output_type": "stream",
     "text": [
      "P\n",
      "t\n",
      "o\n"
     ]
    }
   ],
   "source": [
    "name = \"Python\"\n",
    "alt =1\n",
    "\n",
    "for num in name:\n",
    "    alt = alt+1\n",
    "    if alt%2 !=0:\n",
    "        continue\n",
    "    print(num)"
   ]
  },
  {
   "cell_type": "code",
   "execution_count": 33,
   "id": "98f34e0b",
   "metadata": {},
   "outputs": [
    {
     "name": "stdout",
     "output_type": "stream",
     "text": [
      "abc\n",
      "def\n",
      "ghi\n"
     ]
    }
   ],
   "source": [
    "email=[\"abc@gmail.com\",\"def@gmail.com\",\"ghi@gmail.com\"]\n",
    "\n",
    "for i in email:\n",
    "    email_withoutdomain=i[0:3]\n",
    "    print(email_withoutdomain)"
   ]
  },
  {
   "cell_type": "code",
   "execution_count": null,
   "id": "3462655f",
   "metadata": {},
   "outputs": [],
   "source": [
    "#mayank@inueron.ai\n",
    "\n",
    "#subject: FSDS - AI"
   ]
  },
  {
   "cell_type": "code",
   "execution_count": 35,
   "id": "bc3e2b77",
   "metadata": {},
   "outputs": [
    {
     "name": "stdout",
     "output_type": "stream",
     "text": [
      "enter a number-7\n",
      "a is negative\n"
     ]
    }
   ],
   "source": [
    "a = int(input(\"enter a number\"))\n",
    "\n",
    "\n",
    "\n",
    "if a ==0:\n",
    "    print(\"a is zero\")\n",
    "elif a >0:\n",
    "    print(\"a is positive\")\n",
    "else:\n",
    "    print(\"a is negative\")"
   ]
  },
  {
   "cell_type": "code",
   "execution_count": null,
   "id": "92854843",
   "metadata": {},
   "outputs": [],
   "source": []
  }
 ],
 "metadata": {
  "kernelspec": {
   "display_name": "Python 3 (ipykernel)",
   "language": "python",
   "name": "python3"
  },
  "language_info": {
   "codemirror_mode": {
    "name": "ipython",
    "version": 3
   },
   "file_extension": ".py",
   "mimetype": "text/x-python",
   "name": "python",
   "nbconvert_exporter": "python",
   "pygments_lexer": "ipython3",
   "version": "3.8.3rc1"
  }
 },
 "nbformat": 4,
 "nbformat_minor": 5
}
