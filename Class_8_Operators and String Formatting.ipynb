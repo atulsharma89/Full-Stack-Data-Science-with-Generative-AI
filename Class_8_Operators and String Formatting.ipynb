{
 "cells": [
  {
   "cell_type": "code",
   "execution_count": 1,
   "id": "430fc2f1",
   "metadata": {},
   "outputs": [
    {
     "data": {
      "text/plain": [
       "'H'"
      ]
     },
     "execution_count": 1,
     "metadata": {},
     "output_type": "execute_result"
    }
   ],
   "source": [
    "s='PYTHON'\n",
    "\n",
    "s[-3]"
   ]
  },
  {
   "cell_type": "code",
   "execution_count": 2,
   "id": "5e4c482e",
   "metadata": {},
   "outputs": [
    {
     "data": {
      "text/plain": [
       "'O'"
      ]
     },
     "execution_count": 2,
     "metadata": {},
     "output_type": "execute_result"
    }
   ],
   "source": [
    "s='PYTHON'\n",
    "s[4]"
   ]
  },
  {
   "cell_type": "code",
   "execution_count": 3,
   "id": "66a6e634",
   "metadata": {},
   "outputs": [
    {
     "data": {
      "text/plain": [
       "'H'"
      ]
     },
     "execution_count": 3,
     "metadata": {},
     "output_type": "execute_result"
    }
   ],
   "source": [
    "s[-3:4]"
   ]
  },
  {
   "cell_type": "code",
   "execution_count": 5,
   "id": "dffeb519",
   "metadata": {},
   "outputs": [
    {
     "data": {
      "text/plain": [
       "'python'"
      ]
     },
     "execution_count": 5,
     "metadata": {},
     "output_type": "execute_result"
    }
   ],
   "source": [
    "'Mayank' and 'python'\n",
    "\n",
    "#if first value is false then output first value or else output second value"
   ]
  },
  {
   "cell_type": "code",
   "execution_count": 8,
   "id": "56d15c4f",
   "metadata": {},
   "outputs": [
    {
     "data": {
      "text/plain": [
       "'Mayank'"
      ]
     },
     "execution_count": 8,
     "metadata": {},
     "output_type": "execute_result"
    }
   ],
   "source": [
    "'Mayank' or 'python'\n",
    "\n",
    "#returns first value if its true or else returns second value"
   ]
  },
  {
   "cell_type": "code",
   "execution_count": 9,
   "id": "6f99e86f",
   "metadata": {},
   "outputs": [
    {
     "data": {
      "text/plain": [
       "3"
      ]
     },
     "execution_count": 9,
     "metadata": {},
     "output_type": "execute_result"
    }
   ],
   "source": [
    "-1 and 3"
   ]
  },
  {
   "cell_type": "code",
   "execution_count": 10,
   "id": "0c2a7cf4",
   "metadata": {},
   "outputs": [
    {
     "data": {
      "text/plain": [
       "-3"
      ]
     },
     "execution_count": 10,
     "metadata": {},
     "output_type": "execute_result"
    }
   ],
   "source": [
    "-1 and -3"
   ]
  },
  {
   "cell_type": "code",
   "execution_count": 11,
   "id": "eff7ddbf",
   "metadata": {},
   "outputs": [
    {
     "data": {
      "text/plain": [
       "'True'"
      ]
     },
     "execution_count": 11,
     "metadata": {},
     "output_type": "execute_result"
    }
   ],
   "source": [
    "'True' or 'something else'"
   ]
  },
  {
   "cell_type": "code",
   "execution_count": 12,
   "id": "9777ee6a",
   "metadata": {},
   "outputs": [
    {
     "data": {
      "text/plain": [
       "'something else'"
      ]
     },
     "execution_count": 12,
     "metadata": {},
     "output_type": "execute_result"
    }
   ],
   "source": [
    "'True' and 'something else'"
   ]
  },
  {
   "cell_type": "code",
   "execution_count": 13,
   "id": "17996199",
   "metadata": {},
   "outputs": [
    {
     "data": {
      "text/plain": [
       "5"
      ]
     },
     "execution_count": 13,
     "metadata": {},
     "output_type": "execute_result"
    }
   ],
   "source": [
    "True and 5"
   ]
  },
  {
   "cell_type": "code",
   "execution_count": 14,
   "id": "c8e289d8",
   "metadata": {},
   "outputs": [
    {
     "data": {
      "text/plain": [
       "False"
      ]
     },
     "execution_count": 14,
     "metadata": {},
     "output_type": "execute_result"
    }
   ],
   "source": [
    "False and 5"
   ]
  },
  {
   "cell_type": "code",
   "execution_count": 15,
   "id": "06a94e82",
   "metadata": {},
   "outputs": [],
   "source": [
    "# false values in Python\n",
    "\n",
    "# 0, 0.0, False, 0 +0j, \"\",None,[],{},()\n",
    "\n",
    "#And Operator: If first value is false then return first value else return second value\n",
    "#or operator : If first value is true then return first value else second value"
   ]
  },
  {
   "cell_type": "code",
   "execution_count": 16,
   "id": "c3ac52fa",
   "metadata": {},
   "outputs": [
    {
     "data": {
      "text/plain": [
       "'something else'"
      ]
     },
     "execution_count": 16,
     "metadata": {},
     "output_type": "execute_result"
    }
   ],
   "source": [
    "None or \"something else\""
   ]
  },
  {
   "cell_type": "code",
   "execution_count": 20,
   "id": "2a8814c7",
   "metadata": {},
   "outputs": [
    {
     "data": {
      "text/plain": [
       "False"
      ]
     },
     "execution_count": 20,
     "metadata": {},
     "output_type": "execute_result"
    }
   ],
   "source": [
    "False and 6"
   ]
  },
  {
   "cell_type": "code",
   "execution_count": 21,
   "id": "661aa9a6",
   "metadata": {},
   "outputs": [],
   "source": [
    "None and 6"
   ]
  },
  {
   "cell_type": "code",
   "execution_count": 22,
   "id": "46351fce",
   "metadata": {},
   "outputs": [],
   "source": [
    "#COMPOUND ASSIGNMENT OPERATOR\n",
    "#iDENTITY OPERATOR\n",
    "#mEMBERSHIP Operator\n",
    "#precedence of operator\n",
    "#decison flow"
   ]
  },
  {
   "cell_type": "markdown",
   "id": "08229675",
   "metadata": {},
   "source": [
    "# COMPOUND ASSIGNMENT OPERATOR"
   ]
  },
  {
   "cell_type": "code",
   "execution_count": 24,
   "id": "2766eaf2",
   "metadata": {},
   "outputs": [],
   "source": [
    "a = 10\n",
    "\n",
    "#a++\n",
    "\n",
    "# SyntaxError: invalid syntax"
   ]
  },
  {
   "cell_type": "code",
   "execution_count": 25,
   "id": "c29c78cb",
   "metadata": {},
   "outputs": [],
   "source": [
    "a+=1"
   ]
  },
  {
   "cell_type": "code",
   "execution_count": 26,
   "id": "52e70287",
   "metadata": {},
   "outputs": [
    {
     "data": {
      "text/plain": [
       "11"
      ]
     },
     "execution_count": 26,
     "metadata": {},
     "output_type": "execute_result"
    }
   ],
   "source": [
    "a"
   ]
  },
  {
   "cell_type": "code",
   "execution_count": 27,
   "id": "2f7aa6e1",
   "metadata": {},
   "outputs": [],
   "source": [
    "#Python works on operator a lot like maths"
   ]
  },
  {
   "cell_type": "code",
   "execution_count": 28,
   "id": "0831a3b3",
   "metadata": {},
   "outputs": [
    {
     "data": {
      "text/plain": [
       "11"
      ]
     },
     "execution_count": 28,
     "metadata": {},
     "output_type": "execute_result"
    }
   ],
   "source": [
    "++a"
   ]
  },
  {
   "cell_type": "code",
   "execution_count": 29,
   "id": "35969ac2",
   "metadata": {},
   "outputs": [],
   "source": [
    "# Pre increment and Post increment is not valid or works in Python\n",
    "\n",
    "# 10 ---> 5+10 =15\n",
    "\n",
    "# 15 + (+10) = 25\n",
    "\n",
    "# 15 + (+(-10))\n",
    "\n",
    "# - (+15) + (+10) = -5"
   ]
  },
  {
   "cell_type": "code",
   "execution_count": 30,
   "id": "df09dc38",
   "metadata": {},
   "outputs": [
    {
     "data": {
      "text/plain": [
       "25"
      ]
     },
     "execution_count": 30,
     "metadata": {},
     "output_type": "execute_result"
    }
   ],
   "source": [
    "15 + (+10)"
   ]
  },
  {
   "cell_type": "code",
   "execution_count": 31,
   "id": "ede8753f",
   "metadata": {},
   "outputs": [
    {
     "data": {
      "text/plain": [
       "5"
      ]
     },
     "execution_count": 31,
     "metadata": {},
     "output_type": "execute_result"
    }
   ],
   "source": [
    "15 + (+(-10))"
   ]
  },
  {
   "cell_type": "code",
   "execution_count": 32,
   "id": "5110ece4",
   "metadata": {},
   "outputs": [
    {
     "data": {
      "text/plain": [
       "-5"
      ]
     },
     "execution_count": 32,
     "metadata": {},
     "output_type": "execute_result"
    }
   ],
   "source": [
    "- (+15) + (+10)"
   ]
  },
  {
   "cell_type": "code",
   "execution_count": 33,
   "id": "d8c4c41a",
   "metadata": {},
   "outputs": [
    {
     "data": {
      "text/plain": [
       "5"
      ]
     },
     "execution_count": 33,
     "metadata": {},
     "output_type": "execute_result"
    }
   ],
   "source": [
    "b = 5\n",
    "\n",
    "++b"
   ]
  },
  {
   "cell_type": "code",
   "execution_count": 34,
   "id": "5374b8de",
   "metadata": {},
   "outputs": [
    {
     "data": {
      "text/plain": [
       "5"
      ]
     },
     "execution_count": 34,
     "metadata": {},
     "output_type": "execute_result"
    }
   ],
   "source": [
    "--b"
   ]
  },
  {
   "cell_type": "code",
   "execution_count": 36,
   "id": "1bcfafc3",
   "metadata": {},
   "outputs": [
    {
     "data": {
      "text/plain": [
       "-5"
      ]
     },
     "execution_count": 36,
     "metadata": {},
     "output_type": "execute_result"
    }
   ],
   "source": [
    "---b"
   ]
  },
  {
   "cell_type": "code",
   "execution_count": 37,
   "id": "0ffe83d4",
   "metadata": {},
   "outputs": [],
   "source": [
    "b+=1 # b = b+1"
   ]
  },
  {
   "cell_type": "code",
   "execution_count": 38,
   "id": "d286c5ce",
   "metadata": {},
   "outputs": [
    {
     "data": {
      "text/plain": [
       "6"
      ]
     },
     "execution_count": 38,
     "metadata": {},
     "output_type": "execute_result"
    }
   ],
   "source": [
    "b"
   ]
  },
  {
   "cell_type": "code",
   "execution_count": 39,
   "id": "4f6214ed",
   "metadata": {},
   "outputs": [
    {
     "data": {
      "text/plain": [
       "11"
      ]
     },
     "execution_count": 39,
     "metadata": {},
     "output_type": "execute_result"
    }
   ],
   "source": [
    "b++5"
   ]
  },
  {
   "cell_type": "code",
   "execution_count": 40,
   "id": "ee8e6042",
   "metadata": {},
   "outputs": [
    {
     "data": {
      "text/plain": [
       "6"
      ]
     },
     "execution_count": 40,
     "metadata": {},
     "output_type": "execute_result"
    }
   ],
   "source": [
    "b"
   ]
  },
  {
   "cell_type": "code",
   "execution_count": 42,
   "id": "d56fe967",
   "metadata": {},
   "outputs": [
    {
     "data": {
      "text/plain": [
       "6"
      ]
     },
     "execution_count": 42,
     "metadata": {},
     "output_type": "execute_result"
    }
   ],
   "source": [
    "b"
   ]
  },
  {
   "cell_type": "code",
   "execution_count": 43,
   "id": "024be887",
   "metadata": {},
   "outputs": [
    {
     "data": {
      "text/plain": [
       "-7"
      ]
     },
     "execution_count": 43,
     "metadata": {},
     "output_type": "execute_result"
    }
   ],
   "source": [
    "+-b+-1"
   ]
  },
  {
   "cell_type": "markdown",
   "id": "c5757686",
   "metadata": {},
   "source": [
    "# Identity Operator"
   ]
  },
  {
   "cell_type": "code",
   "execution_count": 44,
   "id": "13533999",
   "metadata": {},
   "outputs": [],
   "source": [
    "#is\n",
    "#is not"
   ]
  },
  {
   "cell_type": "code",
   "execution_count": 45,
   "id": "a5443eb8",
   "metadata": {},
   "outputs": [],
   "source": [
    "#2 purposes:\n",
    "\n",
    "# IT IS USED TO check if the value is of certain type\n",
    "# a= 5  type(a) --> Int\n",
    "\n",
    "\n",
    "# Same memory location"
   ]
  },
  {
   "cell_type": "code",
   "execution_count": 47,
   "id": "34961252",
   "metadata": {},
   "outputs": [
    {
     "data": {
      "text/plain": [
       "True"
      ]
     },
     "execution_count": 47,
     "metadata": {},
     "output_type": "execute_result"
    }
   ],
   "source": [
    "c= 5\n",
    "type(c) is int"
   ]
  },
  {
   "cell_type": "code",
   "execution_count": 50,
   "id": "d1104180",
   "metadata": {},
   "outputs": [
    {
     "data": {
      "text/plain": [
       "True"
      ]
     },
     "execution_count": 50,
     "metadata": {},
     "output_type": "execute_result"
    }
   ],
   "source": [
    "type(c) is not str"
   ]
  },
  {
   "cell_type": "code",
   "execution_count": 52,
   "id": "2c594950",
   "metadata": {},
   "outputs": [
    {
     "data": {
      "text/plain": [
       "True"
      ]
     },
     "execution_count": 52,
     "metadata": {},
     "output_type": "execute_result"
    }
   ],
   "source": [
    "type(c) == int"
   ]
  },
  {
   "cell_type": "code",
   "execution_count": 53,
   "id": "80ee1263",
   "metadata": {},
   "outputs": [],
   "source": [
    "#MEMORY LOCATION\n",
    "\n",
    "a = 5\n",
    "b=7"
   ]
  },
  {
   "cell_type": "code",
   "execution_count": 54,
   "id": "50d0415b",
   "metadata": {},
   "outputs": [
    {
     "data": {
      "text/plain": [
       "False"
      ]
     },
     "execution_count": 54,
     "metadata": {},
     "output_type": "execute_result"
    }
   ],
   "source": [
    "a is b"
   ]
  },
  {
   "cell_type": "code",
   "execution_count": 55,
   "id": "21a75cea",
   "metadata": {},
   "outputs": [
    {
     "data": {
      "text/plain": [
       "True"
      ]
     },
     "execution_count": 55,
     "metadata": {},
     "output_type": "execute_result"
    }
   ],
   "source": [
    "c = 5\n",
    "\n",
    "a is c"
   ]
  },
  {
   "cell_type": "code",
   "execution_count": 56,
   "id": "dae002ad",
   "metadata": {},
   "outputs": [
    {
     "data": {
      "text/plain": [
       "4485114656"
      ]
     },
     "execution_count": 56,
     "metadata": {},
     "output_type": "execute_result"
    }
   ],
   "source": [
    "id(a)"
   ]
  },
  {
   "cell_type": "code",
   "execution_count": 57,
   "id": "ab398f33",
   "metadata": {},
   "outputs": [
    {
     "data": {
      "text/plain": [
       "4485114656"
      ]
     },
     "execution_count": 57,
     "metadata": {},
     "output_type": "execute_result"
    }
   ],
   "source": [
    "id(c)"
   ]
  },
  {
   "cell_type": "code",
   "execution_count": 58,
   "id": "53a43ec9",
   "metadata": {},
   "outputs": [],
   "source": [
    "#when you define a variable python assigns an address to that variable and stores it"
   ]
  },
  {
   "cell_type": "code",
   "execution_count": 59,
   "id": "9bf9e81c",
   "metadata": {},
   "outputs": [
    {
     "name": "stdout",
     "output_type": "stream",
     "text": [
      "4485114656\n",
      "4485114752\n"
     ]
    }
   ],
   "source": [
    "a = 5\n",
    "print(id(a))\n",
    "a = 8\n",
    "print(id(a))"
   ]
  },
  {
   "cell_type": "code",
   "execution_count": 61,
   "id": "4f310cad",
   "metadata": {},
   "outputs": [
    {
     "data": {
      "text/plain": [
       "4485114656"
      ]
     },
     "execution_count": 61,
     "metadata": {},
     "output_type": "execute_result"
    }
   ],
   "source": [
    "a =5\n",
    "c =a\n",
    "\n",
    "id(a)"
   ]
  },
  {
   "cell_type": "code",
   "execution_count": 62,
   "id": "8211b05d",
   "metadata": {},
   "outputs": [
    {
     "data": {
      "text/plain": [
       "4485114752"
      ]
     },
     "execution_count": 62,
     "metadata": {},
     "output_type": "execute_result"
    }
   ],
   "source": [
    "a =8\n",
    "\n",
    "id(a)"
   ]
  },
  {
   "cell_type": "code",
   "execution_count": 63,
   "id": "85c15784",
   "metadata": {},
   "outputs": [
    {
     "data": {
      "text/plain": [
       "4485114656"
      ]
     },
     "execution_count": 63,
     "metadata": {},
     "output_type": "execute_result"
    }
   ],
   "source": [
    "id(c)"
   ]
  },
  {
   "cell_type": "code",
   "execution_count": 64,
   "id": "857b6d62",
   "metadata": {},
   "outputs": [
    {
     "data": {
      "text/plain": [
       "5"
      ]
     },
     "execution_count": 64,
     "metadata": {},
     "output_type": "execute_result"
    }
   ],
   "source": [
    "c"
   ]
  },
  {
   "cell_type": "code",
   "execution_count": 65,
   "id": "e2814f69",
   "metadata": {},
   "outputs": [
    {
     "data": {
      "text/plain": [
       "True"
      ]
     },
     "execution_count": 65,
     "metadata": {},
     "output_type": "execute_result"
    }
   ],
   "source": [
    "str1 =\"atul\"\n",
    "str2 =\"atul\"\n",
    "\n",
    "str1==str2"
   ]
  },
  {
   "cell_type": "markdown",
   "id": "46ab3a31",
   "metadata": {},
   "source": [
    "# Membership Operators"
   ]
  },
  {
   "cell_type": "code",
   "execution_count": 66,
   "id": "5d95a7dc",
   "metadata": {},
   "outputs": [],
   "source": [
    "#IN\n",
    "#NOT IN"
   ]
  },
  {
   "cell_type": "code",
   "execution_count": 67,
   "id": "18e1a61b",
   "metadata": {},
   "outputs": [
    {
     "data": {
      "text/plain": [
       "True"
      ]
     },
     "execution_count": 67,
     "metadata": {},
     "output_type": "execute_result"
    }
   ],
   "source": [
    "a=[1,2,3,4,5,6]\n",
    "\n",
    "3 in a"
   ]
  },
  {
   "cell_type": "code",
   "execution_count": 70,
   "id": "ccfce4e7",
   "metadata": {},
   "outputs": [
    {
     "data": {
      "text/plain": [
       "True"
      ]
     },
     "execution_count": 70,
     "metadata": {},
     "output_type": "execute_result"
    }
   ],
   "source": [
    "'a' in 'atul'"
   ]
  },
  {
   "cell_type": "code",
   "execution_count": 71,
   "id": "fc36f129",
   "metadata": {},
   "outputs": [
    {
     "data": {
      "text/plain": [
       "True"
      ]
     },
     "execution_count": 71,
     "metadata": {},
     "output_type": "execute_result"
    }
   ],
   "source": [
    "1 in a and 4 in a"
   ]
  },
  {
   "cell_type": "code",
   "execution_count": 72,
   "id": "4d4b72bc",
   "metadata": {},
   "outputs": [
    {
     "data": {
      "text/plain": [
       "False"
      ]
     },
     "execution_count": 72,
     "metadata": {},
     "output_type": "execute_result"
    }
   ],
   "source": [
    "[1,4] in a"
   ]
  },
  {
   "cell_type": "code",
   "execution_count": 75,
   "id": "b6ef227e",
   "metadata": {},
   "outputs": [
    {
     "data": {
      "text/plain": [
       "True"
      ]
     },
     "execution_count": 75,
     "metadata": {},
     "output_type": "execute_result"
    }
   ],
   "source": [
    "1 and 4 in a\n",
    "\n",
    "# 1 AND True"
   ]
  },
  {
   "cell_type": "code",
   "execution_count": 77,
   "id": "179c1e07",
   "metadata": {},
   "outputs": [
    {
     "data": {
      "text/plain": [
       "1"
      ]
     },
     "execution_count": 77,
     "metadata": {},
     "output_type": "execute_result"
    }
   ],
   "source": [
    "1 or 5 in a\n",
    "\n",
    "#And Operator: If first value is false then return first value else return second value\n",
    "#or operator : If first value is true then return first value else second value\n"
   ]
  },
  {
   "cell_type": "code",
   "execution_count": 104,
   "id": "e946e875",
   "metadata": {},
   "outputs": [
    {
     "data": {
      "text/plain": [
       "False"
      ]
     },
     "execution_count": 104,
     "metadata": {},
     "output_type": "execute_result"
    }
   ],
   "source": [
    "True and False"
   ]
  },
  {
   "cell_type": "code",
   "execution_count": 84,
   "id": "1454c5da",
   "metadata": {},
   "outputs": [
    {
     "data": {
      "text/plain": [
       "'c'"
      ]
     },
     "execution_count": 84,
     "metadata": {},
     "output_type": "execute_result"
    }
   ],
   "source": [
    "'atul' and 'a' and 'b' and 'c'"
   ]
  },
  {
   "cell_type": "code",
   "execution_count": 105,
   "id": "9a62b235",
   "metadata": {},
   "outputs": [
    {
     "data": {
      "text/plain": [
       "5"
      ]
     },
     "execution_count": 105,
     "metadata": {},
     "output_type": "execute_result"
    }
   ],
   "source": [
    "len('hello') "
   ]
  },
  {
   "cell_type": "code",
   "execution_count": 106,
   "id": "14005843",
   "metadata": {},
   "outputs": [
    {
     "data": {
      "text/plain": [
       "True"
      ]
     },
     "execution_count": 106,
     "metadata": {},
     "output_type": "execute_result"
    }
   ],
   "source": [
    "5 > 3 or 2 < 1"
   ]
  },
  {
   "cell_type": "markdown",
   "id": "cab1d3f6",
   "metadata": {},
   "source": [
    "# Precedence opf Operator"
   ]
  },
  {
   "cell_type": "code",
   "execution_count": 73,
   "id": "995978a8",
   "metadata": {},
   "outputs": [],
   "source": [
    "# Bracket of division multiplication addition subtraction"
   ]
  },
  {
   "cell_type": "code",
   "execution_count": 74,
   "id": "eece7c49",
   "metadata": {},
   "outputs": [
    {
     "data": {
      "text/plain": [
       "55.0"
      ]
     },
     "execution_count": 74,
     "metadata": {},
     "output_type": "execute_result"
    }
   ],
   "source": [
    "45 + 50/5"
   ]
  },
  {
   "cell_type": "code",
   "execution_count": null,
   "id": "df2998b6",
   "metadata": {},
   "outputs": [],
   "source": []
  },
  {
   "cell_type": "markdown",
   "id": "957364af",
   "metadata": {},
   "source": [
    "# associativity in Python"
   ]
  },
  {
   "cell_type": "code",
   "execution_count": 78,
   "id": "f344e11e",
   "metadata": {},
   "outputs": [],
   "source": [
    "# WHEN 2 OR MORE OPERATORS FOLLOWS SAME PRECEDENCE then python follow sassoicativity\n",
    "#left to right"
   ]
  },
  {
   "cell_type": "code",
   "execution_count": 79,
   "id": "a8012a01",
   "metadata": {},
   "outputs": [
    {
     "data": {
      "text/plain": [
       "7"
      ]
     },
     "execution_count": 79,
     "metadata": {},
     "output_type": "execute_result"
    }
   ],
   "source": [
    "5 and 6 and 7"
   ]
  },
  {
   "cell_type": "code",
   "execution_count": null,
   "id": "2c17714b",
   "metadata": {},
   "outputs": [],
   "source": []
  },
  {
   "cell_type": "code",
   "execution_count": 80,
   "id": "d73870d3",
   "metadata": {},
   "outputs": [
    {
     "data": {
      "text/plain": [
       "512"
      ]
     },
     "execution_count": 80,
     "metadata": {},
     "output_type": "execute_result"
    }
   ],
   "source": [
    "2**3**2\n",
    "#assicatiity of exponent operator is right to left"
   ]
  },
  {
   "cell_type": "code",
   "execution_count": 81,
   "id": "26e9a420",
   "metadata": {},
   "outputs": [
    {
     "data": {
      "text/plain": [
       "512"
      ]
     },
     "execution_count": 81,
     "metadata": {},
     "output_type": "execute_result"
    }
   ],
   "source": [
    "2**9"
   ]
  },
  {
   "cell_type": "code",
   "execution_count": 83,
   "id": "58c7b303",
   "metadata": {},
   "outputs": [
    {
     "data": {
      "text/plain": [
       "5.0"
      ]
     },
     "execution_count": 83,
     "metadata": {},
     "output_type": "execute_result"
    }
   ],
   "source": [
    "250/10/5\n",
    "\n",
    "#ASSOCIATIVITY IS LEFT TO RIGHT"
   ]
  },
  {
   "cell_type": "code",
   "execution_count": 86,
   "id": "c4114a04",
   "metadata": {},
   "outputs": [
    {
     "name": "stdout",
     "output_type": "stream",
     "text": [
      "enter first number 6\n",
      "enter second number 7\n",
      "13\n"
     ]
    }
   ],
   "source": [
    "#Write a program to take 2 numbers from user and add them\n",
    "\n",
    "a = int(input(\"enter first number \"))\n",
    "\n",
    "b = int(input(\"enter second number \"))\n",
    "\n",
    "print(a+b)"
   ]
  },
  {
   "cell_type": "code",
   "execution_count": 88,
   "id": "6e9610c0",
   "metadata": {},
   "outputs": [
    {
     "name": "stdout",
     "output_type": "stream",
     "text": [
      "enter some numberatul@sharam@kumar\n",
      "atul@sharam@kumar\n",
      "['atul', 'sharam', 'kumar']\n",
      "atul sharam kumar\n"
     ]
    }
   ],
   "source": [
    "c = input(\"enter some number\")\n",
    "\n",
    "print(c)\n",
    "\n",
    "print(c.split('@'))\n",
    "\n",
    "a,b,c = c.split('@')\n",
    "\n",
    "print(a,b,c)"
   ]
  },
  {
   "cell_type": "code",
   "execution_count": 94,
   "id": "993c7605",
   "metadata": {},
   "outputs": [
    {
     "name": "stdout",
     "output_type": "stream",
     "text": [
      "enter your name atul\n",
      "enter your age 32\n",
      "enter your marks 23\n",
      "rev name luta\n",
      "years left from 100 68\n",
      "marks out of 100 0.23\n"
     ]
    }
   ],
   "source": [
    "#program 2\n",
    "\n",
    "#1 name in opposite direction\n",
    "# age as how many years left in turning 100\n",
    "# marks as out of 100\n",
    "\n",
    "a = input(\"enter your name \")\n",
    "\n",
    "b = int(input(\"enter your age \"))\n",
    "\n",
    "c = int(input(\"enter your marks \"))\n",
    "\n",
    "print(\"rev name\", a[::-1])\n",
    "\n",
    "print(\"years left from 100\", 100-b)\n",
    "\n",
    "print(\"marks out of 100\", c/100)\n",
    "\n",
    "\n",
    "\n"
   ]
  },
  {
   "cell_type": "markdown",
   "id": "1cb2120d",
   "metadata": {},
   "source": [
    "# format specifier "
   ]
  },
  {
   "cell_type": "code",
   "execution_count": 95,
   "id": "122e3642",
   "metadata": {},
   "outputs": [
    {
     "name": "stdout",
     "output_type": "stream",
     "text": [
      "name is atul and age is 32\n"
     ]
    }
   ],
   "source": [
    "name = 'atul'\n",
    "\n",
    "age = 32\n",
    "\n",
    "print('name is %s and age is %d' %(name,age))"
   ]
  },
  {
   "cell_type": "code",
   "execution_count": 96,
   "id": "5955ce2c",
   "metadata": {},
   "outputs": [],
   "source": [
    "#%d integer\n",
    "#%i integer\n",
    "#%s string\n",
    "#%f float"
   ]
  },
  {
   "cell_type": "code",
   "execution_count": 97,
   "id": "5ff7b173",
   "metadata": {},
   "outputs": [
    {
     "name": "stdout",
     "output_type": "stream",
     "text": [
      "number is 5.333\n"
     ]
    }
   ],
   "source": [
    "num = 5.33335\n",
    "\n",
    "print('number is %0.3f'%(num))"
   ]
  },
  {
   "cell_type": "markdown",
   "id": "7bd7292c",
   "metadata": {},
   "source": [
    "# format argument"
   ]
  },
  {
   "cell_type": "code",
   "execution_count": 99,
   "id": "c660449d",
   "metadata": {},
   "outputs": [
    {
     "name": "stdout",
     "output_type": "stream",
     "text": [
      "name is atul and age is 32\n"
     ]
    }
   ],
   "source": [
    "print('name is {} and age is {}'.format(name,age))"
   ]
  },
  {
   "cell_type": "code",
   "execution_count": 100,
   "id": "2071db4b",
   "metadata": {},
   "outputs": [
    {
     "name": "stdout",
     "output_type": "stream",
     "text": [
      "name is atul and age is atul\n"
     ]
    }
   ],
   "source": [
    "print('name is {0} and age is {0}'.format(name,age))"
   ]
  },
  {
   "cell_type": "code",
   "execution_count": 102,
   "id": "ffffc836",
   "metadata": {},
   "outputs": [
    {
     "name": "stdout",
     "output_type": "stream",
     "text": [
      "name is atul and age is 32\n"
     ]
    }
   ],
   "source": [
    "print('name is {name} and age is {age}'.format(name=name,age=age))"
   ]
  },
  {
   "cell_type": "code",
   "execution_count": 103,
   "id": "22ed0659",
   "metadata": {},
   "outputs": [
    {
     "name": "stdout",
     "output_type": "stream",
     "text": [
      "name is atul and age is 32\n"
     ]
    }
   ],
   "source": [
    "print('name is {a} and age is {b}'.format(a=name,b=age))"
   ]
  },
  {
   "cell_type": "code",
   "execution_count": null,
   "id": "4296d3ba",
   "metadata": {},
   "outputs": [],
   "source": []
  }
 ],
 "metadata": {
  "kernelspec": {
   "display_name": "Python 3 (ipykernel)",
   "language": "python",
   "name": "python3"
  },
  "language_info": {
   "codemirror_mode": {
    "name": "ipython",
    "version": 3
   },
   "file_extension": ".py",
   "mimetype": "text/x-python",
   "name": "python",
   "nbconvert_exporter": "python",
   "pygments_lexer": "ipython3",
   "version": "3.8.3rc1"
  }
 },
 "nbformat": 4,
 "nbformat_minor": 5
}
