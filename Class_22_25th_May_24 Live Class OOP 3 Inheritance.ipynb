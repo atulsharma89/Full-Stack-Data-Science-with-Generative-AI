{
 "cells": [
  {
   "cell_type": "markdown",
   "id": "bc121ba0",
   "metadata": {},
   "source": [
    "# Aggregation: Has a relationship\n",
    "\n",
    "# aggregation and inheritance can only access non private attribute and methods\n",
    "\n",
    "One class owns other class"
   ]
  },
  {
   "cell_type": "code",
   "execution_count": 7,
   "id": "ac33a8f9",
   "metadata": {},
   "outputs": [],
   "source": [
    "class Customer:\n",
    "    def __init__(self,name,gender,address):\n",
    "        self.name=name\n",
    "        self.gender=gender\n",
    "        self.address=address  #address is a complex attribute\n",
    "        \n",
    "class Address:\n",
    "    def __init__(self,city,pin,state):\n",
    "        self.city=city\n",
    "        self.pin=pin\n",
    "        self.state=state\n",
    "\n",
    "adds=Address('kota',324008,\"rajasthan\")        \n",
    "#cust=Customer('Atul','male','kota',324008,\"rajasthan\")        \n",
    "cust=Customer('Atul','male',adds)"
   ]
  },
  {
   "cell_type": "code",
   "execution_count": 2,
   "id": "c16b8b8c",
   "metadata": {},
   "outputs": [
    {
     "data": {
      "text/plain": [
       "'Atul'"
      ]
     },
     "execution_count": 2,
     "metadata": {},
     "output_type": "execute_result"
    }
   ],
   "source": [
    "cust.name"
   ]
  },
  {
   "cell_type": "code",
   "execution_count": 3,
   "id": "38ab7588",
   "metadata": {},
   "outputs": [
    {
     "data": {
      "text/plain": [
       "'male'"
      ]
     },
     "execution_count": 3,
     "metadata": {},
     "output_type": "execute_result"
    }
   ],
   "source": [
    "cust.gender"
   ]
  },
  {
   "cell_type": "code",
   "execution_count": 4,
   "id": "1071f7d2",
   "metadata": {},
   "outputs": [
    {
     "data": {
      "text/plain": [
       "<__main__.Address at 0x7f8bf8097910>"
      ]
     },
     "execution_count": 4,
     "metadata": {},
     "output_type": "execute_result"
    }
   ],
   "source": [
    "cust.address"
   ]
  },
  {
   "cell_type": "code",
   "execution_count": 8,
   "id": "165cddef",
   "metadata": {},
   "outputs": [
    {
     "data": {
      "text/plain": [
       "'kota'"
      ]
     },
     "execution_count": 8,
     "metadata": {},
     "output_type": "execute_result"
    }
   ],
   "source": [
    "cust.address.city"
   ]
  },
  {
   "cell_type": "code",
   "execution_count": 9,
   "id": "3d719bb5",
   "metadata": {},
   "outputs": [],
   "source": [
    "#aggregated 2 class together\n",
    "#custmer owns address class\n",
    "\n",
    "class Customer:\n",
    "    def __init__(self,name,gender,address):\n",
    "        self.name=name #public variable\n",
    "        self.gender=gender #public variable\n",
    "        self.address=address #public variable  #address is a complex attribute\n",
    "    \n",
    "    def printaddress(self): #public method\n",
    "        print(self.address.city,self.address.pin,self.address.state)\n",
    "        \n",
    "class Address:\n",
    "    def __init__(self,city,pin,state):\n",
    "        self.city=city\n",
    "        self.pin=pin\n",
    "        self.state=state\n",
    "\n",
    "adds=Address('kota',324008,\"rajasthan\")        \n",
    "#cust=Customer('Atul','male','kota',324008,\"rajasthan\")        \n",
    "cust=Customer('Atul','male',adds)"
   ]
  },
  {
   "cell_type": "code",
   "execution_count": 6,
   "id": "176b42a9",
   "metadata": {},
   "outputs": [
    {
     "name": "stdout",
     "output_type": "stream",
     "text": [
      "kota 324008 rajasthan\n"
     ]
    }
   ],
   "source": [
    "cust.printaddress()"
   ]
  },
  {
   "cell_type": "code",
   "execution_count": 11,
   "id": "1330d963",
   "metadata": {},
   "outputs": [
    {
     "ename": "AttributeError",
     "evalue": "'Address' object has no attribute 'city'",
     "output_type": "error",
     "traceback": [
      "\u001b[0;31m---------------------------------------------------------------------------\u001b[0m",
      "\u001b[0;31mAttributeError\u001b[0m                            Traceback (most recent call last)",
      "Input \u001b[0;32mIn [11]\u001b[0m, in \u001b[0;36m<cell line: 24>\u001b[0;34m()\u001b[0m\n\u001b[1;32m     21\u001b[0m \u001b[38;5;66;03m#cust=Customer('Atul','male','kota',324008,\"rajasthan\")        \u001b[39;00m\n\u001b[1;32m     22\u001b[0m cust\u001b[38;5;241m=\u001b[39mCustomer(\u001b[38;5;124m'\u001b[39m\u001b[38;5;124mAtul\u001b[39m\u001b[38;5;124m'\u001b[39m,\u001b[38;5;124m'\u001b[39m\u001b[38;5;124mmale\u001b[39m\u001b[38;5;124m'\u001b[39m,adds)\n\u001b[0;32m---> 24\u001b[0m \u001b[43mcust\u001b[49m\u001b[38;5;241;43m.\u001b[39;49m\u001b[43mprintaddress\u001b[49m\u001b[43m(\u001b[49m\u001b[43m)\u001b[49m\n",
      "Input \u001b[0;32mIn [11]\u001b[0m, in \u001b[0;36mCustomer.printaddress\u001b[0;34m(self)\u001b[0m\n\u001b[1;32m     11\u001b[0m \u001b[38;5;28;01mdef\u001b[39;00m \u001b[38;5;21mprintaddress\u001b[39m(\u001b[38;5;28mself\u001b[39m): \u001b[38;5;66;03m#public method\u001b[39;00m\n\u001b[0;32m---> 12\u001b[0m     \u001b[38;5;28mprint\u001b[39m(\u001b[38;5;28;43mself\u001b[39;49m\u001b[38;5;241;43m.\u001b[39;49m\u001b[43maddress\u001b[49m\u001b[38;5;241;43m.\u001b[39;49m\u001b[43mcity\u001b[49m,\u001b[38;5;28mself\u001b[39m\u001b[38;5;241m.\u001b[39maddress\u001b[38;5;241m.\u001b[39mpin,\u001b[38;5;28mself\u001b[39m\u001b[38;5;241m.\u001b[39maddress\u001b[38;5;241m.\u001b[39mstate)\n",
      "\u001b[0;31mAttributeError\u001b[0m: 'Address' object has no attribute 'city'"
     ]
    }
   ],
   "source": [
    "#aggregated 2 class together\n",
    "#custmer owns address class\n",
    "#aggregation and inheritcance can only access non private attribute and methods\n",
    "\n",
    "class Customer:\n",
    "    def __init__(self,name,gender,address):\n",
    "        self.name=name #public variable\n",
    "        self.gender=gender #public variable\n",
    "        self.address=address #public variable  #address is a complex attribute\n",
    "    \n",
    "    def printaddress(self): #public method\n",
    "        print(self.address.city,self.address.pin,self.address.state)\n",
    "        \n",
    "class Address:\n",
    "    def __init__(self,city,pin,state):\n",
    "        self.__city=city  #making city a private variable\n",
    "        self.pin=pin\n",
    "        self.state=state\n",
    "\n",
    "adds=Address('kota',324008,\"rajasthan\")        \n",
    "#cust=Customer('Atul','male','kota',324008,\"rajasthan\")        \n",
    "cust=Customer('Atul','male',adds)\n",
    "\n",
    "cust.printaddress()"
   ]
  },
  {
   "cell_type": "code",
   "execution_count": 13,
   "id": "9f54df4e",
   "metadata": {},
   "outputs": [
    {
     "name": "stdout",
     "output_type": "stream",
     "text": [
      "kota 324008 rajasthan\n"
     ]
    }
   ],
   "source": [
    "#aggregated 2 class together\n",
    "#custmer owns address class\n",
    "#aggregation and inheritcance can only access non private attribute and methods\n",
    "#solving by getter method\n",
    "\n",
    "class Customer:\n",
    "    def __init__(self,name,gender,address):\n",
    "        self.name=name #public variable\n",
    "        self.gender=gender #public variable\n",
    "        self.address=address #public variable  #address is a complex attribute\n",
    "    \n",
    "    def printaddress(self): #public method\n",
    "        print(self.address.get_city(),self.address.pin,self.address.state)\n",
    "        \n",
    "class Address:\n",
    "    def __init__(self,city,pin,state):\n",
    "        self.__city=city  #making city a private variable\n",
    "        self.pin=pin\n",
    "        self.state=state\n",
    "    \n",
    "    def get_city(self):\n",
    "        return self.__city\n",
    "\n",
    "adds=Address('kota',324008,\"rajasthan\")        \n",
    "#cust=Customer('Atul','male','kota',324008,\"rajasthan\")        \n",
    "cust=Customer('Atul','male',adds)\n",
    "\n",
    "cust.printaddress()"
   ]
  },
  {
   "cell_type": "code",
   "execution_count": null,
   "id": "95ae271b",
   "metadata": {},
   "outputs": [],
   "source": []
  },
  {
   "cell_type": "code",
   "execution_count": null,
   "id": "35fce8fb",
   "metadata": {},
   "outputs": [],
   "source": []
  },
  {
   "cell_type": "code",
   "execution_count": 15,
   "id": "de4e746d",
   "metadata": {},
   "outputs": [
    {
     "name": "stdout",
     "output_type": "stream",
     "text": [
      "kota 324008 rajasthan\n"
     ]
    }
   ],
   "source": [
    "#aggregated 2 class together\n",
    "#custmer owns address class\n",
    "#aggregation and inheritcance can only access non private attribute and methods\n",
    "#solving by hack method\n",
    "\n",
    "class Customer:\n",
    "    def __init__(self,name,gender,address):\n",
    "        self.name=name #public variable\n",
    "        self.gender=gender #public variable\n",
    "        self.address=address #public variable  #address is a complex attribute\n",
    "    \n",
    "    def printaddress(self): #public method\n",
    "        print(self.address._Address__city,self.address.pin,self.address.state)\n",
    "        \n",
    "class Address:\n",
    "    def __init__(self,city,pin,state):\n",
    "        self.__city=city  #making city a private variable\n",
    "        self.pin=pin\n",
    "        self.state=state\n",
    "    \n",
    "    def get_city(self):\n",
    "        return self.__city\n",
    "\n",
    "adds=Address('kota',324008,\"rajasthan\")        \n",
    "#cust=Customer('Atul','male','kota',324008,\"rajasthan\")        \n",
    "cust=Customer('Atul','male',adds)\n",
    "\n",
    "cust.printaddress()"
   ]
  },
  {
   "cell_type": "markdown",
   "id": "236fd063",
   "metadata": {},
   "source": [
    "# INHERITANCE\n",
    "\n",
    "# can access only Non private methods and properties"
   ]
  },
  {
   "cell_type": "code",
   "execution_count": 21,
   "id": "a195ee30",
   "metadata": {},
   "outputs": [],
   "source": [
    "#Parent class\n",
    "class User:\n",
    "    def __init__(self):\n",
    "        self.name=\"atul\"\n",
    "        self.gender=\"male\"\n",
    "    def login(self):\n",
    "        print(\"login done\")\n",
    "#Child class\n",
    "class Student:\n",
    "    def __init__(self):\n",
    "        self.rollnumber=100\n",
    "    \n",
    "    def enroll(self):\n",
    "        print(\"enrollment is done\")\n",
    "\n",
    "u = User()\n",
    "s = Student()\n",
    "\n",
    "#currently there is no relation BETWEEN these 2 class"
   ]
  },
  {
   "cell_type": "code",
   "execution_count": 22,
   "id": "c6ef2bd7",
   "metadata": {},
   "outputs": [
    {
     "ename": "AttributeError",
     "evalue": "'Student' object has no attribute 'login'",
     "output_type": "error",
     "traceback": [
      "\u001b[0;31m---------------------------------------------------------------------------\u001b[0m",
      "\u001b[0;31mAttributeError\u001b[0m                            Traceback (most recent call last)",
      "Input \u001b[0;32mIn [22]\u001b[0m, in \u001b[0;36m<cell line: 1>\u001b[0;34m()\u001b[0m\n\u001b[0;32m----> 1\u001b[0m \u001b[43ms\u001b[49m\u001b[38;5;241;43m.\u001b[39;49m\u001b[43mlogin\u001b[49m()\n",
      "\u001b[0;31mAttributeError\u001b[0m: 'Student' object has no attribute 'login'"
     ]
    }
   ],
   "source": [
    "s.login()"
   ]
  },
  {
   "cell_type": "code",
   "execution_count": 28,
   "id": "2450078e",
   "metadata": {},
   "outputs": [
    {
     "name": "stdout",
     "output_type": "stream",
     "text": [
      "login done\n"
     ]
    }
   ],
   "source": [
    "#Parent class\n",
    "class User:\n",
    "    def __init__(self):\n",
    "        self.name=\"atul\"\n",
    "        self.gender=\"male\"\n",
    "    def login(self):\n",
    "        print(\"login done\")\n",
    "#Child class\n",
    "class Student(User):\n",
    "    def __init__(self):\n",
    "        self.rollnumber=100\n",
    "    \n",
    "    def enroll(self):\n",
    "        print(\"enrollment is done\")\n",
    "\n",
    "u = User()\n",
    "s = Student()\n",
    "s.login()"
   ]
  },
  {
   "cell_type": "code",
   "execution_count": 29,
   "id": "72330c6e",
   "metadata": {},
   "outputs": [
    {
     "ename": "AttributeError",
     "evalue": "'Student' object has no attribute 'name'",
     "output_type": "error",
     "traceback": [
      "\u001b[0;31m---------------------------------------------------------------------------\u001b[0m",
      "\u001b[0;31mAttributeError\u001b[0m                            Traceback (most recent call last)",
      "Input \u001b[0;32mIn [29]\u001b[0m, in \u001b[0;36m<cell line: 1>\u001b[0;34m()\u001b[0m\n\u001b[0;32m----> 1\u001b[0m \u001b[43ms\u001b[49m\u001b[38;5;241;43m.\u001b[39;49m\u001b[43mname\u001b[49m\n",
      "\u001b[0;31mAttributeError\u001b[0m: 'Student' object has no attribute 'name'"
     ]
    }
   ],
   "source": [
    "s.name\n",
    "\n",
    "#able to access method but not able to access attribute\n",
    "#becuase child class also has constructor defined in it\n",
    "#concept: if you have 2000 rs then why to ask 2000 rs from parent"
   ]
  },
  {
   "cell_type": "code",
   "execution_count": 30,
   "id": "3f75c6c4",
   "metadata": {},
   "outputs": [
    {
     "data": {
      "text/plain": [
       "100"
      ]
     },
     "execution_count": 30,
     "metadata": {},
     "output_type": "execute_result"
    }
   ],
   "source": [
    "s.rollnumber"
   ]
  },
  {
   "cell_type": "code",
   "execution_count": 26,
   "id": "7f36da81",
   "metadata": {},
   "outputs": [
    {
     "name": "stdout",
     "output_type": "stream",
     "text": [
      "login done\n"
     ]
    }
   ],
   "source": [
    "#Parent class\n",
    "class User:\n",
    "    def __init__(self):\n",
    "        self.name=\"atul\"\n",
    "        self.gender=\"male\"\n",
    "    def login(self):\n",
    "        print(\"login done\")\n",
    "#Child class\n",
    "class Student(User):\n",
    "    #def __init__(self):\n",
    "     #   self.rollnumber=100\n",
    "    \n",
    "    def enroll(self):\n",
    "        print(\"enrollment is done\")\n",
    "\n",
    "u = User()\n",
    "s = Student()\n",
    "s.login()"
   ]
  },
  {
   "cell_type": "code",
   "execution_count": 27,
   "id": "a7f63b05",
   "metadata": {},
   "outputs": [
    {
     "data": {
      "text/plain": [
       "'atul'"
      ]
     },
     "execution_count": 27,
     "metadata": {},
     "output_type": "execute_result"
    }
   ],
   "source": [
    "s.name"
   ]
  },
  {
   "cell_type": "code",
   "execution_count": 31,
   "id": "b1912485",
   "metadata": {},
   "outputs": [
    {
     "name": "stdout",
     "output_type": "stream",
     "text": [
      "login done\n"
     ]
    },
    {
     "data": {
      "text/plain": [
       "'sharmaji'"
      ]
     },
     "execution_count": 31,
     "metadata": {},
     "output_type": "execute_result"
    }
   ],
   "source": [
    "#Parent class\n",
    "class User:\n",
    "    def __init__(self):\n",
    "        self.name=\"atul\"\n",
    "        self.gender=\"male\"\n",
    "    def login(self):\n",
    "        print(\"login done\")\n",
    "\n",
    "        #Child class\n",
    "class Student(User):\n",
    "    def __init__(self):\n",
    "        self.name=\"sharmaji\"\n",
    "    \n",
    "    def enroll(self):\n",
    "        print(\"enrollment is done\")\n",
    "\n",
    "u = User()\n",
    "s = Student()\n",
    "s.login()\n",
    "s.name"
   ]
  },
  {
   "cell_type": "code",
   "execution_count": 32,
   "id": "960ae01f",
   "metadata": {},
   "outputs": [
    {
     "name": "stdout",
     "output_type": "stream",
     "text": [
      "login done\n"
     ]
    },
    {
     "data": {
      "text/plain": [
       "'atul'"
      ]
     },
     "execution_count": 32,
     "metadata": {},
     "output_type": "execute_result"
    }
   ],
   "source": [
    "#Parent class\n",
    "class User:\n",
    "    def __init__(self):\n",
    "        self.name=\"atul\"\n",
    "        self.gender=\"male\"\n",
    "    def login(self):\n",
    "        print(\"login done\")\n",
    "\n",
    "#Child class\n",
    "class Student(User):\n",
    "    #def __init__(self):\n",
    "     #   self.name=\"sharmaji\"\n",
    "    \n",
    "    def enroll(self):\n",
    "        print(\"enrollment is done\")\n",
    "\n",
    "u = User()\n",
    "s = Student()\n",
    "s.login()\n",
    "s.name"
   ]
  },
  {
   "cell_type": "code",
   "execution_count": 33,
   "id": "a9e5b33d",
   "metadata": {},
   "outputs": [
    {
     "ename": "TypeError",
     "evalue": "__init__() missing 3 required positional arguments: 'price', 'brand', and 'camera'",
     "output_type": "error",
     "traceback": [
      "\u001b[0;31m---------------------------------------------------------------------------\u001b[0m",
      "\u001b[0;31mTypeError\u001b[0m                                 Traceback (most recent call last)",
      "Input \u001b[0;32mIn [33]\u001b[0m, in \u001b[0;36m<cell line: 13>\u001b[0;34m()\u001b[0m\n\u001b[1;32m     10\u001b[0m \u001b[38;5;28;01mclass\u001b[39;00m \u001b[38;5;21;01mSmartPhone\u001b[39;00m(Phone):\n\u001b[1;32m     11\u001b[0m     \u001b[38;5;28;01mpass\u001b[39;00m\n\u001b[0;32m---> 13\u001b[0m S\u001b[38;5;241m=\u001b[39m\u001b[43mSmartPhone\u001b[49m\u001b[43m(\u001b[49m\u001b[43m)\u001b[49m\n",
      "\u001b[0;31mTypeError\u001b[0m: __init__() missing 3 required positional arguments: 'price', 'brand', and 'camera'"
     ]
    }
   ],
   "source": [
    "class Phone:\n",
    "    def __init__(self,price,brand,camera):\n",
    "        self.price=price\n",
    "        self.brand=brand\n",
    "        self.camera=camera\n",
    "    \n",
    "    def buy(self):\n",
    "        print(\"buying phone\")\n",
    "\n",
    "class SmartPhone(Phone):\n",
    "    pass\n",
    "\n",
    "S=SmartPhone()\n",
    "        "
   ]
  },
  {
   "cell_type": "code",
   "execution_count": 34,
   "id": "9373bd3b",
   "metadata": {},
   "outputs": [],
   "source": [
    "class Phone:\n",
    "    def __init__(self,price,brand,camera):\n",
    "        self.price=price\n",
    "        self.brand=brand\n",
    "        self.camera=camera\n",
    "    \n",
    "    def buy(self):\n",
    "        print(\"buying phone\")\n",
    "\n",
    "class SmartPhone(Phone):\n",
    "    pass\n",
    "\n",
    "S=SmartPhone(4000,'iphone',3)\n",
    "        "
   ]
  },
  {
   "cell_type": "code",
   "execution_count": 35,
   "id": "1ad9b4bd",
   "metadata": {},
   "outputs": [
    {
     "name": "stdout",
     "output_type": "stream",
     "text": [
      "buying phone\n"
     ]
    }
   ],
   "source": [
    "S.buy()"
   ]
  },
  {
   "cell_type": "code",
   "execution_count": 36,
   "id": "ea56a245",
   "metadata": {},
   "outputs": [
    {
     "ename": "TypeError",
     "evalue": "__init__() missing 2 required positional arguments: 'os' and 'ram'",
     "output_type": "error",
     "traceback": [
      "\u001b[0;31m---------------------------------------------------------------------------\u001b[0m",
      "\u001b[0;31mTypeError\u001b[0m                                 Traceback (most recent call last)",
      "Input \u001b[0;32mIn [36]\u001b[0m, in \u001b[0;36m<cell line: 19>\u001b[0;34m()\u001b[0m\n\u001b[1;32m     15\u001b[0m         \u001b[38;5;28mself\u001b[39m\u001b[38;5;241m.\u001b[39mram\u001b[38;5;241m=\u001b[39mram\n\u001b[1;32m     16\u001b[0m         \u001b[38;5;28mprint\u001b[39m(\u001b[38;5;124m\"\u001b[39m\u001b[38;5;124mInside smart phone constructor\u001b[39m\u001b[38;5;124m\"\u001b[39m)\n\u001b[0;32m---> 19\u001b[0m S\u001b[38;5;241m=\u001b[39m\u001b[43mSmartPhone\u001b[49m\u001b[43m(\u001b[49m\u001b[43m)\u001b[49m\n",
      "\u001b[0;31mTypeError\u001b[0m: __init__() missing 2 required positional arguments: 'os' and 'ram'"
     ]
    }
   ],
   "source": [
    "class Phone:\n",
    "    def __init__(self,price,brand,camera):\n",
    "        print(\"inside Phone cosntructor\")\n",
    "        self.price=price\n",
    "        self.brand=brand\n",
    "        self.camera=camera\n",
    "    \n",
    "    def buy(self):\n",
    "        print(\"buying phone\")\n",
    "\n",
    "class SmartPhone(Phone):\n",
    "    #pass\n",
    "    def __init__(self,os,ram):\n",
    "        self.os=os\n",
    "        self.ram=ram\n",
    "        print(\"Inside smart phone constructor\")\n",
    "        \n",
    "\n",
    "S=SmartPhone()\n",
    "        "
   ]
  },
  {
   "cell_type": "code",
   "execution_count": 37,
   "id": "c8ba3bdf",
   "metadata": {},
   "outputs": [
    {
     "name": "stdout",
     "output_type": "stream",
     "text": [
      "Inside smart phone constructor\n"
     ]
    }
   ],
   "source": [
    "class Phone:\n",
    "    def __init__(self,price,brand,camera):\n",
    "        print(\"inside Phone cosntructor\")\n",
    "        self.price=price\n",
    "        self.brand=brand\n",
    "        self.camera=camera\n",
    "    \n",
    "    def buy(self):\n",
    "        print(\"buying phone\")\n",
    "\n",
    "class SmartPhone(Phone):\n",
    "    #pass\n",
    "    def __init__(self,os,ram):\n",
    "        self.os=os\n",
    "        self.ram=ram\n",
    "        print(\"Inside smart phone constructor\")\n",
    "        \n",
    "\n",
    "S=SmartPhone('android','8gb')\n",
    "        "
   ]
  },
  {
   "cell_type": "code",
   "execution_count": 38,
   "id": "ded9864e",
   "metadata": {},
   "outputs": [
    {
     "ename": "AttributeError",
     "evalue": "'SmartPhone' object has no attribute 'brand'",
     "output_type": "error",
     "traceback": [
      "\u001b[0;31m---------------------------------------------------------------------------\u001b[0m",
      "\u001b[0;31mAttributeError\u001b[0m                            Traceback (most recent call last)",
      "Input \u001b[0;32mIn [38]\u001b[0m, in \u001b[0;36m<cell line: 1>\u001b[0;34m()\u001b[0m\n\u001b[0;32m----> 1\u001b[0m \u001b[43mS\u001b[49m\u001b[38;5;241;43m.\u001b[39;49m\u001b[43mbrand\u001b[49m\n",
      "\u001b[0;31mAttributeError\u001b[0m: 'SmartPhone' object has no attribute 'brand'"
     ]
    }
   ],
   "source": [
    "S.brand\n",
    "\n",
    "#becuase child class has its constructor which got initialised"
   ]
  },
  {
   "cell_type": "code",
   "execution_count": 41,
   "id": "328d51fe",
   "metadata": {},
   "outputs": [
    {
     "name": "stdout",
     "output_type": "stream",
     "text": [
      "inside Phone cosntructor\n",
      "2000\n"
     ]
    }
   ],
   "source": [
    "#lets use some private properties \n",
    "\n",
    "\n",
    "class Phone:\n",
    "    def __init__(self,price,brand,camera):\n",
    "        print(\"inside Phone cosntructor\")\n",
    "        self.__price=price\n",
    "        self.brand=brand\n",
    "        self.camera=camera\n",
    "    \n",
    "    def buy(self):\n",
    "        print(\"buying phone\")\n",
    "    \n",
    "    def get_price(self):\n",
    "        return self.__price\n",
    "\n",
    "class SmartPhone(Phone):\n",
    "    #pass\n",
    "    def check(self):\n",
    "        print(self.get_price())\n",
    "\n",
    "S=SmartPhone(2000,'apple',9)\n",
    "\n",
    "S.check()\n",
    "        "
   ]
  },
  {
   "cell_type": "code",
   "execution_count": 42,
   "id": "a8ca0c83",
   "metadata": {},
   "outputs": [
    {
     "ename": "AttributeError",
     "evalue": "'Child' object has no attribute '_Parent__num'",
     "output_type": "error",
     "traceback": [
      "\u001b[0;31m---------------------------------------------------------------------------\u001b[0m",
      "\u001b[0;31mAttributeError\u001b[0m                            Traceback (most recent call last)",
      "Input \u001b[0;32mIn [42]\u001b[0m, in \u001b[0;36m<cell line: 18>\u001b[0;34m()\u001b[0m\n\u001b[1;32m     14\u001b[0m         \u001b[38;5;28;01mreturn\u001b[39;00m \u001b[38;5;28mself\u001b[39m\u001b[38;5;241m.\u001b[39m__val\n\u001b[1;32m     16\u001b[0m son\u001b[38;5;241m=\u001b[39mChild(\u001b[38;5;241m100\u001b[39m,\u001b[38;5;241m10\u001b[39m)\n\u001b[0;32m---> 18\u001b[0m \u001b[38;5;28mprint\u001b[39m(\u001b[43mson\u001b[49m\u001b[38;5;241;43m.\u001b[39;49m\u001b[43mget_num\u001b[49m\u001b[43m(\u001b[49m\u001b[43m)\u001b[49m)\n\u001b[1;32m     20\u001b[0m \u001b[38;5;28mprint\u001b[39m(son\u001b[38;5;241m.\u001b[39mget_val())\n",
      "Input \u001b[0;32mIn [42]\u001b[0m, in \u001b[0;36mParent.get_num\u001b[0;34m(self)\u001b[0m\n\u001b[1;32m      6\u001b[0m \u001b[38;5;28;01mdef\u001b[39;00m \u001b[38;5;21mget_num\u001b[39m(\u001b[38;5;28mself\u001b[39m):\n\u001b[0;32m----> 7\u001b[0m     \u001b[38;5;28;01mreturn\u001b[39;00m \u001b[38;5;28;43mself\u001b[39;49m\u001b[38;5;241;43m.\u001b[39;49m\u001b[43m__num\u001b[49m\n",
      "\u001b[0;31mAttributeError\u001b[0m: 'Child' object has no attribute '_Parent__num'"
     ]
    }
   ],
   "source": [
    "class Parent:\n",
    "    \n",
    "    def __init__(self,num):\n",
    "        self.__num=num\n",
    "        \n",
    "    def get_num(self):\n",
    "        return self.__num\n",
    "\n",
    "class Child(Parent):\n",
    "    def __init__(self,num,val):\n",
    "        self.__val=val\n",
    "    \n",
    "    def get_val(self):\n",
    "        return self.__val\n",
    "\n",
    "son=Child(100,10)\n",
    "\n",
    "print(son.get_num())\n",
    "\n",
    "print(son.get_val())"
   ]
  },
  {
   "cell_type": "code",
   "execution_count": null,
   "id": "c30a8f73",
   "metadata": {},
   "outputs": [],
   "source": []
  }
 ],
 "metadata": {
  "kernelspec": {
   "display_name": "Python 3 (ipykernel)",
   "language": "python",
   "name": "python3"
  },
  "language_info": {
   "codemirror_mode": {
    "name": "ipython",
    "version": 3
   },
   "file_extension": ".py",
   "mimetype": "text/x-python",
   "name": "python",
   "nbconvert_exporter": "python",
   "pygments_lexer": "ipython3",
   "version": "3.8.3rc1"
  }
 },
 "nbformat": 4,
 "nbformat_minor": 5
}
