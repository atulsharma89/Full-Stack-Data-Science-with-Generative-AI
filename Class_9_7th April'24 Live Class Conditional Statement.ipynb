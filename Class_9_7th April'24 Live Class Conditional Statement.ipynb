{
 "cells": [
  {
   "cell_type": "code",
   "execution_count": 2,
   "id": "6e633460",
   "metadata": {},
   "outputs": [
    {
     "name": "stdout",
     "output_type": "stream",
     "text": [
      "the result is  14\n"
     ]
    }
   ],
   "source": [
    "a = 5\n",
    "b = 9\n",
    "add = a +b\n",
    "\n",
    "print(\"the result is \", add)"
   ]
  },
  {
   "cell_type": "code",
   "execution_count": 3,
   "id": "a6008fe3",
   "metadata": {},
   "outputs": [
    {
     "name": "stdout",
     "output_type": "stream",
     "text": [
      "the result is 14\n"
     ]
    }
   ],
   "source": [
    "print(\"the result is \" + str(add))"
   ]
  },
  {
   "cell_type": "code",
   "execution_count": 4,
   "id": "36a533cd",
   "metadata": {},
   "outputs": [
    {
     "name": "stdout",
     "output_type": "stream",
     "text": [
      "My first name is atul and my  last name is sharma and my age is 20\n"
     ]
    }
   ],
   "source": [
    "a = \"atul\"\n",
    "b=\"sharma\"\n",
    "age=20\n",
    "\n",
    "print(\"My first name is {} and my  last name is {} and my age is {}\".format(a,b,age))"
   ]
  },
  {
   "cell_type": "markdown",
   "id": "a02f10c2",
   "metadata": {},
   "source": [
    "# format specifiers\n",
    "\n",
    "%d   integer\n",
    "\n",
    "%s  String\n",
    "\n",
    "\n",
    "%i Integer\n",
    "\n",
    "%f  float"
   ]
  },
  {
   "cell_type": "code",
   "execution_count": 5,
   "id": "f4a498d4",
   "metadata": {},
   "outputs": [
    {
     "name": "stdout",
     "output_type": "stream",
     "text": [
      "my name is atul and my age is 20\n"
     ]
    }
   ],
   "source": [
    "print(\"my name is %s and my age is %d\"%(a,age))"
   ]
  },
  {
   "cell_type": "markdown",
   "id": "4193e04f",
   "metadata": {},
   "source": [
    "# .Format METHOD"
   ]
  },
  {
   "cell_type": "code",
   "execution_count": 6,
   "id": "9fc09e18",
   "metadata": {},
   "outputs": [
    {
     "name": "stdout",
     "output_type": "stream",
     "text": [
      "My first name is atul and my  last name is sharma and my age is 20\n"
     ]
    }
   ],
   "source": [
    "print(\"My first name is {} and my  last name is {} and my age is {}\".format(a,b,age))"
   ]
  },
  {
   "cell_type": "code",
   "execution_count": 7,
   "id": "6118fb76",
   "metadata": {},
   "outputs": [
    {
     "name": "stdout",
     "output_type": "stream",
     "text": [
      "My first name is atul and my  last name is sharma and my age is 20\n"
     ]
    }
   ],
   "source": [
    "print(\"My first name is {a1} and my  last name is {b1} and my age is {age1}\".format(a1=a,b1=b,age1=age))"
   ]
  },
  {
   "cell_type": "code",
   "execution_count": 9,
   "id": "cd6cf12c",
   "metadata": {},
   "outputs": [
    {
     "name": "stdout",
     "output_type": "stream",
     "text": [
      "My first name is atul and my  last name is sharma and my age is 20\n"
     ]
    }
   ],
   "source": [
    "print(\"My first name is {0} and my  last name is {1} and my age is {2}\".format(a,b,age))"
   ]
  },
  {
   "cell_type": "markdown",
   "id": "1ee6b710",
   "metadata": {},
   "source": [
    "# F - FORMAT"
   ]
  },
  {
   "cell_type": "code",
   "execution_count": 10,
   "id": "a83096f5",
   "metadata": {},
   "outputs": [
    {
     "name": "stdout",
     "output_type": "stream",
     "text": [
      "My first name is atul and my  last name is sharma and my age is 20\n"
     ]
    }
   ],
   "source": [
    "a1 = \"atul\"\n",
    "b1=\"sharma\"\n",
    "age1=20\n",
    "\n",
    "print(f\"My first name is {a1} and my  last name is {b1} and my age is {age1}\")"
   ]
  },
  {
   "cell_type": "code",
   "execution_count": 13,
   "id": "6f67c7c6",
   "metadata": {},
   "outputs": [
    {
     "name": "stdout",
     "output_type": "stream",
     "text": [
      "the number is 3.446000\n"
     ]
    }
   ],
   "source": [
    "a = 3.446\n",
    "\n",
    "print(\"the number is %f\"%(a))"
   ]
  },
  {
   "cell_type": "code",
   "execution_count": 14,
   "id": "454794fb",
   "metadata": {},
   "outputs": [
    {
     "name": "stdout",
     "output_type": "stream",
     "text": [
      "the number is 3.45\n"
     ]
    }
   ],
   "source": [
    "print(\"the number is %0.2f\"%(a))"
   ]
  },
  {
   "cell_type": "markdown",
   "id": "2fc6f12f",
   "metadata": {},
   "source": [
    "# Decision Control Statement\n",
    "\n",
    "# helps us to decide the flow of our program\n",
    "\n",
    "# if\n",
    "# if else\n",
    "# if elif else\n",
    "# nested if"
   ]
  },
  {
   "cell_type": "code",
   "execution_count": 15,
   "id": "3029bc76",
   "metadata": {},
   "outputs": [
    {
     "name": "stdout",
     "output_type": "stream",
     "text": [
      "I am hungry\n"
     ]
    }
   ],
   "source": [
    "hungry = True\n",
    "\n",
    "if hungry:\n",
    "    print(\"I am hungry\")"
   ]
  },
  {
   "cell_type": "code",
   "execution_count": 17,
   "id": "3f37f287",
   "metadata": {},
   "outputs": [
    {
     "name": "stdout",
     "output_type": "stream",
     "text": [
      "eat\n"
     ]
    }
   ],
   "source": [
    "hungry = 0\n",
    "\n",
    "if hungry:\n",
    "    print(\"I am hungry\")\n",
    "print(\"eat\")"
   ]
  },
  {
   "cell_type": "code",
   "execution_count": 18,
   "id": "ba16f023",
   "metadata": {},
   "outputs": [
    {
     "name": "stdout",
     "output_type": "stream",
     "text": [
      "not even\n"
     ]
    }
   ],
   "source": [
    "#wap toi check if a number is even or not\n",
    "\n",
    "a = 5\n",
    "\n",
    "if a%2==0:\n",
    "    print(\"even\")\n",
    "else:\n",
    "    print(\"not even\")"
   ]
  },
  {
   "cell_type": "code",
   "execution_count": 19,
   "id": "a7d0fbb1",
   "metadata": {},
   "outputs": [],
   "source": [
    "#wap TO TAKE A INPUT from user and show\n",
    "\n",
    "#A-Z : CAPITAL Letter\n",
    "# a-z small letter\n",
    "#0-9 number\n",
    "# special character"
   ]
  },
  {
   "cell_type": "code",
   "execution_count": 20,
   "id": "d0e7a167",
   "metadata": {},
   "outputs": [
    {
     "name": "stdout",
     "output_type": "stream",
     "text": [
      "Capital letter\n"
     ]
    }
   ],
   "source": [
    "char = 'a'\n",
    "asciivalue=ord(char)\n",
    "if asciivalue>=97 and asciivalue<(97+26-1):\n",
    "    print(\"Capital letter\")\n",
    "elif asciivalue>=65 and asciivalue<(65+26-1):\n",
    "    print(\"Small character\")\n",
    "elif asciivalue>=48 and asciivalue<(48+9):\n",
    "    print(\"its a digit\")\n",
    "else:\n",
    "    print(\"its a special character\")\n"
   ]
  },
  {
   "cell_type": "code",
   "execution_count": 21,
   "id": "48aad876",
   "metadata": {},
   "outputs": [
    {
     "name": "stdout",
     "output_type": "stream",
     "text": [
      "you are hungry\n",
      "order in\n"
     ]
    }
   ],
   "source": [
    "#nested if\n",
    "\n",
    "\n",
    "hungry=True\n",
    "money = 200\n",
    "\n",
    "if hungry:\n",
    "    print(\"you are hungry\")\n",
    "    if money>=400:\n",
    "        print(\"go to restro\")\n",
    "    elif money >=200 and money <400:\n",
    "        print(\"order in\")\n",
    "    else:\n",
    "        print(\"Sleep\")\n",
    "else:\n",
    "    print(\"you are not hungry\")\n",
    "    if money>0:\n",
    "        print(\"invet it\")\n",
    "    else:\n",
    "        print(\"sleep without investing\")"
   ]
  },
  {
   "cell_type": "code",
   "execution_count": 22,
   "id": "4078ee82",
   "metadata": {},
   "outputs": [
    {
     "data": {
      "text/plain": [
       "300"
      ]
     },
     "execution_count": 22,
     "metadata": {},
     "output_type": "execute_result"
    }
   ],
   "source": [
    "300%400"
   ]
  },
  {
   "cell_type": "code",
   "execution_count": null,
   "id": "e7d9c11f",
   "metadata": {},
   "outputs": [],
   "source": [
    "x = 7 \n",
    "if x < 5:\n",
    "    print('x is less than 5') \n",
    "elif x < 10: \n",
    "    print('x is less than 10') \n",
    "else: \n",
    "    print('x is greater than or equal to 10')"
   ]
  }
 ],
 "metadata": {
  "kernelspec": {
   "display_name": "Python 3 (ipykernel)",
   "language": "python",
   "name": "python3"
  },
  "language_info": {
   "codemirror_mode": {
    "name": "ipython",
    "version": 3
   },
   "file_extension": ".py",
   "mimetype": "text/x-python",
   "name": "python",
   "nbconvert_exporter": "python",
   "pygments_lexer": "ipython3",
   "version": "3.8.3rc1"
  }
 },
 "nbformat": 4,
 "nbformat_minor": 5
}
