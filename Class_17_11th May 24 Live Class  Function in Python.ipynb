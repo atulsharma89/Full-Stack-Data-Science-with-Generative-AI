{
 "cells": [
  {
   "cell_type": "code",
   "execution_count": 1,
   "id": "d118b330",
   "metadata": {},
   "outputs": [],
   "source": [
    "def odd_even(num):\n",
    "    \"\"\"\n",
    "    This function takes numbers as input and output as odd or evern\n",
    "    \"\"\"\n",
    "    if num%2==0:\n",
    "        return \"even\"\n",
    "    else:\n",
    "        return \"odd\""
   ]
  },
  {
   "cell_type": "code",
   "execution_count": 2,
   "id": "be47e7e8",
   "metadata": {},
   "outputs": [
    {
     "data": {
      "text/plain": [
       "'even'"
      ]
     },
     "execution_count": 2,
     "metadata": {},
     "output_type": "execute_result"
    }
   ],
   "source": [
    "odd_even(6)"
   ]
  },
  {
   "cell_type": "code",
   "execution_count": 3,
   "id": "bf25a7a0",
   "metadata": {},
   "outputs": [
    {
     "data": {
      "text/plain": [
       "'odd'"
      ]
     },
     "execution_count": 3,
     "metadata": {},
     "output_type": "execute_result"
    }
   ],
   "source": [
    "odd_even(3)"
   ]
  },
  {
   "cell_type": "code",
   "execution_count": 5,
   "id": "8858fcdb",
   "metadata": {},
   "outputs": [
    {
     "name": "stdout",
     "output_type": "stream",
     "text": [
      "\n",
      "    This function takes numbers as input and output as odd or evern\n",
      "    \n"
     ]
    }
   ],
   "source": [
    "print(odd_even.__doc__)"
   ]
  },
  {
   "cell_type": "code",
   "execution_count": 6,
   "id": "22b797ab",
   "metadata": {},
   "outputs": [],
   "source": [
    "def odd_even(num):\n",
    "    \"\"\"\n",
    "    This function takes numbers as input and output as odd or evern\n",
    "    \"\"\"\n",
    "    if type(num) == int:\n",
    "        if num%2==0:\n",
    "            return \"even\"\n",
    "        else:\n",
    "            return \"odd\"\n",
    "    else:\n",
    "        print(\"Please enter number data only\")"
   ]
  },
  {
   "cell_type": "code",
   "execution_count": 7,
   "id": "a00ac415",
   "metadata": {},
   "outputs": [
    {
     "name": "stdout",
     "output_type": "stream",
     "text": [
      "Please enter number data only\n"
     ]
    }
   ],
   "source": [
    "odd_even(\"atul\")"
   ]
  },
  {
   "cell_type": "code",
   "execution_count": 8,
   "id": "62f20202",
   "metadata": {},
   "outputs": [
    {
     "data": {
      "text/plain": [
       "'even'"
      ]
     },
     "execution_count": 8,
     "metadata": {},
     "output_type": "execute_result"
    }
   ],
   "source": [
    "odd_even(10)"
   ]
  },
  {
   "cell_type": "markdown",
   "id": "77d440a2",
   "metadata": {},
   "source": [
    "# Parameter versus Arguments"
   ]
  },
  {
   "cell_type": "code",
   "execution_count": null,
   "id": "8145a75b",
   "metadata": {},
   "outputs": [],
   "source": [
    "#def odd_even(num)\n",
    "\n",
    "#when we define function we call it as paramter\n",
    "\n",
    "# we call function (ANY INPUT IS GIVEN) we call it as argument "
   ]
  },
  {
   "cell_type": "markdown",
   "id": "a17834f3",
   "metadata": {},
   "source": [
    "# Types of Arguments\n",
    "\n",
    "1) Default Arguments\n",
    "\n",
    "2) Positional Arguments\n",
    "\n",
    "3) Keyword Arguments"
   ]
  },
  {
   "cell_type": "code",
   "execution_count": 15,
   "id": "a67109d7",
   "metadata": {},
   "outputs": [],
   "source": [
    "#Positional ARGUMENTS\n",
    "\n",
    "def power(a,b):\n",
    "    return a**b"
   ]
  },
  {
   "cell_type": "code",
   "execution_count": 16,
   "id": "6eed58c9",
   "metadata": {},
   "outputs": [
    {
     "data": {
      "text/plain": [
       "9"
      ]
     },
     "execution_count": 16,
     "metadata": {},
     "output_type": "execute_result"
    }
   ],
   "source": [
    "power(3,2)"
   ]
  },
  {
   "cell_type": "code",
   "execution_count": 17,
   "id": "88ae647f",
   "metadata": {},
   "outputs": [],
   "source": [
    "#Default arguments\n",
    "\n",
    "def power(a=2,b=5):\n",
    "    return a**b"
   ]
  },
  {
   "cell_type": "code",
   "execution_count": 18,
   "id": "b1400527",
   "metadata": {},
   "outputs": [
    {
     "data": {
      "text/plain": [
       "32"
      ]
     },
     "execution_count": 18,
     "metadata": {},
     "output_type": "execute_result"
    }
   ],
   "source": [
    "power()"
   ]
  },
  {
   "cell_type": "code",
   "execution_count": 19,
   "id": "5d05a896",
   "metadata": {},
   "outputs": [
    {
     "data": {
      "text/plain": [
       "27"
      ]
     },
     "execution_count": 19,
     "metadata": {},
     "output_type": "execute_result"
    }
   ],
   "source": [
    "power(3,3)"
   ]
  },
  {
   "cell_type": "code",
   "execution_count": 21,
   "id": "5a68acd5",
   "metadata": {},
   "outputs": [],
   "source": [
    "#keword arguments\n",
    "\n",
    "def power(a,b):\n",
    "    return a**b"
   ]
  },
  {
   "cell_type": "code",
   "execution_count": 22,
   "id": "8ceb75a7",
   "metadata": {},
   "outputs": [
    {
     "data": {
      "text/plain": [
       "729"
      ]
     },
     "execution_count": 22,
     "metadata": {},
     "output_type": "execute_result"
    }
   ],
   "source": [
    "power(3,6)"
   ]
  },
  {
   "cell_type": "code",
   "execution_count": 23,
   "id": "d5309c7d",
   "metadata": {},
   "outputs": [
    {
     "data": {
      "text/plain": [
       "729"
      ]
     },
     "execution_count": 23,
     "metadata": {},
     "output_type": "execute_result"
    }
   ],
   "source": [
    "power(b=6,a=3)"
   ]
  },
  {
   "cell_type": "markdown",
   "id": "9de4ba2d",
   "metadata": {},
   "source": [
    "# Args and Kwargs"
   ]
  },
  {
   "cell_type": "markdown",
   "id": "0910b736",
   "metadata": {},
   "source": [
    "# args\n",
    "\n",
    "#allow us to pass variable number of non keyword arguments to a function"
   ]
  },
  {
   "cell_type": "code",
   "execution_count": 24,
   "id": "c1d835a7",
   "metadata": {},
   "outputs": [],
   "source": [
    "def add(a,b):\n",
    "    return a+b"
   ]
  },
  {
   "cell_type": "code",
   "execution_count": 25,
   "id": "b8c3ccc7",
   "metadata": {},
   "outputs": [
    {
     "data": {
      "text/plain": [
       "11"
      ]
     },
     "execution_count": 25,
     "metadata": {},
     "output_type": "execute_result"
    }
   ],
   "source": [
    "add(3,8)"
   ]
  },
  {
   "cell_type": "code",
   "execution_count": 27,
   "id": "5f086a2a",
   "metadata": {},
   "outputs": [
    {
     "data": {
      "text/plain": [
       "6"
      ]
     },
     "execution_count": 27,
     "metadata": {},
     "output_type": "execute_result"
    }
   ],
   "source": [
    "def add(a,b,c):\n",
    "    return a+b+c\n",
    "add(1,2,3,)"
   ]
  },
  {
   "cell_type": "code",
   "execution_count": 28,
   "id": "3ae5a3da",
   "metadata": {},
   "outputs": [],
   "source": [
    "def add(*args):\n",
    "    output =0\n",
    "    for i in args:\n",
    "        output = output+i\n",
    "    return output"
   ]
  },
  {
   "cell_type": "code",
   "execution_count": 29,
   "id": "5d802ff5",
   "metadata": {},
   "outputs": [
    {
     "data": {
      "text/plain": [
       "43"
      ]
     },
     "execution_count": 29,
     "metadata": {},
     "output_type": "execute_result"
    }
   ],
   "source": [
    "add(2,3,34,4)"
   ]
  },
  {
   "cell_type": "markdown",
   "id": "3fc7bf89",
   "metadata": {},
   "source": [
    "# kwargs"
   ]
  },
  {
   "cell_type": "code",
   "execution_count": 30,
   "id": "5f261784",
   "metadata": {},
   "outputs": [],
   "source": [
    "#allow us to pass number of keword arguments"
   ]
  },
  {
   "cell_type": "code",
   "execution_count": 38,
   "id": "6aa1e6b4",
   "metadata": {},
   "outputs": [],
   "source": [
    "def display_info(**kwargs):\n",
    "    for (key,value) in kwargs.items() :\n",
    "        print(key, '->', value)\n",
    "        \n",
    "    print(kwargs)"
   ]
  },
  {
   "cell_type": "code",
   "execution_count": 39,
   "id": "5f5b25b8",
   "metadata": {},
   "outputs": [
    {
     "name": "stdout",
     "output_type": "stream",
     "text": [
      "name -> atul\n",
      "lastname -> sharma\n",
      "DOB -> Kota\n",
      "{'name': 'atul', 'lastname': 'sharma', 'DOB': 'Kota'}\n"
     ]
    }
   ],
   "source": [
    "display_info(name= \"atul\", lastname=\"sharma\", DOB= \"Kota\")"
   ]
  },
  {
   "cell_type": "markdown",
   "id": "dbcecff2",
   "metadata": {},
   "source": [
    "# Nested Function"
   ]
  },
  {
   "cell_type": "code",
   "execution_count": 40,
   "id": "631856b0",
   "metadata": {},
   "outputs": [],
   "source": [
    "#function inside function"
   ]
  },
  {
   "cell_type": "code",
   "execution_count": 42,
   "id": "e238eb3c",
   "metadata": {},
   "outputs": [],
   "source": [
    "def f():\n",
    "    def g():\n",
    "        print(\"inside function g\")\n",
    "    print(\"inside function f\")"
   ]
  },
  {
   "cell_type": "code",
   "execution_count": 43,
   "id": "a26bd2ac",
   "metadata": {},
   "outputs": [
    {
     "name": "stdout",
     "output_type": "stream",
     "text": [
      "inside function f\n"
     ]
    }
   ],
   "source": [
    "f()"
   ]
  },
  {
   "cell_type": "code",
   "execution_count": 44,
   "id": "8c32e57b",
   "metadata": {},
   "outputs": [],
   "source": [
    "def f():\n",
    "    def g():\n",
    "        print(\"inside function g\")\n",
    "    g()\n",
    "    print(\"inside function f\")"
   ]
  },
  {
   "cell_type": "code",
   "execution_count": 45,
   "id": "4abad65d",
   "metadata": {},
   "outputs": [
    {
     "name": "stdout",
     "output_type": "stream",
     "text": [
      "inside function g\n",
      "inside function f\n"
     ]
    }
   ],
   "source": [
    "f()"
   ]
  },
  {
   "cell_type": "code",
   "execution_count": 46,
   "id": "974bf42d",
   "metadata": {},
   "outputs": [],
   "source": [
    "#benefits of function\n",
    "\n",
    "\n",
    "# code reuability\n",
    "\n",
    "# code readbility\n",
    "\n",
    "# code modularity"
   ]
  },
  {
   "cell_type": "code",
   "execution_count": 47,
   "id": "a1301515",
   "metadata": {},
   "outputs": [],
   "source": [
    "# difference between print and return"
   ]
  },
  {
   "cell_type": "markdown",
   "id": "052500a0",
   "metadata": {},
   "source": [
    "# Lambda Function"
   ]
  },
  {
   "cell_type": "code",
   "execution_count": 49,
   "id": "769088fd",
   "metadata": {},
   "outputs": [],
   "source": [
    "# a small anonymous function\n",
    "\n",
    "# only one expression we can write in Lambda function"
   ]
  },
  {
   "cell_type": "code",
   "execution_count": 50,
   "id": "8f9fed04",
   "metadata": {},
   "outputs": [],
   "source": [
    "def product(a,b):\n",
    "    return a*b"
   ]
  },
  {
   "cell_type": "code",
   "execution_count": 51,
   "id": "2f5f8227",
   "metadata": {},
   "outputs": [
    {
     "data": {
      "text/plain": [
       "24"
      ]
     },
     "execution_count": 51,
     "metadata": {},
     "output_type": "execute_result"
    }
   ],
   "source": [
    "product(6,4)"
   ]
  },
  {
   "cell_type": "code",
   "execution_count": 52,
   "id": "6277a0a8",
   "metadata": {},
   "outputs": [],
   "source": [
    "c = lambda a,b: a*b"
   ]
  },
  {
   "cell_type": "code",
   "execution_count": 53,
   "id": "4f9a718a",
   "metadata": {},
   "outputs": [
    {
     "data": {
      "text/plain": [
       "9"
      ]
     },
     "execution_count": 53,
     "metadata": {},
     "output_type": "execute_result"
    }
   ],
   "source": [
    "c(3,3)"
   ]
  },
  {
   "cell_type": "code",
   "execution_count": 54,
   "id": "1b001422",
   "metadata": {},
   "outputs": [
    {
     "data": {
      "text/plain": [
       "False"
      ]
     },
     "execution_count": 54,
     "metadata": {},
     "output_type": "execute_result"
    }
   ],
   "source": [
    "a = lambda s: 'a' in s\n",
    "\n",
    "a(\"Hello\")"
   ]
  },
  {
   "cell_type": "code",
   "execution_count": 55,
   "id": "a77e7f81",
   "metadata": {},
   "outputs": [
    {
     "data": {
      "text/plain": [
       "True"
      ]
     },
     "execution_count": 55,
     "metadata": {},
     "output_type": "execute_result"
    }
   ],
   "source": [
    "\n",
    "a(\"aaaa\")"
   ]
  },
  {
   "cell_type": "code",
   "execution_count": 56,
   "id": "0748c6b9",
   "metadata": {},
   "outputs": [],
   "source": [
    "#odd and even function\n",
    "\n",
    "a = lambda x : 'even' if x%2==0 else 'odd'"
   ]
  },
  {
   "cell_type": "code",
   "execution_count": 57,
   "id": "c24a6460",
   "metadata": {},
   "outputs": [
    {
     "data": {
      "text/plain": [
       "'odd'"
      ]
     },
     "execution_count": 57,
     "metadata": {},
     "output_type": "execute_result"
    }
   ],
   "source": [
    "a(9)"
   ]
  },
  {
   "cell_type": "markdown",
   "id": "46044616",
   "metadata": {},
   "source": [
    "# Higher order function"
   ]
  },
  {
   "cell_type": "code",
   "execution_count": 59,
   "id": "e6547406",
   "metadata": {},
   "outputs": [],
   "source": [
    "def square(n):\n",
    "    return n**2"
   ]
  },
  {
   "cell_type": "code",
   "execution_count": 60,
   "id": "197ceb58",
   "metadata": {},
   "outputs": [
    {
     "data": {
      "text/plain": [
       "9"
      ]
     },
     "execution_count": 60,
     "metadata": {},
     "output_type": "execute_result"
    }
   ],
   "source": [
    "square(3)"
   ]
  },
  {
   "cell_type": "code",
   "execution_count": 62,
   "id": "154c2f55",
   "metadata": {},
   "outputs": [
    {
     "name": "stdout",
     "output_type": "stream",
     "text": [
      "1\n",
      "4\n",
      "9\n",
      "16\n"
     ]
    }
   ],
   "source": [
    "l = [1,2,3,4]\n",
    "\n",
    "for i in l:\n",
    "     print(square(i))"
   ]
  },
  {
   "cell_type": "code",
   "execution_count": 63,
   "id": "d8fb0b92",
   "metadata": {},
   "outputs": [],
   "source": [
    "l =[1,2,3,4,5]\n",
    "\n",
    "def transform(f,l):\n",
    "    output=[]\n",
    "    \n",
    "    for i in l:\n",
    "        output.append(f(i))\n",
    "    print(output)"
   ]
  },
  {
   "cell_type": "code",
   "execution_count": 64,
   "id": "44fb0628",
   "metadata": {},
   "outputs": [
    {
     "name": "stdout",
     "output_type": "stream",
     "text": [
      "[1, 4, 9, 16, 25]\n"
     ]
    }
   ],
   "source": [
    "transform(square,l)"
   ]
  },
  {
   "cell_type": "code",
   "execution_count": 65,
   "id": "028904b4",
   "metadata": {},
   "outputs": [
    {
     "name": "stdout",
     "output_type": "stream",
     "text": [
      "[1, 8, 27, 64, 125]\n"
     ]
    }
   ],
   "source": [
    "transform(lambda x:x**3,l)"
   ]
  },
  {
   "cell_type": "code",
   "execution_count": 66,
   "id": "b906f496",
   "metadata": {},
   "outputs": [
    {
     "name": "stdout",
     "output_type": "stream",
     "text": [
      "[1, 4, 9, 16, 25]\n"
     ]
    }
   ],
   "source": [
    "transform(lambda x:square(x), l)"
   ]
  },
  {
   "cell_type": "markdown",
   "id": "ff4ae57d",
   "metadata": {},
   "source": [
    "# Git commands"
   ]
  },
  {
   "cell_type": "code",
   "execution_count": 67,
   "id": "7f7dd6ea",
   "metadata": {},
   "outputs": [],
   "source": [
    "#create a repository on git server\n",
    "\n",
    "#clone the repository on local\n",
    "\n",
    "#git clone https://............\n",
    "\n",
    "# open this folder in vs code\n",
    "\n",
    "# create a code in folder\n",
    "\n",
    "# git add .\n",
    "\n",
    "# git commit -m \"test file added\"\n",
    "\n",
    "# git push origin main"
   ]
  },
  {
   "cell_type": "code",
   "execution_count": null,
   "id": "917d0203",
   "metadata": {},
   "outputs": [],
   "source": []
  }
 ],
 "metadata": {
  "kernelspec": {
   "display_name": "Python 3 (ipykernel)",
   "language": "python",
   "name": "python3"
  },
  "language_info": {
   "codemirror_mode": {
    "name": "ipython",
    "version": 3
   },
   "file_extension": ".py",
   "mimetype": "text/x-python",
   "name": "python",
   "nbconvert_exporter": "python",
   "pygments_lexer": "ipython3",
   "version": "3.8.3rc1"
  }
 },
 "nbformat": 4,
 "nbformat_minor": 5
}
